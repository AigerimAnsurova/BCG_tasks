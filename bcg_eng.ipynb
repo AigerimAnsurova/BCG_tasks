{
  "nbformat": 4,
  "nbformat_minor": 0,
  "metadata": {
    "colab": {
      "provenance": [],
      "collapsed_sections": [
        "cQJF7sY-4RMO"
      ]
    },
    "kernelspec": {
      "name": "python3",
      "display_name": "Python 3"
    },
    "language_info": {
      "name": "python"
    }
  },
  "cells": [
    {
      "cell_type": "markdown",
      "source": [
        "# **Import** **packages**"
      ],
      "metadata": {
        "id": "9zbBbPd3cvAr"
      }
    },
    {
      "cell_type": "code",
      "execution_count": null,
      "metadata": {
        "id": "D3CJ64bBa-WE"
      },
      "outputs": [],
      "source": [
        "import matplotlib.pyplot as plt\n",
        "import seaborn as sns\n",
        "import pandas as pd\n",
        "import numpy as np\n",
        "import missingno as msno\n",
        "from scipy.stats import zscore as zscore\n",
        "from sklearn.preprocessing import LabelEncoder\n",
        "\n",
        "# Shows plots in jupyter notebook\n",
        "%matplotlib inline\n",
        "\n",
        "# Set plot style\n",
        "sns.set(color_codes=True)"
      ]
    },
    {
      "cell_type": "markdown",
      "source": [
        "# **Exploratory Data Analysis and Cleaning**"
      ],
      "metadata": {
        "id": "bV9ocwVtfkDr"
      }
    },
    {
      "cell_type": "markdown",
      "source": [
        "# **client_data.csv**\n",
        "\n",
        "id = client company identifier\n",
        "\n",
        "activity_new = category of the company’s activity\n",
        "\n",
        "channel_sales = code of the sales channel\n",
        "\n",
        "cons_12m = electricity consumption of the past 12 months\n",
        "\n",
        "cons_gas_12m = gas consumption of the past 12 months\n",
        "\n",
        "cons_last_month = electricity consumption of the last month\n",
        "\n",
        "date_activ = date of activation of the contract\n",
        "\n",
        "date_end = registered date of the end of the contract\n",
        "\n",
        "date_modif_prod = date of the last modification of the product\n",
        "\n",
        "date_renewal = date of the next contract renewal\n",
        "\n",
        "forecast_cons_12m = forecasted electricity consumption for next 12 months\n",
        "\n",
        "forecast_cons_year = forecasted electricity consumption for the next calendar \n",
        "year\n",
        "\n",
        "forecast_discount_energy = forecasted value of current discount\n",
        "\n",
        "forecast_meter_rent_12m = forecasted bill of meter rental for the next 2 \n",
        "months\n",
        "\n",
        "forecast_price_energy_off_peak = forecasted energy price for 1st period (off \n",
        "peak)\n",
        "\n",
        "forecast_price_energy_peak = forecasted energy price for 2nd period (peak)\n",
        "\n",
        "forecast_price_pow_off_peak = forecasted power price for 1st period (off peak)\n",
        "\n",
        "has_gas = indicated if client is also a gas client\n",
        "\n",
        "imp_cons = current paid consumption\n",
        "\n",
        "margin_gross_pow_ele = gross margin on power subscription\n",
        "\n",
        "margin_net_pow_ele = net margin on power subscription\n",
        "\n",
        "nb_prod_act = number of active products and services\n",
        "\n",
        "net_margin = total net margin\n",
        "\n",
        "num_years_antig = antiquity of the client (in number of years)\n",
        "\n",
        "origin_up = code of the electricity campaign the customer first subscribed to\n",
        "\n",
        "pow_max = subscribed power\n",
        "\n",
        "churn = has the client churned over the next 3 months\n",
        "\n",
        "\n",
        "\n",
        "# **price_data.csv**\n",
        "\n",
        "\n",
        "\n",
        "id = client company identifier\n",
        "\n",
        "price_date = reference date\n",
        "\n",
        "price_off_peak_var = price of energy for the 1st period (off peak)\n",
        "\n",
        "price_peak_var = price of energy for the 2nd period (peak)\n",
        "\n",
        "price_mid_peak_var = price of energy for the 3rd period (mid peak)\n",
        "\n",
        "price_off_peak_fix = price of power for the 1st period (off peak)\n",
        "\n",
        "price_peak_fix = price of power for the 2nd period (peak)\n",
        "\n",
        "price_mid_peak_fix = price of power for the 3rd period (mid peak)\n",
        "\n",
        "\n",
        "\n",
        "## Note: some fields are hashed text strings. This preserves the privacy of the original data but the commercial meaning is retained and so they may have predictive power"
      ],
      "metadata": {
        "id": "OlFQvId5cLzV"
      }
    },
    {
      "cell_type": "markdown",
      "source": [],
      "metadata": {
        "id": "K7u6h0bVcszY"
      }
    },
    {
      "cell_type": "markdown",
      "source": [
        "## **Loading data with Pandas**\n",
        "\n",
        "We need to load client_data.csv and price_data.csv into individual dataframes so that we can work with them in Python. For this notebook and all further notebooks, it will be assumed that the CSV files will the placed in the same file location as the notebook. If they are not, please adjust the directory within the read_csv method accordingly."
      ],
      "metadata": {
        "id": "1HnGczApbOiP"
      }
    },
    {
      "cell_type": "code",
      "source": [
        "client_df = pd.read_csv('/content/client_data.csv')\n",
        "price_df = pd.read_csv('/content/price_data.csv')"
      ],
      "metadata": {
        "id": "_hou_-1NbA3H"
      },
      "execution_count": null,
      "outputs": []
    },
    {
      "cell_type": "markdown",
      "source": [
        "# Data Exploration"
      ],
      "metadata": {
        "id": "pXAbqBK5gvUW"
      }
    },
    {
      "cell_type": "markdown",
      "source": [
        "## Client Data"
      ],
      "metadata": {
        "id": "tA1qs1zpgy_h"
      }
    },
    {
      "cell_type": "code",
      "source": [
        "client_df.head()"
      ],
      "metadata": {
        "colab": {
          "base_uri": "https://localhost:8080/",
          "height": 386
        },
        "id": "bsidxKXErK5o",
        "outputId": "1ad96b13-54e8-4efd-8c20-6eba04f80fe8"
      },
      "execution_count": null,
      "outputs": [
        {
          "output_type": "execute_result",
          "data": {
            "text/plain": [
              "                                 id                     channel_sales  \\\n",
              "0  24011ae4ebbe3035111d65fa7c15bc57  foosdfpfkusacimwkcsosbicdxkicaua   \n",
              "1  d29c2c54acc38ff3c0614d0a653813dd                           MISSING   \n",
              "2  764c75f661154dac3a6c254cd082ea7d  foosdfpfkusacimwkcsosbicdxkicaua   \n",
              "3  bba03439a292a1e166f80264c16191cb  lmkebamcaaclubfxadlmueccxoimlema   \n",
              "4  149d57cf92fc41cf94415803a877cb4b                           MISSING   \n",
              "\n",
              "   cons_12m  cons_gas_12m  cons_last_month  date_activ    date_end  \\\n",
              "0         0         54946                0  2013-06-15  2016-06-15   \n",
              "1      4660             0                0  2009-08-21  2016-08-30   \n",
              "2       544             0                0  2010-04-16  2016-04-16   \n",
              "3      1584             0                0  2010-03-30  2016-03-30   \n",
              "4      4425             0              526  2010-01-13  2016-03-07   \n",
              "\n",
              "  date_modif_prod date_renewal  forecast_cons_12m  ...  has_gas  imp_cons  \\\n",
              "0      2015-11-01   2015-06-23               0.00  ...        t      0.00   \n",
              "1      2009-08-21   2015-08-31             189.95  ...        f      0.00   \n",
              "2      2010-04-16   2015-04-17              47.96  ...        f      0.00   \n",
              "3      2010-03-30   2015-03-31             240.04  ...        f      0.00   \n",
              "4      2010-01-13   2015-03-09             445.75  ...        f     52.32   \n",
              "\n",
              "   margin_gross_pow_ele  margin_net_pow_ele  nb_prod_act  net_margin  \\\n",
              "0                 25.44               25.44            2      678.99   \n",
              "1                 16.38               16.38            1       18.89   \n",
              "2                 28.60               28.60            1        6.60   \n",
              "3                 30.22               30.22            1       25.46   \n",
              "4                 44.91               44.91            1       47.98   \n",
              "\n",
              "  num_years_antig                         origin_up  pow_max  churn  \n",
              "0               3  lxidpiddsbxsbosboudacockeimpuepw   43.648      1  \n",
              "1               6  kamkkxfxxuwbdslkwifmmcsiusiuosws   13.800      0  \n",
              "2               6  kamkkxfxxuwbdslkwifmmcsiusiuosws   13.856      0  \n",
              "3               6  kamkkxfxxuwbdslkwifmmcsiusiuosws   13.200      0  \n",
              "4               6  kamkkxfxxuwbdslkwifmmcsiusiuosws   19.800      0  \n",
              "\n",
              "[5 rows x 26 columns]"
            ],
            "text/html": [
              "\n",
              "  <div id=\"df-2b43c500-2314-4aa4-8c4c-b272a06ee2d4\">\n",
              "    <div class=\"colab-df-container\">\n",
              "      <div>\n",
              "<style scoped>\n",
              "    .dataframe tbody tr th:only-of-type {\n",
              "        vertical-align: middle;\n",
              "    }\n",
              "\n",
              "    .dataframe tbody tr th {\n",
              "        vertical-align: top;\n",
              "    }\n",
              "\n",
              "    .dataframe thead th {\n",
              "        text-align: right;\n",
              "    }\n",
              "</style>\n",
              "<table border=\"1\" class=\"dataframe\">\n",
              "  <thead>\n",
              "    <tr style=\"text-align: right;\">\n",
              "      <th></th>\n",
              "      <th>id</th>\n",
              "      <th>channel_sales</th>\n",
              "      <th>cons_12m</th>\n",
              "      <th>cons_gas_12m</th>\n",
              "      <th>cons_last_month</th>\n",
              "      <th>date_activ</th>\n",
              "      <th>date_end</th>\n",
              "      <th>date_modif_prod</th>\n",
              "      <th>date_renewal</th>\n",
              "      <th>forecast_cons_12m</th>\n",
              "      <th>...</th>\n",
              "      <th>has_gas</th>\n",
              "      <th>imp_cons</th>\n",
              "      <th>margin_gross_pow_ele</th>\n",
              "      <th>margin_net_pow_ele</th>\n",
              "      <th>nb_prod_act</th>\n",
              "      <th>net_margin</th>\n",
              "      <th>num_years_antig</th>\n",
              "      <th>origin_up</th>\n",
              "      <th>pow_max</th>\n",
              "      <th>churn</th>\n",
              "    </tr>\n",
              "  </thead>\n",
              "  <tbody>\n",
              "    <tr>\n",
              "      <th>0</th>\n",
              "      <td>24011ae4ebbe3035111d65fa7c15bc57</td>\n",
              "      <td>foosdfpfkusacimwkcsosbicdxkicaua</td>\n",
              "      <td>0</td>\n",
              "      <td>54946</td>\n",
              "      <td>0</td>\n",
              "      <td>2013-06-15</td>\n",
              "      <td>2016-06-15</td>\n",
              "      <td>2015-11-01</td>\n",
              "      <td>2015-06-23</td>\n",
              "      <td>0.00</td>\n",
              "      <td>...</td>\n",
              "      <td>t</td>\n",
              "      <td>0.00</td>\n",
              "      <td>25.44</td>\n",
              "      <td>25.44</td>\n",
              "      <td>2</td>\n",
              "      <td>678.99</td>\n",
              "      <td>3</td>\n",
              "      <td>lxidpiddsbxsbosboudacockeimpuepw</td>\n",
              "      <td>43.648</td>\n",
              "      <td>1</td>\n",
              "    </tr>\n",
              "    <tr>\n",
              "      <th>1</th>\n",
              "      <td>d29c2c54acc38ff3c0614d0a653813dd</td>\n",
              "      <td>MISSING</td>\n",
              "      <td>4660</td>\n",
              "      <td>0</td>\n",
              "      <td>0</td>\n",
              "      <td>2009-08-21</td>\n",
              "      <td>2016-08-30</td>\n",
              "      <td>2009-08-21</td>\n",
              "      <td>2015-08-31</td>\n",
              "      <td>189.95</td>\n",
              "      <td>...</td>\n",
              "      <td>f</td>\n",
              "      <td>0.00</td>\n",
              "      <td>16.38</td>\n",
              "      <td>16.38</td>\n",
              "      <td>1</td>\n",
              "      <td>18.89</td>\n",
              "      <td>6</td>\n",
              "      <td>kamkkxfxxuwbdslkwifmmcsiusiuosws</td>\n",
              "      <td>13.800</td>\n",
              "      <td>0</td>\n",
              "    </tr>\n",
              "    <tr>\n",
              "      <th>2</th>\n",
              "      <td>764c75f661154dac3a6c254cd082ea7d</td>\n",
              "      <td>foosdfpfkusacimwkcsosbicdxkicaua</td>\n",
              "      <td>544</td>\n",
              "      <td>0</td>\n",
              "      <td>0</td>\n",
              "      <td>2010-04-16</td>\n",
              "      <td>2016-04-16</td>\n",
              "      <td>2010-04-16</td>\n",
              "      <td>2015-04-17</td>\n",
              "      <td>47.96</td>\n",
              "      <td>...</td>\n",
              "      <td>f</td>\n",
              "      <td>0.00</td>\n",
              "      <td>28.60</td>\n",
              "      <td>28.60</td>\n",
              "      <td>1</td>\n",
              "      <td>6.60</td>\n",
              "      <td>6</td>\n",
              "      <td>kamkkxfxxuwbdslkwifmmcsiusiuosws</td>\n",
              "      <td>13.856</td>\n",
              "      <td>0</td>\n",
              "    </tr>\n",
              "    <tr>\n",
              "      <th>3</th>\n",
              "      <td>bba03439a292a1e166f80264c16191cb</td>\n",
              "      <td>lmkebamcaaclubfxadlmueccxoimlema</td>\n",
              "      <td>1584</td>\n",
              "      <td>0</td>\n",
              "      <td>0</td>\n",
              "      <td>2010-03-30</td>\n",
              "      <td>2016-03-30</td>\n",
              "      <td>2010-03-30</td>\n",
              "      <td>2015-03-31</td>\n",
              "      <td>240.04</td>\n",
              "      <td>...</td>\n",
              "      <td>f</td>\n",
              "      <td>0.00</td>\n",
              "      <td>30.22</td>\n",
              "      <td>30.22</td>\n",
              "      <td>1</td>\n",
              "      <td>25.46</td>\n",
              "      <td>6</td>\n",
              "      <td>kamkkxfxxuwbdslkwifmmcsiusiuosws</td>\n",
              "      <td>13.200</td>\n",
              "      <td>0</td>\n",
              "    </tr>\n",
              "    <tr>\n",
              "      <th>4</th>\n",
              "      <td>149d57cf92fc41cf94415803a877cb4b</td>\n",
              "      <td>MISSING</td>\n",
              "      <td>4425</td>\n",
              "      <td>0</td>\n",
              "      <td>526</td>\n",
              "      <td>2010-01-13</td>\n",
              "      <td>2016-03-07</td>\n",
              "      <td>2010-01-13</td>\n",
              "      <td>2015-03-09</td>\n",
              "      <td>445.75</td>\n",
              "      <td>...</td>\n",
              "      <td>f</td>\n",
              "      <td>52.32</td>\n",
              "      <td>44.91</td>\n",
              "      <td>44.91</td>\n",
              "      <td>1</td>\n",
              "      <td>47.98</td>\n",
              "      <td>6</td>\n",
              "      <td>kamkkxfxxuwbdslkwifmmcsiusiuosws</td>\n",
              "      <td>19.800</td>\n",
              "      <td>0</td>\n",
              "    </tr>\n",
              "  </tbody>\n",
              "</table>\n",
              "<p>5 rows × 26 columns</p>\n",
              "</div>\n",
              "      <button class=\"colab-df-convert\" onclick=\"convertToInteractive('df-2b43c500-2314-4aa4-8c4c-b272a06ee2d4')\"\n",
              "              title=\"Convert this dataframe to an interactive table.\"\n",
              "              style=\"display:none;\">\n",
              "        \n",
              "  <svg xmlns=\"http://www.w3.org/2000/svg\" height=\"24px\"viewBox=\"0 0 24 24\"\n",
              "       width=\"24px\">\n",
              "    <path d=\"M0 0h24v24H0V0z\" fill=\"none\"/>\n",
              "    <path d=\"M18.56 5.44l.94 2.06.94-2.06 2.06-.94-2.06-.94-.94-2.06-.94 2.06-2.06.94zm-11 1L8.5 8.5l.94-2.06 2.06-.94-2.06-.94L8.5 2.5l-.94 2.06-2.06.94zm10 10l.94 2.06.94-2.06 2.06-.94-2.06-.94-.94-2.06-.94 2.06-2.06.94z\"/><path d=\"M17.41 7.96l-1.37-1.37c-.4-.4-.92-.59-1.43-.59-.52 0-1.04.2-1.43.59L10.3 9.45l-7.72 7.72c-.78.78-.78 2.05 0 2.83L4 21.41c.39.39.9.59 1.41.59.51 0 1.02-.2 1.41-.59l7.78-7.78 2.81-2.81c.8-.78.8-2.07 0-2.86zM5.41 20L4 18.59l7.72-7.72 1.47 1.35L5.41 20z\"/>\n",
              "  </svg>\n",
              "      </button>\n",
              "      \n",
              "  <style>\n",
              "    .colab-df-container {\n",
              "      display:flex;\n",
              "      flex-wrap:wrap;\n",
              "      gap: 12px;\n",
              "    }\n",
              "\n",
              "    .colab-df-convert {\n",
              "      background-color: #E8F0FE;\n",
              "      border: none;\n",
              "      border-radius: 50%;\n",
              "      cursor: pointer;\n",
              "      display: none;\n",
              "      fill: #1967D2;\n",
              "      height: 32px;\n",
              "      padding: 0 0 0 0;\n",
              "      width: 32px;\n",
              "    }\n",
              "\n",
              "    .colab-df-convert:hover {\n",
              "      background-color: #E2EBFA;\n",
              "      box-shadow: 0px 1px 2px rgba(60, 64, 67, 0.3), 0px 1px 3px 1px rgba(60, 64, 67, 0.15);\n",
              "      fill: #174EA6;\n",
              "    }\n",
              "\n",
              "    [theme=dark] .colab-df-convert {\n",
              "      background-color: #3B4455;\n",
              "      fill: #D2E3FC;\n",
              "    }\n",
              "\n",
              "    [theme=dark] .colab-df-convert:hover {\n",
              "      background-color: #434B5C;\n",
              "      box-shadow: 0px 1px 3px 1px rgba(0, 0, 0, 0.15);\n",
              "      filter: drop-shadow(0px 1px 2px rgba(0, 0, 0, 0.3));\n",
              "      fill: #FFFFFF;\n",
              "    }\n",
              "  </style>\n",
              "\n",
              "      <script>\n",
              "        const buttonEl =\n",
              "          document.querySelector('#df-2b43c500-2314-4aa4-8c4c-b272a06ee2d4 button.colab-df-convert');\n",
              "        buttonEl.style.display =\n",
              "          google.colab.kernel.accessAllowed ? 'block' : 'none';\n",
              "\n",
              "        async function convertToInteractive(key) {\n",
              "          const element = document.querySelector('#df-2b43c500-2314-4aa4-8c4c-b272a06ee2d4');\n",
              "          const dataTable =\n",
              "            await google.colab.kernel.invokeFunction('convertToInteractive',\n",
              "                                                     [key], {});\n",
              "          if (!dataTable) return;\n",
              "\n",
              "          const docLinkHtml = 'Like what you see? Visit the ' +\n",
              "            '<a target=\"_blank\" href=https://colab.research.google.com/notebooks/data_table.ipynb>data table notebook</a>'\n",
              "            + ' to learn more about interactive tables.';\n",
              "          element.innerHTML = '';\n",
              "          dataTable['output_type'] = 'display_data';\n",
              "          await google.colab.output.renderOutput(dataTable, element);\n",
              "          const docLink = document.createElement('div');\n",
              "          docLink.innerHTML = docLinkHtml;\n",
              "          element.appendChild(docLink);\n",
              "        }\n",
              "      </script>\n",
              "    </div>\n",
              "  </div>\n",
              "  "
            ]
          },
          "metadata": {},
          "execution_count": 86
        }
      ]
    },
    {
      "cell_type": "code",
      "source": [
        "#the structure of the dataframe\n",
        "client_df.info()"
      ],
      "metadata": {
        "colab": {
          "base_uri": "https://localhost:8080/"
        },
        "id": "nir5vjlRrPAB",
        "outputId": "805d8afd-5909-4ce3-9d66-8adb6d608735"
      },
      "execution_count": null,
      "outputs": [
        {
          "output_type": "stream",
          "name": "stdout",
          "text": [
            "<class 'pandas.core.frame.DataFrame'>\n",
            "RangeIndex: 14606 entries, 0 to 14605\n",
            "Data columns (total 26 columns):\n",
            " #   Column                          Non-Null Count  Dtype  \n",
            "---  ------                          --------------  -----  \n",
            " 0   id                              14606 non-null  object \n",
            " 1   channel_sales                   14606 non-null  object \n",
            " 2   cons_12m                        14606 non-null  int64  \n",
            " 3   cons_gas_12m                    14606 non-null  int64  \n",
            " 4   cons_last_month                 14606 non-null  int64  \n",
            " 5   date_activ                      14606 non-null  object \n",
            " 6   date_end                        14606 non-null  object \n",
            " 7   date_modif_prod                 14606 non-null  object \n",
            " 8   date_renewal                    14606 non-null  object \n",
            " 9   forecast_cons_12m               14606 non-null  float64\n",
            " 10  forecast_cons_year              14606 non-null  int64  \n",
            " 11  forecast_discount_energy        14606 non-null  float64\n",
            " 12  forecast_meter_rent_12m         14606 non-null  float64\n",
            " 13  forecast_price_energy_off_peak  14606 non-null  float64\n",
            " 14  forecast_price_energy_peak      14606 non-null  float64\n",
            " 15  forecast_price_pow_off_peak     14606 non-null  float64\n",
            " 16  has_gas                         14606 non-null  object \n",
            " 17  imp_cons                        14606 non-null  float64\n",
            " 18  margin_gross_pow_ele            14606 non-null  float64\n",
            " 19  margin_net_pow_ele              14606 non-null  float64\n",
            " 20  nb_prod_act                     14606 non-null  int64  \n",
            " 21  net_margin                      14606 non-null  float64\n",
            " 22  num_years_antig                 14606 non-null  int64  \n",
            " 23  origin_up                       14606 non-null  object \n",
            " 24  pow_max                         14606 non-null  float64\n",
            " 25  churn                           14606 non-null  int64  \n",
            "dtypes: float64(11), int64(7), object(8)\n",
            "memory usage: 2.9+ MB\n"
          ]
        }
      ]
    },
    {
      "cell_type": "code",
      "source": [
        "#Total Missing Values\n",
        "client_df.isnull().sum()"
      ],
      "metadata": {
        "colab": {
          "base_uri": "https://localhost:8080/"
        },
        "id": "7zr4IW0irWaE",
        "outputId": "6a90f4c1-3062-492b-8fe5-0e9c681ae74b"
      },
      "execution_count": null,
      "outputs": [
        {
          "output_type": "execute_result",
          "data": {
            "text/plain": [
              "id                                0\n",
              "channel_sales                     0\n",
              "cons_12m                          0\n",
              "cons_gas_12m                      0\n",
              "cons_last_month                   0\n",
              "date_activ                        0\n",
              "date_end                          0\n",
              "date_modif_prod                   0\n",
              "date_renewal                      0\n",
              "forecast_cons_12m                 0\n",
              "forecast_cons_year                0\n",
              "forecast_discount_energy          0\n",
              "forecast_meter_rent_12m           0\n",
              "forecast_price_energy_off_peak    0\n",
              "forecast_price_energy_peak        0\n",
              "forecast_price_pow_off_peak       0\n",
              "has_gas                           0\n",
              "imp_cons                          0\n",
              "margin_gross_pow_ele              0\n",
              "margin_net_pow_ele                0\n",
              "nb_prod_act                       0\n",
              "net_margin                        0\n",
              "num_years_antig                   0\n",
              "origin_up                         0\n",
              "pow_max                           0\n",
              "churn                             0\n",
              "dtype: int64"
            ]
          },
          "metadata": {},
          "execution_count": 88
        }
      ]
    },
    {
      "cell_type": "code",
      "source": [
        "#the descriptive statistics of the client dataframe\n",
        "client_df.describe()"
      ],
      "metadata": {
        "colab": {
          "base_uri": "https://localhost:8080/",
          "height": 364
        },
        "id": "9FJyB6pjrkpp",
        "outputId": "cfd8c1e7-cf46-42d0-8609-3986a86ea6f6"
      },
      "execution_count": null,
      "outputs": [
        {
          "output_type": "execute_result",
          "data": {
            "text/plain": [
              "           cons_12m  cons_gas_12m  cons_last_month  forecast_cons_12m  \\\n",
              "count  1.460600e+04  1.460600e+04     14606.000000       14606.000000   \n",
              "mean   1.592203e+05  2.809238e+04     16090.269752        1868.614880   \n",
              "std    5.734653e+05  1.629731e+05     64364.196422        2387.571531   \n",
              "min    0.000000e+00  0.000000e+00         0.000000           0.000000   \n",
              "25%    5.674750e+03  0.000000e+00         0.000000         494.995000   \n",
              "50%    1.411550e+04  0.000000e+00       792.500000        1112.875000   \n",
              "75%    4.076375e+04  0.000000e+00      3383.000000        2401.790000   \n",
              "max    6.207104e+06  4.154590e+06    771203.000000       82902.830000   \n",
              "\n",
              "       forecast_cons_year  forecast_discount_energy  forecast_meter_rent_12m  \\\n",
              "count        14606.000000              14606.000000             14606.000000   \n",
              "mean          1399.762906                  0.966726                63.086871   \n",
              "std           3247.786255                  5.108289                66.165783   \n",
              "min              0.000000                  0.000000                 0.000000   \n",
              "25%              0.000000                  0.000000                16.180000   \n",
              "50%            314.000000                  0.000000                18.795000   \n",
              "75%           1745.750000                  0.000000               131.030000   \n",
              "max         175375.000000                 30.000000               599.310000   \n",
              "\n",
              "       forecast_price_energy_off_peak  forecast_price_energy_peak  \\\n",
              "count                    14606.000000                14606.000000   \n",
              "mean                         0.137283                    0.050491   \n",
              "std                          0.024623                    0.049037   \n",
              "min                          0.000000                    0.000000   \n",
              "25%                          0.116340                    0.000000   \n",
              "50%                          0.143166                    0.084138   \n",
              "75%                          0.146348                    0.098837   \n",
              "max                          0.273963                    0.195975   \n",
              "\n",
              "       forecast_price_pow_off_peak      imp_cons  margin_gross_pow_ele  \\\n",
              "count                 14606.000000  14606.000000          14606.000000   \n",
              "mean                     43.130056    152.786896             24.565121   \n",
              "std                       4.485988    341.369366             20.231172   \n",
              "min                       0.000000      0.000000              0.000000   \n",
              "25%                      40.606701      0.000000             14.280000   \n",
              "50%                      44.311378     37.395000             21.640000   \n",
              "75%                      44.311378    193.980000             29.880000   \n",
              "max                      59.266378  15042.790000            374.640000   \n",
              "\n",
              "       margin_net_pow_ele   nb_prod_act    net_margin  num_years_antig  \\\n",
              "count        14606.000000  14606.000000  14606.000000     14606.000000   \n",
              "mean            24.562517      1.292346    189.264522         4.997809   \n",
              "std             20.230280      0.709774    311.798130         1.611749   \n",
              "min              0.000000      1.000000      0.000000         1.000000   \n",
              "25%             14.280000      1.000000     50.712500         4.000000   \n",
              "50%             21.640000      1.000000    112.530000         5.000000   \n",
              "75%             29.880000      1.000000    243.097500         6.000000   \n",
              "max            374.640000     32.000000  24570.650000        13.000000   \n",
              "\n",
              "            pow_max         churn  \n",
              "count  14606.000000  14606.000000  \n",
              "mean      18.135136      0.097152  \n",
              "std       13.534743      0.296175  \n",
              "min        3.300000      0.000000  \n",
              "25%       12.500000      0.000000  \n",
              "50%       13.856000      0.000000  \n",
              "75%       19.172500      0.000000  \n",
              "max      320.000000      1.000000  "
            ],
            "text/html": [
              "\n",
              "  <div id=\"df-206d979f-2e11-4164-9a65-5f60fa5c943c\">\n",
              "    <div class=\"colab-df-container\">\n",
              "      <div>\n",
              "<style scoped>\n",
              "    .dataframe tbody tr th:only-of-type {\n",
              "        vertical-align: middle;\n",
              "    }\n",
              "\n",
              "    .dataframe tbody tr th {\n",
              "        vertical-align: top;\n",
              "    }\n",
              "\n",
              "    .dataframe thead th {\n",
              "        text-align: right;\n",
              "    }\n",
              "</style>\n",
              "<table border=\"1\" class=\"dataframe\">\n",
              "  <thead>\n",
              "    <tr style=\"text-align: right;\">\n",
              "      <th></th>\n",
              "      <th>cons_12m</th>\n",
              "      <th>cons_gas_12m</th>\n",
              "      <th>cons_last_month</th>\n",
              "      <th>forecast_cons_12m</th>\n",
              "      <th>forecast_cons_year</th>\n",
              "      <th>forecast_discount_energy</th>\n",
              "      <th>forecast_meter_rent_12m</th>\n",
              "      <th>forecast_price_energy_off_peak</th>\n",
              "      <th>forecast_price_energy_peak</th>\n",
              "      <th>forecast_price_pow_off_peak</th>\n",
              "      <th>imp_cons</th>\n",
              "      <th>margin_gross_pow_ele</th>\n",
              "      <th>margin_net_pow_ele</th>\n",
              "      <th>nb_prod_act</th>\n",
              "      <th>net_margin</th>\n",
              "      <th>num_years_antig</th>\n",
              "      <th>pow_max</th>\n",
              "      <th>churn</th>\n",
              "    </tr>\n",
              "  </thead>\n",
              "  <tbody>\n",
              "    <tr>\n",
              "      <th>count</th>\n",
              "      <td>1.460600e+04</td>\n",
              "      <td>1.460600e+04</td>\n",
              "      <td>14606.000000</td>\n",
              "      <td>14606.000000</td>\n",
              "      <td>14606.000000</td>\n",
              "      <td>14606.000000</td>\n",
              "      <td>14606.000000</td>\n",
              "      <td>14606.000000</td>\n",
              "      <td>14606.000000</td>\n",
              "      <td>14606.000000</td>\n",
              "      <td>14606.000000</td>\n",
              "      <td>14606.000000</td>\n",
              "      <td>14606.000000</td>\n",
              "      <td>14606.000000</td>\n",
              "      <td>14606.000000</td>\n",
              "      <td>14606.000000</td>\n",
              "      <td>14606.000000</td>\n",
              "      <td>14606.000000</td>\n",
              "    </tr>\n",
              "    <tr>\n",
              "      <th>mean</th>\n",
              "      <td>1.592203e+05</td>\n",
              "      <td>2.809238e+04</td>\n",
              "      <td>16090.269752</td>\n",
              "      <td>1868.614880</td>\n",
              "      <td>1399.762906</td>\n",
              "      <td>0.966726</td>\n",
              "      <td>63.086871</td>\n",
              "      <td>0.137283</td>\n",
              "      <td>0.050491</td>\n",
              "      <td>43.130056</td>\n",
              "      <td>152.786896</td>\n",
              "      <td>24.565121</td>\n",
              "      <td>24.562517</td>\n",
              "      <td>1.292346</td>\n",
              "      <td>189.264522</td>\n",
              "      <td>4.997809</td>\n",
              "      <td>18.135136</td>\n",
              "      <td>0.097152</td>\n",
              "    </tr>\n",
              "    <tr>\n",
              "      <th>std</th>\n",
              "      <td>5.734653e+05</td>\n",
              "      <td>1.629731e+05</td>\n",
              "      <td>64364.196422</td>\n",
              "      <td>2387.571531</td>\n",
              "      <td>3247.786255</td>\n",
              "      <td>5.108289</td>\n",
              "      <td>66.165783</td>\n",
              "      <td>0.024623</td>\n",
              "      <td>0.049037</td>\n",
              "      <td>4.485988</td>\n",
              "      <td>341.369366</td>\n",
              "      <td>20.231172</td>\n",
              "      <td>20.230280</td>\n",
              "      <td>0.709774</td>\n",
              "      <td>311.798130</td>\n",
              "      <td>1.611749</td>\n",
              "      <td>13.534743</td>\n",
              "      <td>0.296175</td>\n",
              "    </tr>\n",
              "    <tr>\n",
              "      <th>min</th>\n",
              "      <td>0.000000e+00</td>\n",
              "      <td>0.000000e+00</td>\n",
              "      <td>0.000000</td>\n",
              "      <td>0.000000</td>\n",
              "      <td>0.000000</td>\n",
              "      <td>0.000000</td>\n",
              "      <td>0.000000</td>\n",
              "      <td>0.000000</td>\n",
              "      <td>0.000000</td>\n",
              "      <td>0.000000</td>\n",
              "      <td>0.000000</td>\n",
              "      <td>0.000000</td>\n",
              "      <td>0.000000</td>\n",
              "      <td>1.000000</td>\n",
              "      <td>0.000000</td>\n",
              "      <td>1.000000</td>\n",
              "      <td>3.300000</td>\n",
              "      <td>0.000000</td>\n",
              "    </tr>\n",
              "    <tr>\n",
              "      <th>25%</th>\n",
              "      <td>5.674750e+03</td>\n",
              "      <td>0.000000e+00</td>\n",
              "      <td>0.000000</td>\n",
              "      <td>494.995000</td>\n",
              "      <td>0.000000</td>\n",
              "      <td>0.000000</td>\n",
              "      <td>16.180000</td>\n",
              "      <td>0.116340</td>\n",
              "      <td>0.000000</td>\n",
              "      <td>40.606701</td>\n",
              "      <td>0.000000</td>\n",
              "      <td>14.280000</td>\n",
              "      <td>14.280000</td>\n",
              "      <td>1.000000</td>\n",
              "      <td>50.712500</td>\n",
              "      <td>4.000000</td>\n",
              "      <td>12.500000</td>\n",
              "      <td>0.000000</td>\n",
              "    </tr>\n",
              "    <tr>\n",
              "      <th>50%</th>\n",
              "      <td>1.411550e+04</td>\n",
              "      <td>0.000000e+00</td>\n",
              "      <td>792.500000</td>\n",
              "      <td>1112.875000</td>\n",
              "      <td>314.000000</td>\n",
              "      <td>0.000000</td>\n",
              "      <td>18.795000</td>\n",
              "      <td>0.143166</td>\n",
              "      <td>0.084138</td>\n",
              "      <td>44.311378</td>\n",
              "      <td>37.395000</td>\n",
              "      <td>21.640000</td>\n",
              "      <td>21.640000</td>\n",
              "      <td>1.000000</td>\n",
              "      <td>112.530000</td>\n",
              "      <td>5.000000</td>\n",
              "      <td>13.856000</td>\n",
              "      <td>0.000000</td>\n",
              "    </tr>\n",
              "    <tr>\n",
              "      <th>75%</th>\n",
              "      <td>4.076375e+04</td>\n",
              "      <td>0.000000e+00</td>\n",
              "      <td>3383.000000</td>\n",
              "      <td>2401.790000</td>\n",
              "      <td>1745.750000</td>\n",
              "      <td>0.000000</td>\n",
              "      <td>131.030000</td>\n",
              "      <td>0.146348</td>\n",
              "      <td>0.098837</td>\n",
              "      <td>44.311378</td>\n",
              "      <td>193.980000</td>\n",
              "      <td>29.880000</td>\n",
              "      <td>29.880000</td>\n",
              "      <td>1.000000</td>\n",
              "      <td>243.097500</td>\n",
              "      <td>6.000000</td>\n",
              "      <td>19.172500</td>\n",
              "      <td>0.000000</td>\n",
              "    </tr>\n",
              "    <tr>\n",
              "      <th>max</th>\n",
              "      <td>6.207104e+06</td>\n",
              "      <td>4.154590e+06</td>\n",
              "      <td>771203.000000</td>\n",
              "      <td>82902.830000</td>\n",
              "      <td>175375.000000</td>\n",
              "      <td>30.000000</td>\n",
              "      <td>599.310000</td>\n",
              "      <td>0.273963</td>\n",
              "      <td>0.195975</td>\n",
              "      <td>59.266378</td>\n",
              "      <td>15042.790000</td>\n",
              "      <td>374.640000</td>\n",
              "      <td>374.640000</td>\n",
              "      <td>32.000000</td>\n",
              "      <td>24570.650000</td>\n",
              "      <td>13.000000</td>\n",
              "      <td>320.000000</td>\n",
              "      <td>1.000000</td>\n",
              "    </tr>\n",
              "  </tbody>\n",
              "</table>\n",
              "</div>\n",
              "      <button class=\"colab-df-convert\" onclick=\"convertToInteractive('df-206d979f-2e11-4164-9a65-5f60fa5c943c')\"\n",
              "              title=\"Convert this dataframe to an interactive table.\"\n",
              "              style=\"display:none;\">\n",
              "        \n",
              "  <svg xmlns=\"http://www.w3.org/2000/svg\" height=\"24px\"viewBox=\"0 0 24 24\"\n",
              "       width=\"24px\">\n",
              "    <path d=\"M0 0h24v24H0V0z\" fill=\"none\"/>\n",
              "    <path d=\"M18.56 5.44l.94 2.06.94-2.06 2.06-.94-2.06-.94-.94-2.06-.94 2.06-2.06.94zm-11 1L8.5 8.5l.94-2.06 2.06-.94-2.06-.94L8.5 2.5l-.94 2.06-2.06.94zm10 10l.94 2.06.94-2.06 2.06-.94-2.06-.94-.94-2.06-.94 2.06-2.06.94z\"/><path d=\"M17.41 7.96l-1.37-1.37c-.4-.4-.92-.59-1.43-.59-.52 0-1.04.2-1.43.59L10.3 9.45l-7.72 7.72c-.78.78-.78 2.05 0 2.83L4 21.41c.39.39.9.59 1.41.59.51 0 1.02-.2 1.41-.59l7.78-7.78 2.81-2.81c.8-.78.8-2.07 0-2.86zM5.41 20L4 18.59l7.72-7.72 1.47 1.35L5.41 20z\"/>\n",
              "  </svg>\n",
              "      </button>\n",
              "      \n",
              "  <style>\n",
              "    .colab-df-container {\n",
              "      display:flex;\n",
              "      flex-wrap:wrap;\n",
              "      gap: 12px;\n",
              "    }\n",
              "\n",
              "    .colab-df-convert {\n",
              "      background-color: #E8F0FE;\n",
              "      border: none;\n",
              "      border-radius: 50%;\n",
              "      cursor: pointer;\n",
              "      display: none;\n",
              "      fill: #1967D2;\n",
              "      height: 32px;\n",
              "      padding: 0 0 0 0;\n",
              "      width: 32px;\n",
              "    }\n",
              "\n",
              "    .colab-df-convert:hover {\n",
              "      background-color: #E2EBFA;\n",
              "      box-shadow: 0px 1px 2px rgba(60, 64, 67, 0.3), 0px 1px 3px 1px rgba(60, 64, 67, 0.15);\n",
              "      fill: #174EA6;\n",
              "    }\n",
              "\n",
              "    [theme=dark] .colab-df-convert {\n",
              "      background-color: #3B4455;\n",
              "      fill: #D2E3FC;\n",
              "    }\n",
              "\n",
              "    [theme=dark] .colab-df-convert:hover {\n",
              "      background-color: #434B5C;\n",
              "      box-shadow: 0px 1px 3px 1px rgba(0, 0, 0, 0.15);\n",
              "      filter: drop-shadow(0px 1px 2px rgba(0, 0, 0, 0.3));\n",
              "      fill: #FFFFFF;\n",
              "    }\n",
              "  </style>\n",
              "\n",
              "      <script>\n",
              "        const buttonEl =\n",
              "          document.querySelector('#df-206d979f-2e11-4164-9a65-5f60fa5c943c button.colab-df-convert');\n",
              "        buttonEl.style.display =\n",
              "          google.colab.kernel.accessAllowed ? 'block' : 'none';\n",
              "\n",
              "        async function convertToInteractive(key) {\n",
              "          const element = document.querySelector('#df-206d979f-2e11-4164-9a65-5f60fa5c943c');\n",
              "          const dataTable =\n",
              "            await google.colab.kernel.invokeFunction('convertToInteractive',\n",
              "                                                     [key], {});\n",
              "          if (!dataTable) return;\n",
              "\n",
              "          const docLinkHtml = 'Like what you see? Visit the ' +\n",
              "            '<a target=\"_blank\" href=https://colab.research.google.com/notebooks/data_table.ipynb>data table notebook</a>'\n",
              "            + ' to learn more about interactive tables.';\n",
              "          element.innerHTML = '';\n",
              "          dataTable['output_type'] = 'display_data';\n",
              "          await google.colab.output.renderOutput(dataTable, element);\n",
              "          const docLink = document.createElement('div');\n",
              "          docLink.innerHTML = docLinkHtml;\n",
              "          element.appendChild(docLink);\n",
              "        }\n",
              "      </script>\n",
              "    </div>\n",
              "  </div>\n",
              "  "
            ]
          },
          "metadata": {},
          "execution_count": 89
        }
      ]
    },
    {
      "cell_type": "markdown",
      "source": [
        "the average antiquity of the client (in number of years) is 5 years.\n",
        "the average margin is $189"
      ],
      "metadata": {
        "id": "vU7VmezRsD5U"
      }
    },
    {
      "cell_type": "code",
      "source": [
        "#client_df['churn'] = client_df['churn'].replace({0:'Stayed',1:'Churned'})"
      ],
      "metadata": {
        "id": "qRQJz8a2dElN"
      },
      "execution_count": null,
      "outputs": []
    },
    {
      "cell_type": "code",
      "source": [
        "client_df['churn'] "
      ],
      "metadata": {
        "colab": {
          "base_uri": "https://localhost:8080/"
        },
        "id": "rNVHM0LyhKq_",
        "outputId": "f3b894e4-be32-42cd-bc16-0965980a427a"
      },
      "execution_count": null,
      "outputs": [
        {
          "output_type": "execute_result",
          "data": {
            "text/plain": [
              "0        1\n",
              "1        0\n",
              "2        0\n",
              "3        0\n",
              "4        0\n",
              "        ..\n",
              "14601    0\n",
              "14602    1\n",
              "14603    1\n",
              "14604    0\n",
              "14605    0\n",
              "Name: churn, Length: 14606, dtype: int64"
            ]
          },
          "metadata": {},
          "execution_count": 91
        }
      ]
    },
    {
      "cell_type": "code",
      "source": [
        "# What number of customers have churned in the last 3 months?\n",
        "print(client_df['churn'].value_counts()) \n",
        "print(client_df['churn'].value_counts()/len(client_df) *100 )\n"
      ],
      "metadata": {
        "colab": {
          "base_uri": "https://localhost:8080/"
        },
        "id": "x1CGPWSdhQqd",
        "outputId": "fe9e03e9-d8ed-4bc1-ad76-4530f28588b2"
      },
      "execution_count": null,
      "outputs": [
        {
          "output_type": "stream",
          "name": "stdout",
          "text": [
            "0    13187\n",
            "1     1419\n",
            "Name: churn, dtype: int64\n",
            "0    90.284814\n",
            "1     9.715186\n",
            "Name: churn, dtype: float64\n"
          ]
        }
      ]
    },
    {
      "cell_type": "markdown",
      "source": [
        "Overall, in the last 3 months while 13187 (90.28%) customers kept staying, 1419 (9.72%) had churned. "
      ],
      "metadata": {
        "id": "JVk8U2Mxlkoa"
      }
    },
    {
      "cell_type": "code",
      "source": [
        "for col in ['date_activ','date_end', 'date_modif_prod',\t'date_renewal']:\n",
        "  client_df[col] = pd.to_datetime(client_df[col])"
      ],
      "metadata": {
        "id": "vXu2pIt-q-o9"
      },
      "execution_count": null,
      "outputs": []
    },
    {
      "cell_type": "code",
      "source": [
        "client_df['start_contract_year'] = client_df['date_activ'].dt.year\n",
        "client_df['end_contract_year'] = client_df['date_end'].dt.year"
      ],
      "metadata": {
        "id": "CNK6DRrPzqTh"
      },
      "execution_count": null,
      "outputs": []
    },
    {
      "cell_type": "code",
      "source": [
        "client_df.duplicated().sum()"
      ],
      "metadata": {
        "colab": {
          "base_uri": "https://localhost:8080/"
        },
        "id": "rFPmAt-jPDkJ",
        "outputId": "ba76c7e3-cced-43d5-f571-1bbe020c0d18"
      },
      "execution_count": null,
      "outputs": [
        {
          "output_type": "execute_result",
          "data": {
            "text/plain": [
              "0"
            ]
          },
          "metadata": {},
          "execution_count": 95
        }
      ]
    },
    {
      "cell_type": "code",
      "source": [
        "channel_encoder = LabelEncoder()\n",
        "client_df['channel_sales'] = channel_encoder.fit_transform(client_df['channel_sales'])\n",
        "origin_encoder = LabelEncoder()\n",
        "client_df['origin_up'] = origin_encoder.fit_transform(client_df['origin_up'])"
      ],
      "metadata": {
        "id": "Rhp6OV03TJm7"
      },
      "execution_count": null,
      "outputs": []
    },
    {
      "cell_type": "markdown",
      "source": [
        "## **Price Data** "
      ],
      "metadata": {
        "id": "Q6BY3gtDm-ZE"
      }
    },
    {
      "cell_type": "code",
      "source": [
        "price_df.tail()"
      ],
      "metadata": {
        "colab": {
          "base_uri": "https://localhost:8080/",
          "height": 270
        },
        "id": "-va8c8IUjs-Q",
        "outputId": "e13cdd70-8081-49f5-cac4-2fe882d63adc"
      },
      "execution_count": null,
      "outputs": [
        {
          "output_type": "execute_result",
          "data": {
            "text/plain": [
              "                                      id  price_date  price_off_peak_var  \\\n",
              "192997  16f51cdc2baa19af0b940ee1b3dd17d5  2015-08-01            0.119916   \n",
              "192998  16f51cdc2baa19af0b940ee1b3dd17d5  2015-09-01            0.119916   \n",
              "192999  16f51cdc2baa19af0b940ee1b3dd17d5  2015-10-01            0.119916   \n",
              "193000  16f51cdc2baa19af0b940ee1b3dd17d5  2015-11-01            0.119916   \n",
              "193001  16f51cdc2baa19af0b940ee1b3dd17d5  2015-12-01            0.119916   \n",
              "\n",
              "        price_peak_var  price_mid_peak_var  price_off_peak_fix  \\\n",
              "192997        0.102232            0.076257           40.728885   \n",
              "192998        0.102232            0.076257           40.728885   \n",
              "192999        0.102232            0.076257           40.728885   \n",
              "193000        0.102232            0.076257           40.728885   \n",
              "193001        0.102232            0.076257           40.728885   \n",
              "\n",
              "        price_peak_fix  price_mid_peak_fix  \n",
              "192997        24.43733           16.291555  \n",
              "192998        24.43733           16.291555  \n",
              "192999        24.43733           16.291555  \n",
              "193000        24.43733           16.291555  \n",
              "193001        24.43733           16.291555  "
            ],
            "text/html": [
              "\n",
              "  <div id=\"df-148c7932-ee22-46d7-a28f-c212d11b6932\">\n",
              "    <div class=\"colab-df-container\">\n",
              "      <div>\n",
              "<style scoped>\n",
              "    .dataframe tbody tr th:only-of-type {\n",
              "        vertical-align: middle;\n",
              "    }\n",
              "\n",
              "    .dataframe tbody tr th {\n",
              "        vertical-align: top;\n",
              "    }\n",
              "\n",
              "    .dataframe thead th {\n",
              "        text-align: right;\n",
              "    }\n",
              "</style>\n",
              "<table border=\"1\" class=\"dataframe\">\n",
              "  <thead>\n",
              "    <tr style=\"text-align: right;\">\n",
              "      <th></th>\n",
              "      <th>id</th>\n",
              "      <th>price_date</th>\n",
              "      <th>price_off_peak_var</th>\n",
              "      <th>price_peak_var</th>\n",
              "      <th>price_mid_peak_var</th>\n",
              "      <th>price_off_peak_fix</th>\n",
              "      <th>price_peak_fix</th>\n",
              "      <th>price_mid_peak_fix</th>\n",
              "    </tr>\n",
              "  </thead>\n",
              "  <tbody>\n",
              "    <tr>\n",
              "      <th>192997</th>\n",
              "      <td>16f51cdc2baa19af0b940ee1b3dd17d5</td>\n",
              "      <td>2015-08-01</td>\n",
              "      <td>0.119916</td>\n",
              "      <td>0.102232</td>\n",
              "      <td>0.076257</td>\n",
              "      <td>40.728885</td>\n",
              "      <td>24.43733</td>\n",
              "      <td>16.291555</td>\n",
              "    </tr>\n",
              "    <tr>\n",
              "      <th>192998</th>\n",
              "      <td>16f51cdc2baa19af0b940ee1b3dd17d5</td>\n",
              "      <td>2015-09-01</td>\n",
              "      <td>0.119916</td>\n",
              "      <td>0.102232</td>\n",
              "      <td>0.076257</td>\n",
              "      <td>40.728885</td>\n",
              "      <td>24.43733</td>\n",
              "      <td>16.291555</td>\n",
              "    </tr>\n",
              "    <tr>\n",
              "      <th>192999</th>\n",
              "      <td>16f51cdc2baa19af0b940ee1b3dd17d5</td>\n",
              "      <td>2015-10-01</td>\n",
              "      <td>0.119916</td>\n",
              "      <td>0.102232</td>\n",
              "      <td>0.076257</td>\n",
              "      <td>40.728885</td>\n",
              "      <td>24.43733</td>\n",
              "      <td>16.291555</td>\n",
              "    </tr>\n",
              "    <tr>\n",
              "      <th>193000</th>\n",
              "      <td>16f51cdc2baa19af0b940ee1b3dd17d5</td>\n",
              "      <td>2015-11-01</td>\n",
              "      <td>0.119916</td>\n",
              "      <td>0.102232</td>\n",
              "      <td>0.076257</td>\n",
              "      <td>40.728885</td>\n",
              "      <td>24.43733</td>\n",
              "      <td>16.291555</td>\n",
              "    </tr>\n",
              "    <tr>\n",
              "      <th>193001</th>\n",
              "      <td>16f51cdc2baa19af0b940ee1b3dd17d5</td>\n",
              "      <td>2015-12-01</td>\n",
              "      <td>0.119916</td>\n",
              "      <td>0.102232</td>\n",
              "      <td>0.076257</td>\n",
              "      <td>40.728885</td>\n",
              "      <td>24.43733</td>\n",
              "      <td>16.291555</td>\n",
              "    </tr>\n",
              "  </tbody>\n",
              "</table>\n",
              "</div>\n",
              "      <button class=\"colab-df-convert\" onclick=\"convertToInteractive('df-148c7932-ee22-46d7-a28f-c212d11b6932')\"\n",
              "              title=\"Convert this dataframe to an interactive table.\"\n",
              "              style=\"display:none;\">\n",
              "        \n",
              "  <svg xmlns=\"http://www.w3.org/2000/svg\" height=\"24px\"viewBox=\"0 0 24 24\"\n",
              "       width=\"24px\">\n",
              "    <path d=\"M0 0h24v24H0V0z\" fill=\"none\"/>\n",
              "    <path d=\"M18.56 5.44l.94 2.06.94-2.06 2.06-.94-2.06-.94-.94-2.06-.94 2.06-2.06.94zm-11 1L8.5 8.5l.94-2.06 2.06-.94-2.06-.94L8.5 2.5l-.94 2.06-2.06.94zm10 10l.94 2.06.94-2.06 2.06-.94-2.06-.94-.94-2.06-.94 2.06-2.06.94z\"/><path d=\"M17.41 7.96l-1.37-1.37c-.4-.4-.92-.59-1.43-.59-.52 0-1.04.2-1.43.59L10.3 9.45l-7.72 7.72c-.78.78-.78 2.05 0 2.83L4 21.41c.39.39.9.59 1.41.59.51 0 1.02-.2 1.41-.59l7.78-7.78 2.81-2.81c.8-.78.8-2.07 0-2.86zM5.41 20L4 18.59l7.72-7.72 1.47 1.35L5.41 20z\"/>\n",
              "  </svg>\n",
              "      </button>\n",
              "      \n",
              "  <style>\n",
              "    .colab-df-container {\n",
              "      display:flex;\n",
              "      flex-wrap:wrap;\n",
              "      gap: 12px;\n",
              "    }\n",
              "\n",
              "    .colab-df-convert {\n",
              "      background-color: #E8F0FE;\n",
              "      border: none;\n",
              "      border-radius: 50%;\n",
              "      cursor: pointer;\n",
              "      display: none;\n",
              "      fill: #1967D2;\n",
              "      height: 32px;\n",
              "      padding: 0 0 0 0;\n",
              "      width: 32px;\n",
              "    }\n",
              "\n",
              "    .colab-df-convert:hover {\n",
              "      background-color: #E2EBFA;\n",
              "      box-shadow: 0px 1px 2px rgba(60, 64, 67, 0.3), 0px 1px 3px 1px rgba(60, 64, 67, 0.15);\n",
              "      fill: #174EA6;\n",
              "    }\n",
              "\n",
              "    [theme=dark] .colab-df-convert {\n",
              "      background-color: #3B4455;\n",
              "      fill: #D2E3FC;\n",
              "    }\n",
              "\n",
              "    [theme=dark] .colab-df-convert:hover {\n",
              "      background-color: #434B5C;\n",
              "      box-shadow: 0px 1px 3px 1px rgba(0, 0, 0, 0.15);\n",
              "      filter: drop-shadow(0px 1px 2px rgba(0, 0, 0, 0.3));\n",
              "      fill: #FFFFFF;\n",
              "    }\n",
              "  </style>\n",
              "\n",
              "      <script>\n",
              "        const buttonEl =\n",
              "          document.querySelector('#df-148c7932-ee22-46d7-a28f-c212d11b6932 button.colab-df-convert');\n",
              "        buttonEl.style.display =\n",
              "          google.colab.kernel.accessAllowed ? 'block' : 'none';\n",
              "\n",
              "        async function convertToInteractive(key) {\n",
              "          const element = document.querySelector('#df-148c7932-ee22-46d7-a28f-c212d11b6932');\n",
              "          const dataTable =\n",
              "            await google.colab.kernel.invokeFunction('convertToInteractive',\n",
              "                                                     [key], {});\n",
              "          if (!dataTable) return;\n",
              "\n",
              "          const docLinkHtml = 'Like what you see? Visit the ' +\n",
              "            '<a target=\"_blank\" href=https://colab.research.google.com/notebooks/data_table.ipynb>data table notebook</a>'\n",
              "            + ' to learn more about interactive tables.';\n",
              "          element.innerHTML = '';\n",
              "          dataTable['output_type'] = 'display_data';\n",
              "          await google.colab.output.renderOutput(dataTable, element);\n",
              "          const docLink = document.createElement('div');\n",
              "          docLink.innerHTML = docLinkHtml;\n",
              "          element.appendChild(docLink);\n",
              "        }\n",
              "      </script>\n",
              "    </div>\n",
              "  </div>\n",
              "  "
            ]
          },
          "metadata": {},
          "execution_count": 14
        }
      ]
    },
    {
      "cell_type": "code",
      "source": [
        "#the structure of the dataframe\n",
        "price_df.info()"
      ],
      "metadata": {
        "colab": {
          "base_uri": "https://localhost:8080/"
        },
        "id": "PoTL6S4MnweY",
        "outputId": "501a67e3-af6c-44b0-f16a-a8b7f407fcb6"
      },
      "execution_count": null,
      "outputs": [
        {
          "output_type": "stream",
          "name": "stdout",
          "text": [
            "<class 'pandas.core.frame.DataFrame'>\n",
            "RangeIndex: 193002 entries, 0 to 193001\n",
            "Data columns (total 8 columns):\n",
            " #   Column              Non-Null Count   Dtype  \n",
            "---  ------              --------------   -----  \n",
            " 0   id                  193002 non-null  object \n",
            " 1   price_date          193002 non-null  object \n",
            " 2   price_off_peak_var  193002 non-null  float64\n",
            " 3   price_peak_var      193002 non-null  float64\n",
            " 4   price_mid_peak_var  193002 non-null  float64\n",
            " 5   price_off_peak_fix  193002 non-null  float64\n",
            " 6   price_peak_fix      193002 non-null  float64\n",
            " 7   price_mid_peak_fix  193002 non-null  float64\n",
            "dtypes: float64(6), object(2)\n",
            "memory usage: 11.8+ MB\n"
          ]
        }
      ]
    },
    {
      "cell_type": "code",
      "source": [
        "price_df['price_date'] = pd.to_datetime(price_df['price_date'])"
      ],
      "metadata": {
        "id": "u03Dpzmp081z"
      },
      "execution_count": null,
      "outputs": []
    },
    {
      "cell_type": "code",
      "source": [
        "#the descriptive statistics of the price dataframe\n",
        "price_df.describe()"
      ],
      "metadata": {
        "colab": {
          "base_uri": "https://localhost:8080/",
          "height": 300
        },
        "id": "0uHNzh_onzR1",
        "outputId": "96f4b33c-6c15-4567-de81-848a755ff942"
      },
      "execution_count": null,
      "outputs": [
        {
          "output_type": "execute_result",
          "data": {
            "text/plain": [
              "       price_off_peak_var  price_peak_var  price_mid_peak_var  \\\n",
              "count       193002.000000   193002.000000       193002.000000   \n",
              "mean             0.141027        0.054630            0.030496   \n",
              "std              0.025032        0.049924            0.036298   \n",
              "min              0.000000        0.000000            0.000000   \n",
              "25%              0.125976        0.000000            0.000000   \n",
              "50%              0.146033        0.085483            0.000000   \n",
              "75%              0.151635        0.101673            0.072558   \n",
              "max              0.280700        0.229788            0.114102   \n",
              "\n",
              "       price_off_peak_fix  price_peak_fix  price_mid_peak_fix  \n",
              "count       193002.000000   193002.000000       193002.000000  \n",
              "mean            43.334477       10.622875            6.409984  \n",
              "std              5.410297       12.841895            7.773592  \n",
              "min              0.000000        0.000000            0.000000  \n",
              "25%             40.728885        0.000000            0.000000  \n",
              "50%             44.266930        0.000000            0.000000  \n",
              "75%             44.444710       24.339581           16.226389  \n",
              "max             59.444710       36.490692           17.458221  "
            ],
            "text/html": [
              "\n",
              "  <div id=\"df-1d29ba13-300a-4c60-a987-857fa52392b7\">\n",
              "    <div class=\"colab-df-container\">\n",
              "      <div>\n",
              "<style scoped>\n",
              "    .dataframe tbody tr th:only-of-type {\n",
              "        vertical-align: middle;\n",
              "    }\n",
              "\n",
              "    .dataframe tbody tr th {\n",
              "        vertical-align: top;\n",
              "    }\n",
              "\n",
              "    .dataframe thead th {\n",
              "        text-align: right;\n",
              "    }\n",
              "</style>\n",
              "<table border=\"1\" class=\"dataframe\">\n",
              "  <thead>\n",
              "    <tr style=\"text-align: right;\">\n",
              "      <th></th>\n",
              "      <th>price_off_peak_var</th>\n",
              "      <th>price_peak_var</th>\n",
              "      <th>price_mid_peak_var</th>\n",
              "      <th>price_off_peak_fix</th>\n",
              "      <th>price_peak_fix</th>\n",
              "      <th>price_mid_peak_fix</th>\n",
              "    </tr>\n",
              "  </thead>\n",
              "  <tbody>\n",
              "    <tr>\n",
              "      <th>count</th>\n",
              "      <td>193002.000000</td>\n",
              "      <td>193002.000000</td>\n",
              "      <td>193002.000000</td>\n",
              "      <td>193002.000000</td>\n",
              "      <td>193002.000000</td>\n",
              "      <td>193002.000000</td>\n",
              "    </tr>\n",
              "    <tr>\n",
              "      <th>mean</th>\n",
              "      <td>0.141027</td>\n",
              "      <td>0.054630</td>\n",
              "      <td>0.030496</td>\n",
              "      <td>43.334477</td>\n",
              "      <td>10.622875</td>\n",
              "      <td>6.409984</td>\n",
              "    </tr>\n",
              "    <tr>\n",
              "      <th>std</th>\n",
              "      <td>0.025032</td>\n",
              "      <td>0.049924</td>\n",
              "      <td>0.036298</td>\n",
              "      <td>5.410297</td>\n",
              "      <td>12.841895</td>\n",
              "      <td>7.773592</td>\n",
              "    </tr>\n",
              "    <tr>\n",
              "      <th>min</th>\n",
              "      <td>0.000000</td>\n",
              "      <td>0.000000</td>\n",
              "      <td>0.000000</td>\n",
              "      <td>0.000000</td>\n",
              "      <td>0.000000</td>\n",
              "      <td>0.000000</td>\n",
              "    </tr>\n",
              "    <tr>\n",
              "      <th>25%</th>\n",
              "      <td>0.125976</td>\n",
              "      <td>0.000000</td>\n",
              "      <td>0.000000</td>\n",
              "      <td>40.728885</td>\n",
              "      <td>0.000000</td>\n",
              "      <td>0.000000</td>\n",
              "    </tr>\n",
              "    <tr>\n",
              "      <th>50%</th>\n",
              "      <td>0.146033</td>\n",
              "      <td>0.085483</td>\n",
              "      <td>0.000000</td>\n",
              "      <td>44.266930</td>\n",
              "      <td>0.000000</td>\n",
              "      <td>0.000000</td>\n",
              "    </tr>\n",
              "    <tr>\n",
              "      <th>75%</th>\n",
              "      <td>0.151635</td>\n",
              "      <td>0.101673</td>\n",
              "      <td>0.072558</td>\n",
              "      <td>44.444710</td>\n",
              "      <td>24.339581</td>\n",
              "      <td>16.226389</td>\n",
              "    </tr>\n",
              "    <tr>\n",
              "      <th>max</th>\n",
              "      <td>0.280700</td>\n",
              "      <td>0.229788</td>\n",
              "      <td>0.114102</td>\n",
              "      <td>59.444710</td>\n",
              "      <td>36.490692</td>\n",
              "      <td>17.458221</td>\n",
              "    </tr>\n",
              "  </tbody>\n",
              "</table>\n",
              "</div>\n",
              "      <button class=\"colab-df-convert\" onclick=\"convertToInteractive('df-1d29ba13-300a-4c60-a987-857fa52392b7')\"\n",
              "              title=\"Convert this dataframe to an interactive table.\"\n",
              "              style=\"display:none;\">\n",
              "        \n",
              "  <svg xmlns=\"http://www.w3.org/2000/svg\" height=\"24px\"viewBox=\"0 0 24 24\"\n",
              "       width=\"24px\">\n",
              "    <path d=\"M0 0h24v24H0V0z\" fill=\"none\"/>\n",
              "    <path d=\"M18.56 5.44l.94 2.06.94-2.06 2.06-.94-2.06-.94-.94-2.06-.94 2.06-2.06.94zm-11 1L8.5 8.5l.94-2.06 2.06-.94-2.06-.94L8.5 2.5l-.94 2.06-2.06.94zm10 10l.94 2.06.94-2.06 2.06-.94-2.06-.94-.94-2.06-.94 2.06-2.06.94z\"/><path d=\"M17.41 7.96l-1.37-1.37c-.4-.4-.92-.59-1.43-.59-.52 0-1.04.2-1.43.59L10.3 9.45l-7.72 7.72c-.78.78-.78 2.05 0 2.83L4 21.41c.39.39.9.59 1.41.59.51 0 1.02-.2 1.41-.59l7.78-7.78 2.81-2.81c.8-.78.8-2.07 0-2.86zM5.41 20L4 18.59l7.72-7.72 1.47 1.35L5.41 20z\"/>\n",
              "  </svg>\n",
              "      </button>\n",
              "      \n",
              "  <style>\n",
              "    .colab-df-container {\n",
              "      display:flex;\n",
              "      flex-wrap:wrap;\n",
              "      gap: 12px;\n",
              "    }\n",
              "\n",
              "    .colab-df-convert {\n",
              "      background-color: #E8F0FE;\n",
              "      border: none;\n",
              "      border-radius: 50%;\n",
              "      cursor: pointer;\n",
              "      display: none;\n",
              "      fill: #1967D2;\n",
              "      height: 32px;\n",
              "      padding: 0 0 0 0;\n",
              "      width: 32px;\n",
              "    }\n",
              "\n",
              "    .colab-df-convert:hover {\n",
              "      background-color: #E2EBFA;\n",
              "      box-shadow: 0px 1px 2px rgba(60, 64, 67, 0.3), 0px 1px 3px 1px rgba(60, 64, 67, 0.15);\n",
              "      fill: #174EA6;\n",
              "    }\n",
              "\n",
              "    [theme=dark] .colab-df-convert {\n",
              "      background-color: #3B4455;\n",
              "      fill: #D2E3FC;\n",
              "    }\n",
              "\n",
              "    [theme=dark] .colab-df-convert:hover {\n",
              "      background-color: #434B5C;\n",
              "      box-shadow: 0px 1px 3px 1px rgba(0, 0, 0, 0.15);\n",
              "      filter: drop-shadow(0px 1px 2px rgba(0, 0, 0, 0.3));\n",
              "      fill: #FFFFFF;\n",
              "    }\n",
              "  </style>\n",
              "\n",
              "      <script>\n",
              "        const buttonEl =\n",
              "          document.querySelector('#df-1d29ba13-300a-4c60-a987-857fa52392b7 button.colab-df-convert');\n",
              "        buttonEl.style.display =\n",
              "          google.colab.kernel.accessAllowed ? 'block' : 'none';\n",
              "\n",
              "        async function convertToInteractive(key) {\n",
              "          const element = document.querySelector('#df-1d29ba13-300a-4c60-a987-857fa52392b7');\n",
              "          const dataTable =\n",
              "            await google.colab.kernel.invokeFunction('convertToInteractive',\n",
              "                                                     [key], {});\n",
              "          if (!dataTable) return;\n",
              "\n",
              "          const docLinkHtml = 'Like what you see? Visit the ' +\n",
              "            '<a target=\"_blank\" href=https://colab.research.google.com/notebooks/data_table.ipynb>data table notebook</a>'\n",
              "            + ' to learn more about interactive tables.';\n",
              "          element.innerHTML = '';\n",
              "          dataTable['output_type'] = 'display_data';\n",
              "          await google.colab.output.renderOutput(dataTable, element);\n",
              "          const docLink = document.createElement('div');\n",
              "          docLink.innerHTML = docLinkHtml;\n",
              "          element.appendChild(docLink);\n",
              "        }\n",
              "      </script>\n",
              "    </div>\n",
              "  </div>\n",
              "  "
            ]
          },
          "metadata": {},
          "execution_count": 17
        }
      ]
    },
    {
      "cell_type": "code",
      "source": [
        "#Total Missing Values\n",
        "price_df.isna().sum()"
      ],
      "metadata": {
        "colab": {
          "base_uri": "https://localhost:8080/"
        },
        "id": "1UdRSSf4pg8b",
        "outputId": "465af287-baf8-4253-9ba8-f0eb387aa979"
      },
      "execution_count": null,
      "outputs": [
        {
          "output_type": "execute_result",
          "data": {
            "text/plain": [
              "id                    0\n",
              "price_date            0\n",
              "price_off_peak_var    0\n",
              "price_peak_var        0\n",
              "price_mid_peak_var    0\n",
              "price_off_peak_fix    0\n",
              "price_peak_fix        0\n",
              "price_mid_peak_fix    0\n",
              "dtype: int64"
            ]
          },
          "metadata": {},
          "execution_count": 18
        }
      ]
    },
    {
      "cell_type": "code",
      "source": [
        "price_df.duplicated().sum()"
      ],
      "metadata": {
        "colab": {
          "base_uri": "https://localhost:8080/"
        },
        "id": "2FeX1ZiYOP9p",
        "outputId": "d1278921-872d-483f-e3ae-e138994972af"
      },
      "execution_count": null,
      "outputs": [
        {
          "output_type": "execute_result",
          "data": {
            "text/plain": [
              "0"
            ]
          },
          "metadata": {},
          "execution_count": 19
        }
      ]
    },
    {
      "cell_type": "markdown",
      "source": [
        "Overview:\n",
        "\n",
        "The average price of energy for the 1st period was: $0.14\n",
        "\n",
        "The average price of energy for the 2nd period was: $0.05\n",
        "\n",
        "The average price of energy for the 3rd period was: $0.03\n",
        "\n",
        "The average price of energy was declining in the last year.\n",
        "\n",
        "The average power of power for the 1st period was: $43.33\n",
        "\n",
        "The average power of power for the 2nd period was: $10.62\n",
        "\n",
        "The average power of power for the 3rd period was: $6.41\n",
        "\n",
        "The average price of power was declining in the last year. "
      ],
      "metadata": {
        "id": "d070Y680qWOe"
      }
    },
    {
      "cell_type": "code",
      "source": [
        "price_df['id'].value_counts().value_counts()"
      ],
      "metadata": {
        "colab": {
          "base_uri": "https://localhost:8080/"
        },
        "id": "CoABLa1KU5IK",
        "outputId": "95c5aa40-8072-4759-8439-d145f882291b"
      },
      "execution_count": null,
      "outputs": [
        {
          "output_type": "execute_result",
          "data": {
            "text/plain": [
              "12    15990\n",
              "11       83\n",
              "10       11\n",
              "9         6\n",
              "8         3\n",
              "7         3\n",
              "Name: id, dtype: int64"
            ]
          },
          "metadata": {},
          "execution_count": 54
        }
      ]
    },
    {
      "cell_type": "markdown",
      "source": [
        "We can see not all customers have the same number of price records. The vast majority of customers have 12 price reocrds and very few customers has less than 12 records."
      ],
      "metadata": {
        "id": "QyVEtnE-VCux"
      }
    },
    {
      "cell_type": "code",
      "source": [
        "price_df['price_date'].value_counts()"
      ],
      "metadata": {
        "colab": {
          "base_uri": "https://localhost:8080/"
        },
        "id": "0Bl4YEOcU7fB",
        "outputId": "44f1e2e4-f2d5-421a-8590-7d76ce46beb6"
      },
      "execution_count": null,
      "outputs": [
        {
          "output_type": "execute_result",
          "data": {
            "text/plain": [
              "2015-08-01    16094\n",
              "2015-12-01    16094\n",
              "2015-07-01    16090\n",
              "2015-11-01    16087\n",
              "2015-06-01    16085\n",
              "2015-10-01    16085\n",
              "2015-02-01    16082\n",
              "2015-09-01    16082\n",
              "2015-05-01    16080\n",
              "2015-04-01    16079\n",
              "2015-03-01    16074\n",
              "2015-01-01    16070\n",
              "Name: price_date, dtype: int64"
            ]
          },
          "metadata": {},
          "execution_count": 55
        }
      ]
    },
    {
      "cell_type": "markdown",
      "source": [
        "Combined with the above findings, most customers have a 12-month price records each. Luckily, every customer has the last-month's reocrd (2015-12-01), this will be helpful in identifying price sensitivity."
      ],
      "metadata": {
        "id": "5ulcSdNiVELB"
      }
    },
    {
      "cell_type": "markdown",
      "source": [
        "# Visualization"
      ],
      "metadata": {
        "id": "cQJF7sY-4RMO"
      }
    },
    {
      "cell_type": "code",
      "source": [
        "# define a function to plot bar chart to display a feature's distribution with percent labels.\n",
        "def plot_bar_chart_with_percent_label(df, target_variable, if_sort=False, gap_label_bar=0, figsize=(9,6)):\n",
        "    # prepare data\n",
        "    plot_data = client_df[[target_variable]].value_counts().reset_index(name='count')\n",
        "    plot_data['percent'] = plot_data['count']/plot_data['count'].sum()\n",
        "    if if_sort:\n",
        "        x_order = plot_data.sort_values(by=['percent'], ascending=False)[target_variable]\n",
        "    else:\n",
        "        x_order = plot_data.sort_values(by=[target_variable], ascending=True)[target_variable]\n",
        "    # plot\n",
        "    fig = plt.figure(figsize=figsize)\n",
        "    ax = sns.barplot(data=plot_data, x=target_variable, y='percent', order=x_order)\n",
        "    # add label\n",
        "    for p in ax.patches:\n",
        "        x = p.get_x() + p.get_width()/2\n",
        "        y = p.get_height() + gap_label_bar\n",
        "        \n",
        "    ax.margins(y=0.1)"
      ],
      "metadata": {
        "id": "YtlYtTKTQey6"
      },
      "execution_count": null,
      "outputs": []
    },
    {
      "cell_type": "code",
      "source": [
        "plot_bar_chart_with_percent_label(df=client_df, target_variable='churn', gap_label_bar=0.02)"
      ],
      "metadata": {
        "colab": {
          "base_uri": "https://localhost:8080/",
          "height": 394
        },
        "id": "bpOMq0QTQhZz",
        "outputId": "50c1d51d-a047-4cc6-f9ec-e9bec5fa817e"
      },
      "execution_count": null,
      "outputs": [
        {
          "output_type": "display_data",
          "data": {
            "text/plain": [
              "<Figure size 648x432 with 1 Axes>"
            ],
            "image/png": "[encoded data removed]"
          },
          "metadata": {}
        }
      ]
    },
    {
      "cell_type": "code",
      "source": [
        "#plotting data\n",
        "plot_bar_chart_with_percent_label(df=client_df, target_variable='channel_sales', if_sort=True, gap_label_bar=0.01)"
      ],
      "metadata": {
        "colab": {
          "base_uri": "https://localhost:8080/",
          "height": 394
        },
        "id": "eTxcUwagRlVb",
        "outputId": "6875ecaf-6b72-497e-c673-39867bc8276a"
      },
      "execution_count": null,
      "outputs": [
        {
          "output_type": "display_data",
          "data": {
            "text/plain": [
              "<Figure size 648x432 with 1 Axes>"
            ],
            "image/png": "[encoded data removed]"
          },
          "metadata": {}
        }
      ]
    },
    {
      "cell_type": "markdown",
      "source": [
        "Type 4 is the most common sales channel. Type 1, 3 and 6 sales channels are very rare."
      ],
      "metadata": {
        "id": "BfNS5J7zSN3s"
      }
    },
    {
      "cell_type": "code",
      "source": [
        "plot_data1 = client_df.groupby(['channel_sales', 'churn']).size().reset_index(name = 'count1')\n",
        "plot_data1 = plot_data1.pivot(index = 'channel_sales', columns = 'churn', values = 'count1').fillna(0)\n",
        "plot_data1 = plot_data1.div(plot_data1.sum(axis = 1), axis = 0)\n",
        "ax = plot_data1.plot(kind= 'bar', rot = False, figsize = (8,8))"
      ],
      "metadata": {
        "colab": {
          "base_uri": "https://localhost:8080/",
          "height": 502
        },
        "id": "88KSbuhUYO1n",
        "outputId": "f3fdc405-14c5-48bf-d37f-2b61b45aaaaa"
      },
      "execution_count": null,
      "outputs": [
        {
          "output_type": "display_data",
          "data": {
            "text/plain": [
              "<Figure size 576x576 with 1 Axes>"
            ],
            "image/png": "[encoded data removed]"
          },
          "metadata": {}
        }
      ]
    },
    {
      "cell_type": "markdown",
      "source": [
        "For the customers from different sales channels, the proportion of churning customers ranges from 5.6% to 12.1% (excluding rare channels)."
      ],
      "metadata": {
        "id": "jgjvCDi-S1MD"
      }
    },
    {
      "cell_type": "code",
      "source": [
        "plot_data1 = client_df.groupby(['origin_up', 'churn']).size().reset_index(name = 'count1')\n",
        "plot_data1 = plot_data1.pivot(index = 'origin_up', columns = 'churn', values = 'count1').fillna(0)\n",
        "plot_data1 = plot_data1.div(plot_data1.sum(axis = 1), axis = 0)\n",
        "ax = plot_data1.plot(kind= 'bar', rot = False, figsize = (8,8))"
      ],
      "metadata": {
        "colab": {
          "base_uri": "https://localhost:8080/",
          "height": 502
        },
        "id": "TpWWMKZJS8dv",
        "outputId": "8c1fe5f2-e8df-4d28-fdcf-fec68edc3f9d"
      },
      "execution_count": null,
      "outputs": [
        {
          "output_type": "display_data",
          "data": {
            "text/plain": [
              "<Figure size 576x576 with 1 Axes>"
            ],
            "image/png": "[encoded data removed]"
          },
          "metadata": {}
        }
      ]
    },
    {
      "cell_type": "markdown",
      "source": [
        "For the customers who first subscribed to different electricity campaigns, the proportion of churning customers ranges from 6.0% to 12.6% (excluding type 1 and type 5)."
      ],
      "metadata": {
        "id": "Wq09gYYrTDZy"
      }
    },
    {
      "cell_type": "code",
      "source": [
        "plot_bar_chart_with_percent_label(df=client_df, target_variable='start_contract_year', if_sort=False, gap_label_bar=0.005, figsize=(12,6))"
      ],
      "metadata": {
        "colab": {
          "base_uri": "https://localhost:8080/",
          "height": 394
        },
        "id": "lsBpkcfcTHO7",
        "outputId": "17179375-7aef-486a-e892-b572ba9c5047"
      },
      "execution_count": null,
      "outputs": [
        {
          "output_type": "display_data",
          "data": {
            "text/plain": [
              "<Figure size 864x432 with 1 Axes>"
            ],
            "image/png": "[encoded data removed]"
          },
          "metadata": {}
        }
      ]
    },
    {
      "cell_type": "markdown",
      "source": [
        "Most cutomers started their contracts from 2009 to 2013. Among these cutomers, it seems newer customers are more likely to switch to other providers."
      ],
      "metadata": {
        "id": "FcV2HBafThDp"
      }
    },
    {
      "cell_type": "code",
      "source": [
        "plot_bar_chart_with_percent_label(df=client_df, target_variable='num_years_antig', if_sort=False, gap_label_bar=0.005, figsize=(12,6))"
      ],
      "metadata": {
        "colab": {
          "base_uri": "https://localhost:8080/",
          "height": 394
        },
        "id": "tIngh898THR_",
        "outputId": "463ed251-a3f7-40c7-d838-3472aa98e0f4"
      },
      "execution_count": null,
      "outputs": [
        {
          "output_type": "display_data",
          "data": {
            "text/plain": [
              "<Figure size 864x432 with 1 Axes>"
            ],
            "image/png": "[encoded data removed]"
          },
          "metadata": {}
        }
      ]
    },
    {
      "cell_type": "markdown",
      "source": [
        "Most cutomers stayed with the current providers for 3 to 6 years. Among these customers, it seems newer customers are more likely to switch to other providers."
      ],
      "metadata": {
        "id": "ZIjpzp-NTtFZ"
      }
    },
    {
      "cell_type": "code",
      "source": [
        "plot_bar_chart_with_percent_label(df=client_df, target_variable='forecast_discount_energy', if_sort=False, gap_label_bar=0.01, figsize=(12,6))"
      ],
      "metadata": {
        "colab": {
          "base_uri": "https://localhost:8080/",
          "height": 394
        },
        "id": "wwbQcs6uTHUr",
        "outputId": "e1a1ffc4-02b2-4d28-ad5c-f660064acab5"
      },
      "execution_count": null,
      "outputs": [
        {
          "output_type": "display_data",
          "data": {
            "text/plain": [
              "<Figure size 864x432 with 1 Axes>"
            ],
            "image/png": "[encoded data removed]"
          },
          "metadata": {}
        }
      ]
    },
    {
      "cell_type": "markdown",
      "source": [
        "The vast majority of cutomers' forecasted value of current discount is 0."
      ],
      "metadata": {
        "id": "MApLp990T0m9"
      }
    },
    {
      "cell_type": "code",
      "source": [
        "plot_bar_chart_with_percent_label(df=client_df, target_variable='has_gas', if_sort=False, gap_label_bar=0.01, figsize=(8,6))"
      ],
      "metadata": {
        "colab": {
          "base_uri": "https://localhost:8080/",
          "height": 394
        },
        "id": "YIHqRDfKT3qC",
        "outputId": "3054aa7e-f6e1-4b83-8b2c-d9c8b8088c79"
      },
      "execution_count": null,
      "outputs": [
        {
          "output_type": "display_data",
          "data": {
            "text/plain": [
              "<Figure size 576x432 with 1 Axes>"
            ],
            "image/png": "[encoded data removed]"
          },
          "metadata": {}
        }
      ]
    },
    {
      "cell_type": "markdown",
      "source": [
        "Only 18.15% of the clients were also gas clients."
      ],
      "metadata": {
        "id": "GxnuvxWlT8n6"
      }
    },
    {
      "cell_type": "code",
      "source": [
        "plot_bar_chart_with_percent_label(df=client_df, target_variable='nb_prod_act', if_sort=False, gap_label_bar=0.01, figsize=(8,6))"
      ],
      "metadata": {
        "colab": {
          "base_uri": "https://localhost:8080/",
          "height": 394
        },
        "id": "_2JtbI13T3ta",
        "outputId": "c71fcbe7-98df-4257-e4db-5bee79ec0fe9"
      },
      "execution_count": null,
      "outputs": [
        {
          "output_type": "display_data",
          "data": {
            "text/plain": [
              "<Figure size 576x432 with 1 Axes>"
            ],
            "image/png": "[encoded data removed]"
          },
          "metadata": {}
        }
      ]
    },
    {
      "cell_type": "markdown",
      "source": [
        "Most customers only had 1 or 2 active products and services."
      ],
      "metadata": {
        "id": "bijnGQ_RUEky"
      }
    },
    {
      "cell_type": "code",
      "source": [
        "plot_bar_chart_with_percent_label(df=client_df, target_variable='nb_prod_act', if_sort=False, gap_label_bar=0.01, figsize=(8,6))"
      ],
      "metadata": {
        "colab": {
          "base_uri": "https://localhost:8080/",
          "height": 394
        },
        "id": "FxdFEgB4T3wy",
        "outputId": "3e05a135-fba6-45b5-ae2b-48af62806577"
      },
      "execution_count": null,
      "outputs": [
        {
          "output_type": "display_data",
          "data": {
            "text/plain": [
              "<Figure size 576x432 with 1 Axes>"
            ],
            "image/png": "[encoded data removed]"
          },
          "metadata": {}
        }
      ]
    },
    {
      "cell_type": "markdown",
      "source": [
        "Most customers only had 1 or 2 active products and services."
      ],
      "metadata": {
        "id": "nhUfVlTnUK5T"
      }
    },
    {
      "cell_type": "code",
      "source": [
        "# plot histogram\n",
        "def plot_histogram_by_churn(df, target_variable, figsize=(20,5), bins=100, if_churn=True):\n",
        "    fig = plt.figure(figsize=figsize)\n",
        "    if if_churn:\n",
        "        ax = sns.histplot(data=df, x=target_variable, bins=bins, hue='churn')\n",
        "    else:\n",
        "        ax = sns.histplot(data=df, x=target_variable, bins=bins)"
      ],
      "metadata": {
        "id": "OYl-hlu4UWrb"
      },
      "execution_count": null,
      "outputs": []
    },
    {
      "cell_type": "code",
      "source": [
        "for attr in ['cons_12m', 'cons_gas_12m', 'cons_last_month','forecast_cons_12m', 'forecast_cons_year']:\n",
        "    plot_histogram_by_churn(df=client_df, target_variable=attr)"
      ],
      "metadata": {
        "colab": {
          "base_uri": "https://localhost:8080/",
          "height": 1000
        },
        "id": "guiECwuKUWuS",
        "outputId": "439e1dcc-119c-44d0-9d1b-62c214fb96e5"
      },
      "execution_count": null,
      "outputs": [
        {
          "output_type": "display_data",
          "data": {
            "text/plain": [
              "<Figure size 1440x360 with 1 Axes>"
            ],
            "image/png": "[encoded data removed]"
          },
          "metadata": {}
        },
        {
          "output_type": "display_data",
          "data": {
            "text/plain": [
              "<Figure size 1440x360 with 1 Axes>"
            ],
            "image/png": "[encoded data removed]"
          },
          "metadata": {}
        },
        {
          "output_type": "display_data",
          "data": {
            "text/plain": [
              "<Figure size 1440x360 with 1 Axes>"
            ],
            "image/png": "[encoded data removed]"
          },
          "metadata": {}
        },
        {
          "output_type": "display_data",
          "data": {
            "text/plain": [
              "<Figure size 1440x360 with 1 Axes>"
            ],
            "image/png": "[encoded data removed]"
          },
          "metadata": {}
        },
        {
          "output_type": "display_data",
          "data": {
            "text/plain": [
              "<Figure size 1440x360 with 1 Axes>"
            ],
            "image/png": "[encoded data removed]"
          },
          "metadata": {}
        }
      ]
    },
    {
      "cell_type": "markdown",
      "source": [
        "Plot histograms of energy consuption features. Each distribution has very long tail, which can be seen as the outliers."
      ],
      "metadata": {
        "id": "nGamcUF5Utra"
      }
    },
    {
      "cell_type": "code",
      "source": [
        "for attr in ['forecast_meter_rent_12m', 'forecast_price_energy_off_peak', 'forecast_price_energy_peak', 'forecast_price_pow_off_peak',]:\n",
        "    plot_histogram_by_churn(df=client_df, target_variable=attr)"
      ],
      "metadata": {
        "colab": {
          "base_uri": "https://localhost:8080/",
          "height": 1000
        },
        "id": "yI27h31xUW1h",
        "outputId": "58007a8e-08f8-47b4-e8a5-9c53a8484dab"
      },
      "execution_count": null,
      "outputs": [
        {
          "output_type": "display_data",
          "data": {
            "text/plain": [
              "<Figure size 1440x360 with 1 Axes>"
            ],
            "image/png": "[encoded data removed]"
          },
          "metadata": {}
        },
        {
          "output_type": "display_data",
          "data": {
            "text/plain": [
              "<Figure size 1440x360 with 1 Axes>"
            ],
            "image/png": "[encoded data removed]"
          },
          "metadata": {}
        },
        {
          "output_type": "display_data",
          "data": {
            "text/plain": [
              "<Figure size 1440x360 with 1 Axes>"
            ],
            "image/png": "[encoded data removed]"
          },
          "metadata": {}
        },
        {
          "output_type": "display_data",
          "data": {
            "text/plain": [
              "<Figure size 1440x360 with 1 Axes>"
            ],
            "image/png": "[encoded data removed]"
          },
          "metadata": {}
        }
      ]
    },
    {
      "cell_type": "code",
      "source": [
        "for attr in ['imp_cons', 'margin_gross_pow_ele', 'margin_net_pow_ele','net_margin','pow_max',]:\n",
        "    plot_histogram_by_churn(df=client_df, target_variable=attr)"
      ],
      "metadata": {
        "colab": {
          "base_uri": "https://localhost:8080/",
          "height": 1000
        },
        "id": "kBF7kAznVTQL",
        "outputId": "8427523b-e40e-4403-d002-2079d6fc8166"
      },
      "execution_count": null,
      "outputs": [
        {
          "output_type": "display_data",
          "data": {
            "text/plain": [
              "<Figure size 1440x360 with 1 Axes>"
            ],
            "image/png": "[encoded data removed]"
          },
          "metadata": {}
        },
        {
          "output_type": "display_data",
          "data": {
            "text/plain": [
              "<Figure size 1440x360 with 1 Axes>"
            ],
            "image/png": "[encoded data removed]"
          },
          "metadata": {}
        },
        {
          "output_type": "display_data",
          "data": {
            "text/plain": [
              "<Figure size 1440x360 with 1 Axes>"
            ],
            "image/png": "[encoded data removed]"
          },
          "metadata": {}
        },
        {
          "output_type": "display_data",
          "data": {
            "text/plain": [
              "<Figure size 1440x360 with 1 Axes>"
            ],
            "image/png": "[encoded data removed]"
          },
          "metadata": {}
        },
        {
          "output_type": "display_data",
          "data": {
            "text/plain": [
              "<Figure size 1440x360 with 1 Axes>"
            ],
            "image/png": "[encoded data removed]"
          },
          "metadata": {}
        }
      ]
    },
    {
      "cell_type": "markdown",
      "source": [
        "Other features also display significantly skewed distribution."
      ],
      "metadata": {
        "id": "oNKu0dLwVaXd"
      }
    },
    {
      "cell_type": "markdown",
      "source": [
        "Let's have a look at distribution of price dataset. There are lots of 0 peak prices and mid-peak prices, but very few 0 off peak prices. So, I will analyse price sensivity only based on off-peak prices."
      ],
      "metadata": {
        "id": "LBzigglhVg2U"
      }
    },
    {
      "cell_type": "code",
      "source": [
        "for attr in ['price_off_peak_var', 'price_peak_var', 'price_mid_peak_var', 'price_off_peak_fix', 'price_peak_fix', 'price_mid_peak_fix']:\n",
        "    plot_histogram_by_churn(df=price_df, target_variable=attr, if_churn=False)"
      ],
      "metadata": {
        "colab": {
          "base_uri": "https://localhost:8080/",
          "height": 1000
        },
        "id": "IwAbj9UHVTX-",
        "outputId": "e827da42-3bdc-4e9b-c1c7-364272103109"
      },
      "execution_count": null,
      "outputs": [
        {
          "output_type": "display_data",
          "data": {
            "text/plain": [
              "<Figure size 1440x360 with 1 Axes>"
            ],
            "image/png": "[encoded data removed]"
          },
          "metadata": {}
        },
        {
          "output_type": "display_data",
          "data": {
            "text/plain": [
              "<Figure size 1440x360 with 1 Axes>"
            ],
            "image/png": "[encoded data removed]"
          },
          "metadata": {}
        },
        {
          "output_type": "display_data",
          "data": {
            "text/plain": [
              "<Figure size 1440x360 with 1 Axes>"
            ],
            "image/png": "[encoded data removed]"
          },
          "metadata": {}
        },
        {
          "output_type": "display_data",
          "data": {
            "text/plain": [
              "<Figure size 1440x360 with 1 Axes>"
            ],
            "image/png": "[encoded data removed]"
          },
          "metadata": {}
        },
        {
          "output_type": "display_data",
          "data": {
            "text/plain": [
              "<Figure size 1440x360 with 1 Axes>"
            ],
            "image/png": "[encoded data removed]"
          },
          "metadata": {}
        },
        {
          "output_type": "display_data",
          "data": {
            "text/plain": [
              "<Figure size 1440x360 with 1 Axes>"
            ],
            "image/png": "[encoded data removed]"
          },
          "metadata": {}
        }
      ]
    },
    {
      "cell_type": "markdown",
      "source": [
        "Now, let's check customers sensitivity to price. (Note: Normally, assuming other factors do not change, when the price increases and some cutomers switch, then we can say these customers are sensitive to price as the increase in prices lead the customer churn. But, if there is a decrease or no change in the price and cutomers still change their proveiders, I think in this case we cannot say these cutomers are sensitive to price.)"
      ],
      "metadata": {
        "id": "d9SSwfGQVq3c"
      }
    },
    {
      "cell_type": "code",
      "source": [
        "stat_ = ['max', 'min', 'mean']\n",
        "price_attr = ['price_off_peak_var','price_peak_var','price_mid_peak_var','price_off_peak_fix','price_peak_fix','price_mid_peak_fix']\n",
        "price_stat = price_df.drop(columns=['price_date']).groupby(['id']).agg({'price_off_peak_var': stat_, 'price_peak_var': stat_, 'price_mid_peak_var': stat_,\n",
        "                                                      'price_off_peak_fix': stat_, 'price_peak_fix': stat_, 'price_mid_peak_fix': stat_,})\n",
        "# flatten the column names\n",
        "price_stat.columns = ['_'.join(x) for x in zip(price_stat.columns.get_level_values(0), price_stat.columns.get_level_values(1))]\n",
        "price_stat = price_stat.reset_index()\n",
        "price_stat.head(3)"
      ],
      "metadata": {
        "colab": {
          "base_uri": "https://localhost:8080/",
          "height": 207
        },
        "id": "IoeaS4m7Vm7q",
        "outputId": "81a7ed69-4a8f-4c2d-9891-6d4a171241df"
      },
      "execution_count": null,
      "outputs": [
        {
          "output_type": "execute_result",
          "data": {
            "text/plain": [
              "                                 id  price_off_peak_var_max  \\\n",
              "0  0002203ffbb812588b632b9e628cc38d                0.128067   \n",
              "1  0004351ebdd665e6ee664792efc4fd13                0.148405   \n",
              "2  0010bcc39e42b3c2131ed2ce55246e3c                0.205742   \n",
              "\n",
              "   price_off_peak_var_min  price_off_peak_var_mean  price_peak_var_max  \\\n",
              "0                0.119906                 0.124338            0.105842   \n",
              "1                0.143943                 0.146426            0.000000   \n",
              "2                0.150837                 0.181558            0.000000   \n",
              "\n",
              "   price_peak_var_min  price_peak_var_mean  price_mid_peak_var_max  \\\n",
              "0            0.101673             0.103794                0.073773   \n",
              "1            0.000000             0.000000                0.000000   \n",
              "2            0.000000             0.000000                0.000000   \n",
              "\n",
              "   price_mid_peak_var_min  price_mid_peak_var_mean  price_off_peak_fix_max  \\\n",
              "0                0.070232                  0.07316               40.728885   \n",
              "1                0.000000                  0.00000               44.444710   \n",
              "2                0.000000                  0.00000               45.944710   \n",
              "\n",
              "   price_off_peak_fix_min  price_off_peak_fix_mean  price_peak_fix_max  \\\n",
              "0               40.565969                40.701732            24.43733   \n",
              "1               44.266931                44.385450             0.00000   \n",
              "2               44.444710                45.319710             0.00000   \n",
              "\n",
              "   price_peak_fix_min  price_peak_fix_mean  price_mid_peak_fix_max  \\\n",
              "0           24.339581            24.421038               16.291555   \n",
              "1            0.000000             0.000000                0.000000   \n",
              "2            0.000000             0.000000                0.000000   \n",
              "\n",
              "   price_mid_peak_fix_min  price_mid_peak_fix_mean  \n",
              "0               16.226389                16.280694  \n",
              "1                0.000000                 0.000000  \n",
              "2                0.000000                 0.000000  "
            ],
            "text/html": [
              "\n",
              "  <div id=\"df-1c3da8f5-8b06-4812-a270-4962faa728d9\">\n",
              "    <div class=\"colab-df-container\">\n",
              "      <div>\n",
              "<style scoped>\n",
              "    .dataframe tbody tr th:only-of-type {\n",
              "        vertical-align: middle;\n",
              "    }\n",
              "\n",
              "    .dataframe tbody tr th {\n",
              "        vertical-align: top;\n",
              "    }\n",
              "\n",
              "    .dataframe thead th {\n",
              "        text-align: right;\n",
              "    }\n",
              "</style>\n",
              "<table border=\"1\" class=\"dataframe\">\n",
              "  <thead>\n",
              "    <tr style=\"text-align: right;\">\n",
              "      <th></th>\n",
              "      <th>id</th>\n",
              "      <th>price_off_peak_var_max</th>\n",
              "      <th>price_off_peak_var_min</th>\n",
              "      <th>price_off_peak_var_mean</th>\n",
              "      <th>price_peak_var_max</th>\n",
              "      <th>price_peak_var_min</th>\n",
              "      <th>price_peak_var_mean</th>\n",
              "      <th>price_mid_peak_var_max</th>\n",
              "      <th>price_mid_peak_var_min</th>\n",
              "      <th>price_mid_peak_var_mean</th>\n",
              "      <th>price_off_peak_fix_max</th>\n",
              "      <th>price_off_peak_fix_min</th>\n",
              "      <th>price_off_peak_fix_mean</th>\n",
              "      <th>price_peak_fix_max</th>\n",
              "      <th>price_peak_fix_min</th>\n",
              "      <th>price_peak_fix_mean</th>\n",
              "      <th>price_mid_peak_fix_max</th>\n",
              "      <th>price_mid_peak_fix_min</th>\n",
              "      <th>price_mid_peak_fix_mean</th>\n",
              "    </tr>\n",
              "  </thead>\n",
              "  <tbody>\n",
              "    <tr>\n",
              "      <th>0</th>\n",
              "      <td>0002203ffbb812588b632b9e628cc38d</td>\n",
              "      <td>0.128067</td>\n",
              "      <td>0.119906</td>\n",
              "      <td>0.124338</td>\n",
              "      <td>0.105842</td>\n",
              "      <td>0.101673</td>\n",
              "      <td>0.103794</td>\n",
              "      <td>0.073773</td>\n",
              "      <td>0.070232</td>\n",
              "      <td>0.07316</td>\n",
              "      <td>40.728885</td>\n",
              "      <td>40.565969</td>\n",
              "      <td>40.701732</td>\n",
              "      <td>24.43733</td>\n",
              "      <td>24.339581</td>\n",
              "      <td>24.421038</td>\n",
              "      <td>16.291555</td>\n",
              "      <td>16.226389</td>\n",
              "      <td>16.280694</td>\n",
              "    </tr>\n",
              "    <tr>\n",
              "      <th>1</th>\n",
              "      <td>0004351ebdd665e6ee664792efc4fd13</td>\n",
              "      <td>0.148405</td>\n",
              "      <td>0.143943</td>\n",
              "      <td>0.146426</td>\n",
              "      <td>0.000000</td>\n",
              "      <td>0.000000</td>\n",
              "      <td>0.000000</td>\n",
              "      <td>0.000000</td>\n",
              "      <td>0.000000</td>\n",
              "      <td>0.00000</td>\n",
              "      <td>44.444710</td>\n",
              "      <td>44.266931</td>\n",
              "      <td>44.385450</td>\n",
              "      <td>0.00000</td>\n",
              "      <td>0.000000</td>\n",
              "      <td>0.000000</td>\n",
              "      <td>0.000000</td>\n",
              "      <td>0.000000</td>\n",
              "      <td>0.000000</td>\n",
              "    </tr>\n",
              "    <tr>\n",
              "      <th>2</th>\n",
              "      <td>0010bcc39e42b3c2131ed2ce55246e3c</td>\n",
              "      <td>0.205742</td>\n",
              "      <td>0.150837</td>\n",
              "      <td>0.181558</td>\n",
              "      <td>0.000000</td>\n",
              "      <td>0.000000</td>\n",
              "      <td>0.000000</td>\n",
              "      <td>0.000000</td>\n",
              "      <td>0.000000</td>\n",
              "      <td>0.00000</td>\n",
              "      <td>45.944710</td>\n",
              "      <td>44.444710</td>\n",
              "      <td>45.319710</td>\n",
              "      <td>0.00000</td>\n",
              "      <td>0.000000</td>\n",
              "      <td>0.000000</td>\n",
              "      <td>0.000000</td>\n",
              "      <td>0.000000</td>\n",
              "      <td>0.000000</td>\n",
              "    </tr>\n",
              "  </tbody>\n",
              "</table>\n",
              "</div>\n",
              "      <button class=\"colab-df-convert\" onclick=\"convertToInteractive('df-1c3da8f5-8b06-4812-a270-4962faa728d9')\"\n",
              "              title=\"Convert this dataframe to an interactive table.\"\n",
              "              style=\"display:none;\">\n",
              "        \n",
              "  <svg xmlns=\"http://www.w3.org/2000/svg\" height=\"24px\"viewBox=\"0 0 24 24\"\n",
              "       width=\"24px\">\n",
              "    <path d=\"M0 0h24v24H0V0z\" fill=\"none\"/>\n",
              "    <path d=\"M18.56 5.44l.94 2.06.94-2.06 2.06-.94-2.06-.94-.94-2.06-.94 2.06-2.06.94zm-11 1L8.5 8.5l.94-2.06 2.06-.94-2.06-.94L8.5 2.5l-.94 2.06-2.06.94zm10 10l.94 2.06.94-2.06 2.06-.94-2.06-.94-.94-2.06-.94 2.06-2.06.94z\"/><path d=\"M17.41 7.96l-1.37-1.37c-.4-.4-.92-.59-1.43-.59-.52 0-1.04.2-1.43.59L10.3 9.45l-7.72 7.72c-.78.78-.78 2.05 0 2.83L4 21.41c.39.39.9.59 1.41.59.51 0 1.02-.2 1.41-.59l7.78-7.78 2.81-2.81c.8-.78.8-2.07 0-2.86zM5.41 20L4 18.59l7.72-7.72 1.47 1.35L5.41 20z\"/>\n",
              "  </svg>\n",
              "      </button>\n",
              "      \n",
              "  <style>\n",
              "    .colab-df-container {\n",
              "      display:flex;\n",
              "      flex-wrap:wrap;\n",
              "      gap: 12px;\n",
              "    }\n",
              "\n",
              "    .colab-df-convert {\n",
              "      background-color: #E8F0FE;\n",
              "      border: none;\n",
              "      border-radius: 50%;\n",
              "      cursor: pointer;\n",
              "      display: none;\n",
              "      fill: #1967D2;\n",
              "      height: 32px;\n",
              "      padding: 0 0 0 0;\n",
              "      width: 32px;\n",
              "    }\n",
              "\n",
              "    .colab-df-convert:hover {\n",
              "      background-color: #E2EBFA;\n",
              "      box-shadow: 0px 1px 2px rgba(60, 64, 67, 0.3), 0px 1px 3px 1px rgba(60, 64, 67, 0.15);\n",
              "      fill: #174EA6;\n",
              "    }\n",
              "\n",
              "    [theme=dark] .colab-df-convert {\n",
              "      background-color: #3B4455;\n",
              "      fill: #D2E3FC;\n",
              "    }\n",
              "\n",
              "    [theme=dark] .colab-df-convert:hover {\n",
              "      background-color: #434B5C;\n",
              "      box-shadow: 0px 1px 3px 1px rgba(0, 0, 0, 0.15);\n",
              "      filter: drop-shadow(0px 1px 2px rgba(0, 0, 0, 0.3));\n",
              "      fill: #FFFFFF;\n",
              "    }\n",
              "  </style>\n",
              "\n",
              "      <script>\n",
              "        const buttonEl =\n",
              "          document.querySelector('#df-1c3da8f5-8b06-4812-a270-4962faa728d9 button.colab-df-convert');\n",
              "        buttonEl.style.display =\n",
              "          google.colab.kernel.accessAllowed ? 'block' : 'none';\n",
              "\n",
              "        async function convertToInteractive(key) {\n",
              "          const element = document.querySelector('#df-1c3da8f5-8b06-4812-a270-4962faa728d9');\n",
              "          const dataTable =\n",
              "            await google.colab.kernel.invokeFunction('convertToInteractive',\n",
              "                                                     [key], {});\n",
              "          if (!dataTable) return;\n",
              "\n",
              "          const docLinkHtml = 'Like what you see? Visit the ' +\n",
              "            '<a target=\"_blank\" href=https://colab.research.google.com/notebooks/data_table.ipynb>data table notebook</a>'\n",
              "            + ' to learn more about interactive tables.';\n",
              "          element.innerHTML = '';\n",
              "          dataTable['output_type'] = 'display_data';\n",
              "          await google.colab.output.renderOutput(dataTable, element);\n",
              "          const docLink = document.createElement('div');\n",
              "          docLink.innerHTML = docLinkHtml;\n",
              "          element.appendChild(docLink);\n",
              "        }\n",
              "      </script>\n",
              "    </div>\n",
              "  </div>\n",
              "  "
            ]
          },
          "metadata": {},
          "execution_count": 59
        }
      ]
    },
    {
      "cell_type": "code",
      "source": [
        "# add churn values\n",
        "price_stat = price_stat.merge(client_df[['id','churn']], on=['id'], how='left')\n",
        "# drop ids that are not inclued in the price dataset \n",
        "price_stat = price_stat.dropna(subset=['churn']).reset_index(drop=True)\n",
        "price_stat.head(3)"
      ],
      "metadata": {
        "colab": {
          "base_uri": "https://localhost:8080/",
          "height": 207
        },
        "id": "V9crXlxHWCRC",
        "outputId": "33c88576-56bd-4001-eb3f-3b45ec5ce30d"
      },
      "execution_count": null,
      "outputs": [
        {
          "output_type": "execute_result",
          "data": {
            "text/plain": [
              "                                 id  price_off_peak_var_max  \\\n",
              "0  0002203ffbb812588b632b9e628cc38d                0.128067   \n",
              "1  0004351ebdd665e6ee664792efc4fd13                0.148405   \n",
              "2  0010bcc39e42b3c2131ed2ce55246e3c                0.205742   \n",
              "\n",
              "   price_off_peak_var_min  price_off_peak_var_mean  price_peak_var_max  \\\n",
              "0                0.119906                 0.124338            0.105842   \n",
              "1                0.143943                 0.146426            0.000000   \n",
              "2                0.150837                 0.181558            0.000000   \n",
              "\n",
              "   price_peak_var_min  price_peak_var_mean  price_mid_peak_var_max  \\\n",
              "0            0.101673             0.103794                0.073773   \n",
              "1            0.000000             0.000000                0.000000   \n",
              "2            0.000000             0.000000                0.000000   \n",
              "\n",
              "   price_mid_peak_var_min  price_mid_peak_var_mean  price_off_peak_fix_max  \\\n",
              "0                0.070232                  0.07316               40.728885   \n",
              "1                0.000000                  0.00000               44.444710   \n",
              "2                0.000000                  0.00000               45.944710   \n",
              "\n",
              "   price_off_peak_fix_min  price_off_peak_fix_mean  price_peak_fix_max  \\\n",
              "0               40.565969                40.701732            24.43733   \n",
              "1               44.266931                44.385450             0.00000   \n",
              "2               44.444710                45.319710             0.00000   \n",
              "\n",
              "   price_peak_fix_min  price_peak_fix_mean  price_mid_peak_fix_max  \\\n",
              "0           24.339581            24.421038               16.291555   \n",
              "1            0.000000             0.000000                0.000000   \n",
              "2            0.000000             0.000000                0.000000   \n",
              "\n",
              "   price_mid_peak_fix_min  price_mid_peak_fix_mean   churn  \n",
              "0               16.226389                16.280694  Stayed  \n",
              "1                0.000000                 0.000000  Stayed  \n",
              "2                0.000000                 0.000000  Stayed  "
            ],
            "text/html": [
              "\n",
              "  <div id=\"df-efc2e370-ff29-4093-9b31-fb98d3055872\">\n",
              "    <div class=\"colab-df-container\">\n",
              "      <div>\n",
              "<style scoped>\n",
              "    .dataframe tbody tr th:only-of-type {\n",
              "        vertical-align: middle;\n",
              "    }\n",
              "\n",
              "    .dataframe tbody tr th {\n",
              "        vertical-align: top;\n",
              "    }\n",
              "\n",
              "    .dataframe thead th {\n",
              "        text-align: right;\n",
              "    }\n",
              "</style>\n",
              "<table border=\"1\" class=\"dataframe\">\n",
              "  <thead>\n",
              "    <tr style=\"text-align: right;\">\n",
              "      <th></th>\n",
              "      <th>id</th>\n",
              "      <th>price_off_peak_var_max</th>\n",
              "      <th>price_off_peak_var_min</th>\n",
              "      <th>price_off_peak_var_mean</th>\n",
              "      <th>price_peak_var_max</th>\n",
              "      <th>price_peak_var_min</th>\n",
              "      <th>price_peak_var_mean</th>\n",
              "      <th>price_mid_peak_var_max</th>\n",
              "      <th>price_mid_peak_var_min</th>\n",
              "      <th>price_mid_peak_var_mean</th>\n",
              "      <th>price_off_peak_fix_max</th>\n",
              "      <th>price_off_peak_fix_min</th>\n",
              "      <th>price_off_peak_fix_mean</th>\n",
              "      <th>price_peak_fix_max</th>\n",
              "      <th>price_peak_fix_min</th>\n",
              "      <th>price_peak_fix_mean</th>\n",
              "      <th>price_mid_peak_fix_max</th>\n",
              "      <th>price_mid_peak_fix_min</th>\n",
              "      <th>price_mid_peak_fix_mean</th>\n",
              "      <th>churn</th>\n",
              "    </tr>\n",
              "  </thead>\n",
              "  <tbody>\n",
              "    <tr>\n",
              "      <th>0</th>\n",
              "      <td>0002203ffbb812588b632b9e628cc38d</td>\n",
              "      <td>0.128067</td>\n",
              "      <td>0.119906</td>\n",
              "      <td>0.124338</td>\n",
              "      <td>0.105842</td>\n",
              "      <td>0.101673</td>\n",
              "      <td>0.103794</td>\n",
              "      <td>0.073773</td>\n",
              "      <td>0.070232</td>\n",
              "      <td>0.07316</td>\n",
              "      <td>40.728885</td>\n",
              "      <td>40.565969</td>\n",
              "      <td>40.701732</td>\n",
              "      <td>24.43733</td>\n",
              "      <td>24.339581</td>\n",
              "      <td>24.421038</td>\n",
              "      <td>16.291555</td>\n",
              "      <td>16.226389</td>\n",
              "      <td>16.280694</td>\n",
              "      <td>Stayed</td>\n",
              "    </tr>\n",
              "    <tr>\n",
              "      <th>1</th>\n",
              "      <td>0004351ebdd665e6ee664792efc4fd13</td>\n",
              "      <td>0.148405</td>\n",
              "      <td>0.143943</td>\n",
              "      <td>0.146426</td>\n",
              "      <td>0.000000</td>\n",
              "      <td>0.000000</td>\n",
              "      <td>0.000000</td>\n",
              "      <td>0.000000</td>\n",
              "      <td>0.000000</td>\n",
              "      <td>0.00000</td>\n",
              "      <td>44.444710</td>\n",
              "      <td>44.266931</td>\n",
              "      <td>44.385450</td>\n",
              "      <td>0.00000</td>\n",
              "      <td>0.000000</td>\n",
              "      <td>0.000000</td>\n",
              "      <td>0.000000</td>\n",
              "      <td>0.000000</td>\n",
              "      <td>0.000000</td>\n",
              "      <td>Stayed</td>\n",
              "    </tr>\n",
              "    <tr>\n",
              "      <th>2</th>\n",
              "      <td>0010bcc39e42b3c2131ed2ce55246e3c</td>\n",
              "      <td>0.205742</td>\n",
              "      <td>0.150837</td>\n",
              "      <td>0.181558</td>\n",
              "      <td>0.000000</td>\n",
              "      <td>0.000000</td>\n",
              "      <td>0.000000</td>\n",
              "      <td>0.000000</td>\n",
              "      <td>0.000000</td>\n",
              "      <td>0.00000</td>\n",
              "      <td>45.944710</td>\n",
              "      <td>44.444710</td>\n",
              "      <td>45.319710</td>\n",
              "      <td>0.00000</td>\n",
              "      <td>0.000000</td>\n",
              "      <td>0.000000</td>\n",
              "      <td>0.000000</td>\n",
              "      <td>0.000000</td>\n",
              "      <td>0.000000</td>\n",
              "      <td>Stayed</td>\n",
              "    </tr>\n",
              "  </tbody>\n",
              "</table>\n",
              "</div>\n",
              "      <button class=\"colab-df-convert\" onclick=\"convertToInteractive('df-efc2e370-ff29-4093-9b31-fb98d3055872')\"\n",
              "              title=\"Convert this dataframe to an interactive table.\"\n",
              "              style=\"display:none;\">\n",
              "        \n",
              "  <svg xmlns=\"http://www.w3.org/2000/svg\" height=\"24px\"viewBox=\"0 0 24 24\"\n",
              "       width=\"24px\">\n",
              "    <path d=\"M0 0h24v24H0V0z\" fill=\"none\"/>\n",
              "    <path d=\"M18.56 5.44l.94 2.06.94-2.06 2.06-.94-2.06-.94-.94-2.06-.94 2.06-2.06.94zm-11 1L8.5 8.5l.94-2.06 2.06-.94-2.06-.94L8.5 2.5l-.94 2.06-2.06.94zm10 10l.94 2.06.94-2.06 2.06-.94-2.06-.94-.94-2.06-.94 2.06-2.06.94z\"/><path d=\"M17.41 7.96l-1.37-1.37c-.4-.4-.92-.59-1.43-.59-.52 0-1.04.2-1.43.59L10.3 9.45l-7.72 7.72c-.78.78-.78 2.05 0 2.83L4 21.41c.39.39.9.59 1.41.59.51 0 1.02-.2 1.41-.59l7.78-7.78 2.81-2.81c.8-.78.8-2.07 0-2.86zM5.41 20L4 18.59l7.72-7.72 1.47 1.35L5.41 20z\"/>\n",
              "  </svg>\n",
              "      </button>\n",
              "      \n",
              "  <style>\n",
              "    .colab-df-container {\n",
              "      display:flex;\n",
              "      flex-wrap:wrap;\n",
              "      gap: 12px;\n",
              "    }\n",
              "\n",
              "    .colab-df-convert {\n",
              "      background-color: #E8F0FE;\n",
              "      border: none;\n",
              "      border-radius: 50%;\n",
              "      cursor: pointer;\n",
              "      display: none;\n",
              "      fill: #1967D2;\n",
              "      height: 32px;\n",
              "      padding: 0 0 0 0;\n",
              "      width: 32px;\n",
              "    }\n",
              "\n",
              "    .colab-df-convert:hover {\n",
              "      background-color: #E2EBFA;\n",
              "      box-shadow: 0px 1px 2px rgba(60, 64, 67, 0.3), 0px 1px 3px 1px rgba(60, 64, 67, 0.15);\n",
              "      fill: #174EA6;\n",
              "    }\n",
              "\n",
              "    [theme=dark] .colab-df-convert {\n",
              "      background-color: #3B4455;\n",
              "      fill: #D2E3FC;\n",
              "    }\n",
              "\n",
              "    [theme=dark] .colab-df-convert:hover {\n",
              "      background-color: #434B5C;\n",
              "      box-shadow: 0px 1px 3px 1px rgba(0, 0, 0, 0.15);\n",
              "      filter: drop-shadow(0px 1px 2px rgba(0, 0, 0, 0.3));\n",
              "      fill: #FFFFFF;\n",
              "    }\n",
              "  </style>\n",
              "\n",
              "      <script>\n",
              "        const buttonEl =\n",
              "          document.querySelector('#df-efc2e370-ff29-4093-9b31-fb98d3055872 button.colab-df-convert');\n",
              "        buttonEl.style.display =\n",
              "          google.colab.kernel.accessAllowed ? 'block' : 'none';\n",
              "\n",
              "        async function convertToInteractive(key) {\n",
              "          const element = document.querySelector('#df-efc2e370-ff29-4093-9b31-fb98d3055872');\n",
              "          const dataTable =\n",
              "            await google.colab.kernel.invokeFunction('convertToInteractive',\n",
              "                                                     [key], {});\n",
              "          if (!dataTable) return;\n",
              "\n",
              "          const docLinkHtml = 'Like what you see? Visit the ' +\n",
              "            '<a target=\"_blank\" href=https://colab.research.google.com/notebooks/data_table.ipynb>data table notebook</a>'\n",
              "            + ' to learn more about interactive tables.';\n",
              "          element.innerHTML = '';\n",
              "          dataTable['output_type'] = 'display_data';\n",
              "          await google.colab.output.renderOutput(dataTable, element);\n",
              "          const docLink = document.createElement('div');\n",
              "          docLink.innerHTML = docLinkHtml;\n",
              "          element.appendChild(docLink);\n",
              "        }\n",
              "      </script>\n",
              "    </div>\n",
              "  </div>\n",
              "  "
            ]
          },
          "metadata": {},
          "execution_count": 60
        }
      ]
    },
    {
      "cell_type": "code",
      "source": [
        "# Calculate the biggest changes in prices over the whole year.\n",
        "for attr in price_attr:\n",
        "    price_stat[f'diff_max_min_{attr}'] = price_stat[f'{attr}_max'] - price_stat[f'{attr}_min']\n",
        "#\n",
        "price_stat.head(3)"
      ],
      "metadata": {
        "colab": {
          "base_uri": "https://localhost:8080/",
          "height": 237
        },
        "id": "6fb2fz3EWUie",
        "outputId": "b90ad566-788c-4aec-848e-7e006fcca2f7"
      },
      "execution_count": null,
      "outputs": [
        {
          "output_type": "execute_result",
          "data": {
            "text/plain": [
              "                                 id  price_off_peak_var_max  \\\n",
              "0  0002203ffbb812588b632b9e628cc38d                0.128067   \n",
              "1  0004351ebdd665e6ee664792efc4fd13                0.148405   \n",
              "2  0010bcc39e42b3c2131ed2ce55246e3c                0.205742   \n",
              "\n",
              "   price_off_peak_var_min  price_off_peak_var_mean  price_peak_var_max  \\\n",
              "0                0.119906                 0.124338            0.105842   \n",
              "1                0.143943                 0.146426            0.000000   \n",
              "2                0.150837                 0.181558            0.000000   \n",
              "\n",
              "   price_peak_var_min  price_peak_var_mean  price_mid_peak_var_max  \\\n",
              "0            0.101673             0.103794                0.073773   \n",
              "1            0.000000             0.000000                0.000000   \n",
              "2            0.000000             0.000000                0.000000   \n",
              "\n",
              "   price_mid_peak_var_min  price_mid_peak_var_mean  ...  \\\n",
              "0                0.070232                  0.07316  ...   \n",
              "1                0.000000                  0.00000  ...   \n",
              "2                0.000000                  0.00000  ...   \n",
              "\n",
              "   price_mid_peak_fix_max  price_mid_peak_fix_min  price_mid_peak_fix_mean  \\\n",
              "0               16.291555               16.226389                16.280694   \n",
              "1                0.000000                0.000000                 0.000000   \n",
              "2                0.000000                0.000000                 0.000000   \n",
              "\n",
              "    churn  diff_max_min_price_off_peak_var  diff_max_min_price_peak_var  \\\n",
              "0  Stayed                         0.008161                     0.004169   \n",
              "1  Stayed                         0.004462                     0.000000   \n",
              "2  Stayed                         0.054905                     0.000000   \n",
              "\n",
              "   diff_max_min_price_mid_peak_var  diff_max_min_price_off_peak_fix  \\\n",
              "0                         0.003541                         0.162916   \n",
              "1                         0.000000                         0.177779   \n",
              "2                         0.000000                         1.500000   \n",
              "\n",
              "   diff_max_min_price_peak_fix diff_max_min_price_mid_peak_fix  \n",
              "0                     0.097749                        0.065166  \n",
              "1                     0.000000                        0.000000  \n",
              "2                     0.000000                        0.000000  \n",
              "\n",
              "[3 rows x 26 columns]"
            ],
            "text/html": [
              "\n",
              "  <div id=\"df-12885df5-d85c-47e9-923c-5741e5cbba4d\">\n",
              "    <div class=\"colab-df-container\">\n",
              "      <div>\n",
              "<style scoped>\n",
              "    .dataframe tbody tr th:only-of-type {\n",
              "        vertical-align: middle;\n",
              "    }\n",
              "\n",
              "    .dataframe tbody tr th {\n",
              "        vertical-align: top;\n",
              "    }\n",
              "\n",
              "    .dataframe thead th {\n",
              "        text-align: right;\n",
              "    }\n",
              "</style>\n",
              "<table border=\"1\" class=\"dataframe\">\n",
              "  <thead>\n",
              "    <tr style=\"text-align: right;\">\n",
              "      <th></th>\n",
              "      <th>id</th>\n",
              "      <th>price_off_peak_var_max</th>\n",
              "      <th>price_off_peak_var_min</th>\n",
              "      <th>price_off_peak_var_mean</th>\n",
              "      <th>price_peak_var_max</th>\n",
              "      <th>price_peak_var_min</th>\n",
              "      <th>price_peak_var_mean</th>\n",
              "      <th>price_mid_peak_var_max</th>\n",
              "      <th>price_mid_peak_var_min</th>\n",
              "      <th>price_mid_peak_var_mean</th>\n",
              "      <th>...</th>\n",
              "      <th>price_mid_peak_fix_max</th>\n",
              "      <th>price_mid_peak_fix_min</th>\n",
              "      <th>price_mid_peak_fix_mean</th>\n",
              "      <th>churn</th>\n",
              "      <th>diff_max_min_price_off_peak_var</th>\n",
              "      <th>diff_max_min_price_peak_var</th>\n",
              "      <th>diff_max_min_price_mid_peak_var</th>\n",
              "      <th>diff_max_min_price_off_peak_fix</th>\n",
              "      <th>diff_max_min_price_peak_fix</th>\n",
              "      <th>diff_max_min_price_mid_peak_fix</th>\n",
              "    </tr>\n",
              "  </thead>\n",
              "  <tbody>\n",
              "    <tr>\n",
              "      <th>0</th>\n",
              "      <td>0002203ffbb812588b632b9e628cc38d</td>\n",
              "      <td>0.128067</td>\n",
              "      <td>0.119906</td>\n",
              "      <td>0.124338</td>\n",
              "      <td>0.105842</td>\n",
              "      <td>0.101673</td>\n",
              "      <td>0.103794</td>\n",
              "      <td>0.073773</td>\n",
              "      <td>0.070232</td>\n",
              "      <td>0.07316</td>\n",
              "      <td>...</td>\n",
              "      <td>16.291555</td>\n",
              "      <td>16.226389</td>\n",
              "      <td>16.280694</td>\n",
              "      <td>Stayed</td>\n",
              "      <td>0.008161</td>\n",
              "      <td>0.004169</td>\n",
              "      <td>0.003541</td>\n",
              "      <td>0.162916</td>\n",
              "      <td>0.097749</td>\n",
              "      <td>0.065166</td>\n",
              "    </tr>\n",
              "    <tr>\n",
              "      <th>1</th>\n",
              "      <td>0004351ebdd665e6ee664792efc4fd13</td>\n",
              "      <td>0.148405</td>\n",
              "      <td>0.143943</td>\n",
              "      <td>0.146426</td>\n",
              "      <td>0.000000</td>\n",
              "      <td>0.000000</td>\n",
              "      <td>0.000000</td>\n",
              "      <td>0.000000</td>\n",
              "      <td>0.000000</td>\n",
              "      <td>0.00000</td>\n",
              "      <td>...</td>\n",
              "      <td>0.000000</td>\n",
              "      <td>0.000000</td>\n",
              "      <td>0.000000</td>\n",
              "      <td>Stayed</td>\n",
              "      <td>0.004462</td>\n",
              "      <td>0.000000</td>\n",
              "      <td>0.000000</td>\n",
              "      <td>0.177779</td>\n",
              "      <td>0.000000</td>\n",
              "      <td>0.000000</td>\n",
              "    </tr>\n",
              "    <tr>\n",
              "      <th>2</th>\n",
              "      <td>0010bcc39e42b3c2131ed2ce55246e3c</td>\n",
              "      <td>0.205742</td>\n",
              "      <td>0.150837</td>\n",
              "      <td>0.181558</td>\n",
              "      <td>0.000000</td>\n",
              "      <td>0.000000</td>\n",
              "      <td>0.000000</td>\n",
              "      <td>0.000000</td>\n",
              "      <td>0.000000</td>\n",
              "      <td>0.00000</td>\n",
              "      <td>...</td>\n",
              "      <td>0.000000</td>\n",
              "      <td>0.000000</td>\n",
              "      <td>0.000000</td>\n",
              "      <td>Stayed</td>\n",
              "      <td>0.054905</td>\n",
              "      <td>0.000000</td>\n",
              "      <td>0.000000</td>\n",
              "      <td>1.500000</td>\n",
              "      <td>0.000000</td>\n",
              "      <td>0.000000</td>\n",
              "    </tr>\n",
              "  </tbody>\n",
              "</table>\n",
              "<p>3 rows × 26 columns</p>\n",
              "</div>\n",
              "      <button class=\"colab-df-convert\" onclick=\"convertToInteractive('df-12885df5-d85c-47e9-923c-5741e5cbba4d')\"\n",
              "              title=\"Convert this dataframe to an interactive table.\"\n",
              "              style=\"display:none;\">\n",
              "        \n",
              "  <svg xmlns=\"http://www.w3.org/2000/svg\" height=\"24px\"viewBox=\"0 0 24 24\"\n",
              "       width=\"24px\">\n",
              "    <path d=\"M0 0h24v24H0V0z\" fill=\"none\"/>\n",
              "    <path d=\"M18.56 5.44l.94 2.06.94-2.06 2.06-.94-2.06-.94-.94-2.06-.94 2.06-2.06.94zm-11 1L8.5 8.5l.94-2.06 2.06-.94-2.06-.94L8.5 2.5l-.94 2.06-2.06.94zm10 10l.94 2.06.94-2.06 2.06-.94-2.06-.94-.94-2.06-.94 2.06-2.06.94z\"/><path d=\"M17.41 7.96l-1.37-1.37c-.4-.4-.92-.59-1.43-.59-.52 0-1.04.2-1.43.59L10.3 9.45l-7.72 7.72c-.78.78-.78 2.05 0 2.83L4 21.41c.39.39.9.59 1.41.59.51 0 1.02-.2 1.41-.59l7.78-7.78 2.81-2.81c.8-.78.8-2.07 0-2.86zM5.41 20L4 18.59l7.72-7.72 1.47 1.35L5.41 20z\"/>\n",
              "  </svg>\n",
              "      </button>\n",
              "      \n",
              "  <style>\n",
              "    .colab-df-container {\n",
              "      display:flex;\n",
              "      flex-wrap:wrap;\n",
              "      gap: 12px;\n",
              "    }\n",
              "\n",
              "    .colab-df-convert {\n",
              "      background-color: #E8F0FE;\n",
              "      border: none;\n",
              "      border-radius: 50%;\n",
              "      cursor: pointer;\n",
              "      display: none;\n",
              "      fill: #1967D2;\n",
              "      height: 32px;\n",
              "      padding: 0 0 0 0;\n",
              "      width: 32px;\n",
              "    }\n",
              "\n",
              "    .colab-df-convert:hover {\n",
              "      background-color: #E2EBFA;\n",
              "      box-shadow: 0px 1px 2px rgba(60, 64, 67, 0.3), 0px 1px 3px 1px rgba(60, 64, 67, 0.15);\n",
              "      fill: #174EA6;\n",
              "    }\n",
              "\n",
              "    [theme=dark] .colab-df-convert {\n",
              "      background-color: #3B4455;\n",
              "      fill: #D2E3FC;\n",
              "    }\n",
              "\n",
              "    [theme=dark] .colab-df-convert:hover {\n",
              "      background-color: #434B5C;\n",
              "      box-shadow: 0px 1px 3px 1px rgba(0, 0, 0, 0.15);\n",
              "      filter: drop-shadow(0px 1px 2px rgba(0, 0, 0, 0.3));\n",
              "      fill: #FFFFFF;\n",
              "    }\n",
              "  </style>\n",
              "\n",
              "      <script>\n",
              "        const buttonEl =\n",
              "          document.querySelector('#df-12885df5-d85c-47e9-923c-5741e5cbba4d button.colab-df-convert');\n",
              "        buttonEl.style.display =\n",
              "          google.colab.kernel.accessAllowed ? 'block' : 'none';\n",
              "\n",
              "        async function convertToInteractive(key) {\n",
              "          const element = document.querySelector('#df-12885df5-d85c-47e9-923c-5741e5cbba4d');\n",
              "          const dataTable =\n",
              "            await google.colab.kernel.invokeFunction('convertToInteractive',\n",
              "                                                     [key], {});\n",
              "          if (!dataTable) return;\n",
              "\n",
              "          const docLinkHtml = 'Like what you see? Visit the ' +\n",
              "            '<a target=\"_blank\" href=https://colab.research.google.com/notebooks/data_table.ipynb>data table notebook</a>'\n",
              "            + ' to learn more about interactive tables.';\n",
              "          element.innerHTML = '';\n",
              "          dataTable['output_type'] = 'display_data';\n",
              "          await google.colab.output.renderOutput(dataTable, element);\n",
              "          const docLink = document.createElement('div');\n",
              "          docLink.innerHTML = docLinkHtml;\n",
              "          element.appendChild(docLink);\n",
              "        }\n",
              "      </script>\n",
              "    </div>\n",
              "  </div>\n",
              "  "
            ]
          },
          "metadata": {},
          "execution_count": 61
        }
      ]
    },
    {
      "cell_type": "code",
      "source": [
        "for attr in price_attr:\n",
        "    plot_histogram_by_churn(df=price_stat, target_variable=f'diff_max_min_{attr}', if_churn=True)"
      ],
      "metadata": {
        "colab": {
          "base_uri": "https://localhost:8080/",
          "height": 1000
        },
        "id": "1vy2cH9NWYee",
        "outputId": "ef3b4284-c72f-41bf-fc74-16d77d97786c"
      },
      "execution_count": null,
      "outputs": [
        {
          "output_type": "display_data",
          "data": {
            "text/plain": [
              "<Figure size 1440x360 with 1 Axes>"
            ],
            "image/png": "[encoded data removed]"
          },
          "metadata": {}
        },
        {
          "output_type": "display_data",
          "data": {
            "text/plain": [
              "<Figure size 1440x360 with 1 Axes>"
            ],
            "image/png": "[encoded data removed]"
          },
          "metadata": {}
        },
        {
          "output_type": "display_data",
          "data": {
            "text/plain": [
              "<Figure size 1440x360 with 1 Axes>"
            ],
            "image/png": "[encoded data removed]"
          },
          "metadata": {}
        },
        {
          "output_type": "display_data",
          "data": {
            "text/plain": [
              "<Figure size 1440x360 with 1 Axes>"
            ],
            "image/png": "[encoded data removed]"
          },
          "metadata": {}
        },
        {
          "output_type": "display_data",
          "data": {
            "text/plain": [
              "<Figure size 1440x360 with 1 Axes>"
            ],
            "image/png": "[encoded data removed]"
          },
          "metadata": {}
        },
        {
          "output_type": "display_data",
          "data": {
            "text/plain": [
              "<Figure size 1440x360 with 1 Axes>"
            ],
            "image/png": "[encoded data removed]"
          },
          "metadata": {}
        }
      ]
    },
    {
      "cell_type": "code",
      "source": [
        "#Calculate the difference between the price last month (2015-12-01) and mean price.\n",
        "# add diff\n",
        "for attr in price_attr:\n",
        "    price_stat[f'diff_Dec_mean_{attr}'] = price_df[price_df['id'].isin(price_stat['id'])].groupby(['id'])[attr].nth(-1).values - price_stat[f'{attr}_mean']\n",
        "#\n",
        "price_stat.head(3)"
      ],
      "metadata": {
        "colab": {
          "base_uri": "https://localhost:8080/",
          "height": 237
        },
        "id": "JP1xL4JBVTa6",
        "outputId": "7d2cddb3-e79f-42f3-9c21-6cae1afaf974"
      },
      "execution_count": null,
      "outputs": [
        {
          "output_type": "execute_result",
          "data": {
            "text/plain": [
              "                                 id  price_off_peak_var_max  \\\n",
              "0  0002203ffbb812588b632b9e628cc38d                0.128067   \n",
              "1  0004351ebdd665e6ee664792efc4fd13                0.148405   \n",
              "2  0010bcc39e42b3c2131ed2ce55246e3c                0.205742   \n",
              "\n",
              "   price_off_peak_var_min  price_off_peak_var_mean  price_peak_var_max  \\\n",
              "0                0.119906                 0.124338            0.105842   \n",
              "1                0.143943                 0.146426            0.000000   \n",
              "2                0.150837                 0.181558            0.000000   \n",
              "\n",
              "   price_peak_var_min  price_peak_var_mean  price_mid_peak_var_max  \\\n",
              "0            0.101673             0.103794                0.073773   \n",
              "1            0.000000             0.000000                0.000000   \n",
              "2            0.000000             0.000000                0.000000   \n",
              "\n",
              "   price_mid_peak_var_min  price_mid_peak_var_mean  ...  \\\n",
              "0                0.070232                  0.07316  ...   \n",
              "1                0.000000                  0.00000  ...   \n",
              "2                0.000000                  0.00000  ...   \n",
              "\n",
              "   diff_max_min_price_mid_peak_var  diff_max_min_price_off_peak_fix  \\\n",
              "0                         0.003541                         0.162916   \n",
              "1                         0.000000                         0.177779   \n",
              "2                         0.000000                         1.500000   \n",
              "\n",
              "   diff_max_min_price_peak_fix  diff_max_min_price_mid_peak_fix  \\\n",
              "0                     0.097749                         0.065166   \n",
              "1                     0.000000                         0.000000   \n",
              "2                     0.000000                         0.000000   \n",
              "\n",
              "   diff_Dec_mean_price_off_peak_var  diff_Dec_mean_price_peak_var  \\\n",
              "0                         -0.004432                     -0.002121   \n",
              "1                         -0.002483                      0.000000   \n",
              "2                          0.019722                      0.000000   \n",
              "\n",
              "   diff_Dec_mean_price_mid_peak_var  diff_Dec_mean_price_off_peak_fix  \\\n",
              "0                          0.000559                          0.027153   \n",
              "1                          0.000000                          0.059260   \n",
              "2                          0.000000                          0.625000   \n",
              "\n",
              "   diff_Dec_mean_price_peak_fix diff_Dec_mean_price_mid_peak_fix  \n",
              "0                      0.016292                         0.010861  \n",
              "1                      0.000000                         0.000000  \n",
              "2                      0.000000                         0.000000  \n",
              "\n",
              "[3 rows x 32 columns]"
            ],
            "text/html": [
              "\n",
              "  <div id=\"df-ef8b66f7-4003-494f-8c47-80535f5db9bb\">\n",
              "    <div class=\"colab-df-container\">\n",
              "      <div>\n",
              "<style scoped>\n",
              "    .dataframe tbody tr th:only-of-type {\n",
              "        vertical-align: middle;\n",
              "    }\n",
              "\n",
              "    .dataframe tbody tr th {\n",
              "        vertical-align: top;\n",
              "    }\n",
              "\n",
              "    .dataframe thead th {\n",
              "        text-align: right;\n",
              "    }\n",
              "</style>\n",
              "<table border=\"1\" class=\"dataframe\">\n",
              "  <thead>\n",
              "    <tr style=\"text-align: right;\">\n",
              "      <th></th>\n",
              "      <th>id</th>\n",
              "      <th>price_off_peak_var_max</th>\n",
              "      <th>price_off_peak_var_min</th>\n",
              "      <th>price_off_peak_var_mean</th>\n",
              "      <th>price_peak_var_max</th>\n",
              "      <th>price_peak_var_min</th>\n",
              "      <th>price_peak_var_mean</th>\n",
              "      <th>price_mid_peak_var_max</th>\n",
              "      <th>price_mid_peak_var_min</th>\n",
              "      <th>price_mid_peak_var_mean</th>\n",
              "      <th>...</th>\n",
              "      <th>diff_max_min_price_mid_peak_var</th>\n",
              "      <th>diff_max_min_price_off_peak_fix</th>\n",
              "      <th>diff_max_min_price_peak_fix</th>\n",
              "      <th>diff_max_min_price_mid_peak_fix</th>\n",
              "      <th>diff_Dec_mean_price_off_peak_var</th>\n",
              "      <th>diff_Dec_mean_price_peak_var</th>\n",
              "      <th>diff_Dec_mean_price_mid_peak_var</th>\n",
              "      <th>diff_Dec_mean_price_off_peak_fix</th>\n",
              "      <th>diff_Dec_mean_price_peak_fix</th>\n",
              "      <th>diff_Dec_mean_price_mid_peak_fix</th>\n",
              "    </tr>\n",
              "  </thead>\n",
              "  <tbody>\n",
              "    <tr>\n",
              "      <th>0</th>\n",
              "      <td>0002203ffbb812588b632b9e628cc38d</td>\n",
              "      <td>0.128067</td>\n",
              "      <td>0.119906</td>\n",
              "      <td>0.124338</td>\n",
              "      <td>0.105842</td>\n",
              "      <td>0.101673</td>\n",
              "      <td>0.103794</td>\n",
              "      <td>0.073773</td>\n",
              "      <td>0.070232</td>\n",
              "      <td>0.07316</td>\n",
              "      <td>...</td>\n",
              "      <td>0.003541</td>\n",
              "      <td>0.162916</td>\n",
              "      <td>0.097749</td>\n",
              "      <td>0.065166</td>\n",
              "      <td>-0.004432</td>\n",
              "      <td>-0.002121</td>\n",
              "      <td>0.000559</td>\n",
              "      <td>0.027153</td>\n",
              "      <td>0.016292</td>\n",
              "      <td>0.010861</td>\n",
              "    </tr>\n",
              "    <tr>\n",
              "      <th>1</th>\n",
              "      <td>0004351ebdd665e6ee664792efc4fd13</td>\n",
              "      <td>0.148405</td>\n",
              "      <td>0.143943</td>\n",
              "      <td>0.146426</td>\n",
              "      <td>0.000000</td>\n",
              "      <td>0.000000</td>\n",
              "      <td>0.000000</td>\n",
              "      <td>0.000000</td>\n",
              "      <td>0.000000</td>\n",
              "      <td>0.00000</td>\n",
              "      <td>...</td>\n",
              "      <td>0.000000</td>\n",
              "      <td>0.177779</td>\n",
              "      <td>0.000000</td>\n",
              "      <td>0.000000</td>\n",
              "      <td>-0.002483</td>\n",
              "      <td>0.000000</td>\n",
              "      <td>0.000000</td>\n",
              "      <td>0.059260</td>\n",
              "      <td>0.000000</td>\n",
              "      <td>0.000000</td>\n",
              "    </tr>\n",
              "    <tr>\n",
              "      <th>2</th>\n",
              "      <td>0010bcc39e42b3c2131ed2ce55246e3c</td>\n",
              "      <td>0.205742</td>\n",
              "      <td>0.150837</td>\n",
              "      <td>0.181558</td>\n",
              "      <td>0.000000</td>\n",
              "      <td>0.000000</td>\n",
              "      <td>0.000000</td>\n",
              "      <td>0.000000</td>\n",
              "      <td>0.000000</td>\n",
              "      <td>0.00000</td>\n",
              "      <td>...</td>\n",
              "      <td>0.000000</td>\n",
              "      <td>1.500000</td>\n",
              "      <td>0.000000</td>\n",
              "      <td>0.000000</td>\n",
              "      <td>0.019722</td>\n",
              "      <td>0.000000</td>\n",
              "      <td>0.000000</td>\n",
              "      <td>0.625000</td>\n",
              "      <td>0.000000</td>\n",
              "      <td>0.000000</td>\n",
              "    </tr>\n",
              "  </tbody>\n",
              "</table>\n",
              "<p>3 rows × 32 columns</p>\n",
              "</div>\n",
              "      <button class=\"colab-df-convert\" onclick=\"convertToInteractive('df-ef8b66f7-4003-494f-8c47-80535f5db9bb')\"\n",
              "              title=\"Convert this dataframe to an interactive table.\"\n",
              "              style=\"display:none;\">\n",
              "        \n",
              "  <svg xmlns=\"http://www.w3.org/2000/svg\" height=\"24px\"viewBox=\"0 0 24 24\"\n",
              "       width=\"24px\">\n",
              "    <path d=\"M0 0h24v24H0V0z\" fill=\"none\"/>\n",
              "    <path d=\"M18.56 5.44l.94 2.06.94-2.06 2.06-.94-2.06-.94-.94-2.06-.94 2.06-2.06.94zm-11 1L8.5 8.5l.94-2.06 2.06-.94-2.06-.94L8.5 2.5l-.94 2.06-2.06.94zm10 10l.94 2.06.94-2.06 2.06-.94-2.06-.94-.94-2.06-.94 2.06-2.06.94z\"/><path d=\"M17.41 7.96l-1.37-1.37c-.4-.4-.92-.59-1.43-.59-.52 0-1.04.2-1.43.59L10.3 9.45l-7.72 7.72c-.78.78-.78 2.05 0 2.83L4 21.41c.39.39.9.59 1.41.59.51 0 1.02-.2 1.41-.59l7.78-7.78 2.81-2.81c.8-.78.8-2.07 0-2.86zM5.41 20L4 18.59l7.72-7.72 1.47 1.35L5.41 20z\"/>\n",
              "  </svg>\n",
              "      </button>\n",
              "      \n",
              "  <style>\n",
              "    .colab-df-container {\n",
              "      display:flex;\n",
              "      flex-wrap:wrap;\n",
              "      gap: 12px;\n",
              "    }\n",
              "\n",
              "    .colab-df-convert {\n",
              "      background-color: #E8F0FE;\n",
              "      border: none;\n",
              "      border-radius: 50%;\n",
              "      cursor: pointer;\n",
              "      display: none;\n",
              "      fill: #1967D2;\n",
              "      height: 32px;\n",
              "      padding: 0 0 0 0;\n",
              "      width: 32px;\n",
              "    }\n",
              "\n",
              "    .colab-df-convert:hover {\n",
              "      background-color: #E2EBFA;\n",
              "      box-shadow: 0px 1px 2px rgba(60, 64, 67, 0.3), 0px 1px 3px 1px rgba(60, 64, 67, 0.15);\n",
              "      fill: #174EA6;\n",
              "    }\n",
              "\n",
              "    [theme=dark] .colab-df-convert {\n",
              "      background-color: #3B4455;\n",
              "      fill: #D2E3FC;\n",
              "    }\n",
              "\n",
              "    [theme=dark] .colab-df-convert:hover {\n",
              "      background-color: #434B5C;\n",
              "      box-shadow: 0px 1px 3px 1px rgba(0, 0, 0, 0.15);\n",
              "      filter: drop-shadow(0px 1px 2px rgba(0, 0, 0, 0.3));\n",
              "      fill: #FFFFFF;\n",
              "    }\n",
              "  </style>\n",
              "\n",
              "      <script>\n",
              "        const buttonEl =\n",
              "          document.querySelector('#df-ef8b66f7-4003-494f-8c47-80535f5db9bb button.colab-df-convert');\n",
              "        buttonEl.style.display =\n",
              "          google.colab.kernel.accessAllowed ? 'block' : 'none';\n",
              "\n",
              "        async function convertToInteractive(key) {\n",
              "          const element = document.querySelector('#df-ef8b66f7-4003-494f-8c47-80535f5db9bb');\n",
              "          const dataTable =\n",
              "            await google.colab.kernel.invokeFunction('convertToInteractive',\n",
              "                                                     [key], {});\n",
              "          if (!dataTable) return;\n",
              "\n",
              "          const docLinkHtml = 'Like what you see? Visit the ' +\n",
              "            '<a target=\"_blank\" href=https://colab.research.google.com/notebooks/data_table.ipynb>data table notebook</a>'\n",
              "            + ' to learn more about interactive tables.';\n",
              "          element.innerHTML = '';\n",
              "          dataTable['output_type'] = 'display_data';\n",
              "          await google.colab.output.renderOutput(dataTable, element);\n",
              "          const docLink = document.createElement('div');\n",
              "          docLink.innerHTML = docLinkHtml;\n",
              "          element.appendChild(docLink);\n",
              "        }\n",
              "      </script>\n",
              "    </div>\n",
              "  </div>\n",
              "  "
            ]
          },
          "metadata": {},
          "execution_count": 64
        }
      ]
    },
    {
      "cell_type": "markdown",
      "source": [
        "Most cutomers' prices last month were very close to the mean prices over the whole year."
      ],
      "metadata": {
        "id": "Eks-20_cWtGU"
      }
    },
    {
      "cell_type": "markdown",
      "source": [
        "Among the cutomers whose off-peak enery prices increased, around 9.72% of customers changed their providers."
      ],
      "metadata": {
        "id": "OQEmFXgQWwtx"
      }
    },
    {
      "cell_type": "code",
      "source": [
        "plot_bar_chart_with_percent_label(df=price_stat[price_stat['diff_Dec_mean_price_off_peak_var']>0], target_variable='churn', gap_label_bar=0.02)"
      ],
      "metadata": {
        "colab": {
          "base_uri": "https://localhost:8080/",
          "height": 394
        },
        "id": "exWikI92VTdp",
        "outputId": "174391e5-ea19-4f63-a5cf-9e353a27207e"
      },
      "execution_count": null,
      "outputs": [
        {
          "output_type": "display_data",
          "data": {
            "text/plain": [
              "<Figure size 648x432 with 1 Axes>"
            ],
            "image/png": "[encoded data removed]"
          },
          "metadata": {}
        }
      ]
    },
    {
      "cell_type": "code",
      "source": [
        "plot_bar_chart_with_percent_label(df=price_stat[price_stat['diff_Dec_mean_price_off_peak_var']<=0], target_variable='churn', gap_label_bar=0.02)"
      ],
      "metadata": {
        "colab": {
          "base_uri": "https://localhost:8080/",
          "height": 394
        },
        "id": "1R3SGHj9W3E1",
        "outputId": "02aa206f-bc4a-4483-c21a-fbb9be124daa"
      },
      "execution_count": null,
      "outputs": [
        {
          "output_type": "display_data",
          "data": {
            "text/plain": [
              "<Figure size 648x432 with 1 Axes>"
            ],
            "image/png": "[encoded data removed]"
          },
          "metadata": {}
        }
      ]
    },
    {
      "cell_type": "markdown",
      "source": [
        "Among the cutomers whose off-peak energy prices did not increase (decreased or did not change), also around 9.72% of customers changed their providers."
      ],
      "metadata": {
        "id": "36M2QbATW-cV"
      }
    },
    {
      "cell_type": "code",
      "source": [
        "plot_bar_chart_with_percent_label(df=price_stat[price_stat['diff_Dec_mean_price_off_peak_fix']>0], target_variable='churn', gap_label_bar=0.02)"
      ],
      "metadata": {
        "colab": {
          "base_uri": "https://localhost:8080/",
          "height": 394
        },
        "id": "aUUcS7ITXCdt",
        "outputId": "85d6b3d0-3404-4cc0-f54b-17122d3eacbf"
      },
      "execution_count": null,
      "outputs": [
        {
          "output_type": "display_data",
          "data": {
            "text/plain": [
              "<Figure size 648x432 with 1 Axes>"
            ],
            "image/png": "[encoded data removed]"
          },
          "metadata": {}
        }
      ]
    },
    {
      "cell_type": "markdown",
      "source": [
        "From the above results, we can see no matter how prices changed, proportion of churning customers always stayed around 9.72%. In other words, changes in prices did not affect customer churn. Therefore, we can conclude customers were not sensitive to prices.\n",
        "\n",
        "In order to confirm this conlusion, I continue to compare prices of December with average prices of the last 6 months and 3 months."
      ],
      "metadata": {
        "id": "yPzv3L9DXMoN"
      }
    },
    {
      "cell_type": "code",
      "source": [
        "price_stat_6_month = price_df[price_df['price_date']>'2015-06-01'].drop(columns=['price_date']).groupby(['id']).agg({'price_off_peak_var': stat_, 'price_off_peak_fix': stat_,})\n",
        "# flatten the column names\n",
        "price_stat_6_month.columns = ['_'.join(x) for x in zip(price_stat_6_month.columns.get_level_values(0), price_stat_6_month.columns.get_level_values(1))]\n",
        "price_stat_6_month = price_stat_6_month.reset_index()\n",
        "# add churn values\n",
        "price_stat_6_month = price_stat_6_month.merge(client_df[['id','churn']], on=['id'], how='left')\n",
        "# drop ids that are not inclued in the price dataset \n",
        "price_stat_6_month = price_stat_6_month.dropna(subset=['churn']).reset_index(drop=True)\n",
        "# add diff\n",
        "for attr in ['price_off_peak_var','price_off_peak_fix']:\n",
        "    price_stat_6_month[f'diff_Dec_mean_{attr}'] = price_df[price_df['id'].isin(price_stat_6_month['id'])].groupby(['id'])[attr].nth(-1).values - price_stat_6_month[f'{attr}_mean']\n",
        "price_stat_6_month.head(5)\n"
      ],
      "metadata": {
        "colab": {
          "base_uri": "https://localhost:8080/",
          "height": 270
        },
        "id": "qf4GFYDoXCgv",
        "outputId": "4545ed9d-ba9e-466e-d504-2d2c1518b0db"
      },
      "execution_count": null,
      "outputs": [
        {
          "output_type": "execute_result",
          "data": {
            "text/plain": [
              "                                 id  price_off_peak_var_max  \\\n",
              "0  0002203ffbb812588b632b9e628cc38d                0.128067   \n",
              "1  0004351ebdd665e6ee664792efc4fd13                0.148405   \n",
              "2  0010bcc39e42b3c2131ed2ce55246e3c                0.205742   \n",
              "3  00114d74e963e47177db89bc70108537                0.149902   \n",
              "4  0013f326a839a2f6ad87a1859952d227                0.129808   \n",
              "\n",
              "   price_off_peak_var_min  price_off_peak_var_mean  price_off_peak_fix_max  \\\n",
              "0                0.119906                 0.121266               40.728885   \n",
              "1                0.143943                 0.144687               44.444710   \n",
              "2                0.201280                 0.202024               45.944710   \n",
              "3                0.145440                 0.146184               44.266930   \n",
              "4                0.121647                 0.123007               40.728885   \n",
              "\n",
              "   price_off_peak_fix_min  price_off_peak_fix_mean   churn  \\\n",
              "0               40.728885                40.728885  Stayed   \n",
              "1               44.444710                44.444710  Stayed   \n",
              "2               45.944710                45.944710  Stayed   \n",
              "3               44.266930                44.266930  Stayed   \n",
              "4               40.728885                40.728885  Stayed   \n",
              "\n",
              "   diff_Dec_mean_price_off_peak_var  diff_Dec_mean_price_off_peak_fix  \n",
              "0                         -0.001360                      0.000000e+00  \n",
              "1                         -0.000744                      7.105427e-15  \n",
              "2                         -0.000744                      7.105427e-15  \n",
              "3                         -0.000744                      0.000000e+00  \n",
              "4                         -0.001360                      0.000000e+00  "
            ],
            "text/html": [
              "\n",
              "  <div id=\"df-bfe0ac00-931a-443b-94db-0edc94c1025e\">\n",
              "    <div class=\"colab-df-container\">\n",
              "      <div>\n",
              "<style scoped>\n",
              "    .dataframe tbody tr th:only-of-type {\n",
              "        vertical-align: middle;\n",
              "    }\n",
              "\n",
              "    .dataframe tbody tr th {\n",
              "        vertical-align: top;\n",
              "    }\n",
              "\n",
              "    .dataframe thead th {\n",
              "        text-align: right;\n",
              "    }\n",
              "</style>\n",
              "<table border=\"1\" class=\"dataframe\">\n",
              "  <thead>\n",
              "    <tr style=\"text-align: right;\">\n",
              "      <th></th>\n",
              "      <th>id</th>\n",
              "      <th>price_off_peak_var_max</th>\n",
              "      <th>price_off_peak_var_min</th>\n",
              "      <th>price_off_peak_var_mean</th>\n",
              "      <th>price_off_peak_fix_max</th>\n",
              "      <th>price_off_peak_fix_min</th>\n",
              "      <th>price_off_peak_fix_mean</th>\n",
              "      <th>churn</th>\n",
              "      <th>diff_Dec_mean_price_off_peak_var</th>\n",
              "      <th>diff_Dec_mean_price_off_peak_fix</th>\n",
              "    </tr>\n",
              "  </thead>\n",
              "  <tbody>\n",
              "    <tr>\n",
              "      <th>0</th>\n",
              "      <td>0002203ffbb812588b632b9e628cc38d</td>\n",
              "      <td>0.128067</td>\n",
              "      <td>0.119906</td>\n",
              "      <td>0.121266</td>\n",
              "      <td>40.728885</td>\n",
              "      <td>40.728885</td>\n",
              "      <td>40.728885</td>\n",
              "      <td>Stayed</td>\n",
              "      <td>-0.001360</td>\n",
              "      <td>0.000000e+00</td>\n",
              "    </tr>\n",
              "    <tr>\n",
              "      <th>1</th>\n",
              "      <td>0004351ebdd665e6ee664792efc4fd13</td>\n",
              "      <td>0.148405</td>\n",
              "      <td>0.143943</td>\n",
              "      <td>0.144687</td>\n",
              "      <td>44.444710</td>\n",
              "      <td>44.444710</td>\n",
              "      <td>44.444710</td>\n",
              "      <td>Stayed</td>\n",
              "      <td>-0.000744</td>\n",
              "      <td>7.105427e-15</td>\n",
              "    </tr>\n",
              "    <tr>\n",
              "      <th>2</th>\n",
              "      <td>0010bcc39e42b3c2131ed2ce55246e3c</td>\n",
              "      <td>0.205742</td>\n",
              "      <td>0.201280</td>\n",
              "      <td>0.202024</td>\n",
              "      <td>45.944710</td>\n",
              "      <td>45.944710</td>\n",
              "      <td>45.944710</td>\n",
              "      <td>Stayed</td>\n",
              "      <td>-0.000744</td>\n",
              "      <td>7.105427e-15</td>\n",
              "    </tr>\n",
              "    <tr>\n",
              "      <th>3</th>\n",
              "      <td>00114d74e963e47177db89bc70108537</td>\n",
              "      <td>0.149902</td>\n",
              "      <td>0.145440</td>\n",
              "      <td>0.146184</td>\n",
              "      <td>44.266930</td>\n",
              "      <td>44.266930</td>\n",
              "      <td>44.266930</td>\n",
              "      <td>Stayed</td>\n",
              "      <td>-0.000744</td>\n",
              "      <td>0.000000e+00</td>\n",
              "    </tr>\n",
              "    <tr>\n",
              "      <th>4</th>\n",
              "      <td>0013f326a839a2f6ad87a1859952d227</td>\n",
              "      <td>0.129808</td>\n",
              "      <td>0.121647</td>\n",
              "      <td>0.123007</td>\n",
              "      <td>40.728885</td>\n",
              "      <td>40.728885</td>\n",
              "      <td>40.728885</td>\n",
              "      <td>Stayed</td>\n",
              "      <td>-0.001360</td>\n",
              "      <td>0.000000e+00</td>\n",
              "    </tr>\n",
              "  </tbody>\n",
              "</table>\n",
              "</div>\n",
              "      <button class=\"colab-df-convert\" onclick=\"convertToInteractive('df-bfe0ac00-931a-443b-94db-0edc94c1025e')\"\n",
              "              title=\"Convert this dataframe to an interactive table.\"\n",
              "              style=\"display:none;\">\n",
              "        \n",
              "  <svg xmlns=\"http://www.w3.org/2000/svg\" height=\"24px\"viewBox=\"0 0 24 24\"\n",
              "       width=\"24px\">\n",
              "    <path d=\"M0 0h24v24H0V0z\" fill=\"none\"/>\n",
              "    <path d=\"M18.56 5.44l.94 2.06.94-2.06 2.06-.94-2.06-.94-.94-2.06-.94 2.06-2.06.94zm-11 1L8.5 8.5l.94-2.06 2.06-.94-2.06-.94L8.5 2.5l-.94 2.06-2.06.94zm10 10l.94 2.06.94-2.06 2.06-.94-2.06-.94-.94-2.06-.94 2.06-2.06.94z\"/><path d=\"M17.41 7.96l-1.37-1.37c-.4-.4-.92-.59-1.43-.59-.52 0-1.04.2-1.43.59L10.3 9.45l-7.72 7.72c-.78.78-.78 2.05 0 2.83L4 21.41c.39.39.9.59 1.41.59.51 0 1.02-.2 1.41-.59l7.78-7.78 2.81-2.81c.8-.78.8-2.07 0-2.86zM5.41 20L4 18.59l7.72-7.72 1.47 1.35L5.41 20z\"/>\n",
              "  </svg>\n",
              "      </button>\n",
              "      \n",
              "  <style>\n",
              "    .colab-df-container {\n",
              "      display:flex;\n",
              "      flex-wrap:wrap;\n",
              "      gap: 12px;\n",
              "    }\n",
              "\n",
              "    .colab-df-convert {\n",
              "      background-color: #E8F0FE;\n",
              "      border: none;\n",
              "      border-radius: 50%;\n",
              "      cursor: pointer;\n",
              "      display: none;\n",
              "      fill: #1967D2;\n",
              "      height: 32px;\n",
              "      padding: 0 0 0 0;\n",
              "      width: 32px;\n",
              "    }\n",
              "\n",
              "    .colab-df-convert:hover {\n",
              "      background-color: #E2EBFA;\n",
              "      box-shadow: 0px 1px 2px rgba(60, 64, 67, 0.3), 0px 1px 3px 1px rgba(60, 64, 67, 0.15);\n",
              "      fill: #174EA6;\n",
              "    }\n",
              "\n",
              "    [theme=dark] .colab-df-convert {\n",
              "      background-color: #3B4455;\n",
              "      fill: #D2E3FC;\n",
              "    }\n",
              "\n",
              "    [theme=dark] .colab-df-convert:hover {\n",
              "      background-color: #434B5C;\n",
              "      box-shadow: 0px 1px 3px 1px rgba(0, 0, 0, 0.15);\n",
              "      filter: drop-shadow(0px 1px 2px rgba(0, 0, 0, 0.3));\n",
              "      fill: #FFFFFF;\n",
              "    }\n",
              "  </style>\n",
              "\n",
              "      <script>\n",
              "        const buttonEl =\n",
              "          document.querySelector('#df-bfe0ac00-931a-443b-94db-0edc94c1025e button.colab-df-convert');\n",
              "        buttonEl.style.display =\n",
              "          google.colab.kernel.accessAllowed ? 'block' : 'none';\n",
              "\n",
              "        async function convertToInteractive(key) {\n",
              "          const element = document.querySelector('#df-bfe0ac00-931a-443b-94db-0edc94c1025e');\n",
              "          const dataTable =\n",
              "            await google.colab.kernel.invokeFunction('convertToInteractive',\n",
              "                                                     [key], {});\n",
              "          if (!dataTable) return;\n",
              "\n",
              "          const docLinkHtml = 'Like what you see? Visit the ' +\n",
              "            '<a target=\"_blank\" href=https://colab.research.google.com/notebooks/data_table.ipynb>data table notebook</a>'\n",
              "            + ' to learn more about interactive tables.';\n",
              "          element.innerHTML = '';\n",
              "          dataTable['output_type'] = 'display_data';\n",
              "          await google.colab.output.renderOutput(dataTable, element);\n",
              "          const docLink = document.createElement('div');\n",
              "          docLink.innerHTML = docLinkHtml;\n",
              "          element.appendChild(docLink);\n",
              "        }\n",
              "      </script>\n",
              "    </div>\n",
              "  </div>\n",
              "  "
            ]
          },
          "metadata": {},
          "execution_count": 69
        }
      ]
    },
    {
      "cell_type": "markdown",
      "source": [
        "If only considering the last 6 months, changes in prices still did not affect customer churn."
      ],
      "metadata": {
        "id": "vGM0LhDRXhor"
      }
    },
    {
      "cell_type": "markdown",
      "source": [
        "# Feature Engineering & Modelling"
      ],
      "metadata": {
        "id": "L2lWJosucKA5"
      }
    },
    {
      "cell_type": "code",
      "source": [
        "from sklearn.preprocessing import StandardScaler\n",
        "from sklearn.model_selection import StratifiedKFold\n",
        "from sklearn.linear_model import LogisticRegression\n",
        "from sklearn.ensemble import RandomForestClassifier\n",
        "from sklearn.metrics import precision_score, recall_score, accuracy_score, confusion_matrix, ConfusionMatrixDisplay, classification_report"
      ],
      "metadata": {
        "id": "GZMyG6DIcPAD"
      },
      "execution_count": null,
      "outputs": []
    },
    {
      "cell_type": "code",
      "source": [
        "# drop useless columns\n",
        "train_data = client_df.copy()\n",
        "train_data['year_modif_prod'] = train_data['date_modif_prod'].dt.year\n",
        "train_data['year_renewal'] = train_data['date_renewal'].dt.year\n",
        "train_data = train_data.drop(columns=['date_activ','date_end','date_modif_prod','date_renewal'])\n",
        "# \n",
        "has_gas_encoder = LabelEncoder()\n",
        "train_data['has_gas'] = has_gas_encoder.fit_transform(train_data['has_gas'])\n",
        "# add new feature \"diff_dec_jan_off_peak_var\" and \"diff_dec_jan_off_peak_fix\". I just calculate the differnece between last price and first price for each customer.\n",
        "diff_dec_jan_off_peak_var = price_df.sort_values(by=['price_date']).groupby(['id'])['price_off_peak_var'].nth(-1) - price_df.sort_values(by=['price_date']).groupby(['id'])['price_off_peak_var'].nth(0)\n",
        "diff_dec_jan_off_peak_var = diff_dec_jan_off_peak_var.reset_index(name='diff_dec_jan_off_peak_var')\n",
        "diff_dec_jan_off_peak_fix = price_df.sort_values(by=['price_date']).groupby(['id'])['price_off_peak_fix'].nth(-1) - price_df.sort_values(by=['price_date']).groupby(['id'])['price_off_peak_fix'].nth(0)\n",
        "diff_dec_jan_off_peak_fix = diff_dec_jan_off_peak_fix.reset_index(name='diff_dec_jan_off_peak_fix')\n",
        "train_data = train_data.merge(diff_dec_jan_off_peak_var, on='id', how='left')\n",
        "train_data = train_data.merge(diff_dec_jan_off_peak_fix, on='id', how='left')\n",
        "# also add the above differences of other prices\n",
        "for attr in ['price_peak_var','price_peak_fix','price_mid_peak_var','price_mid_peak_fix']:\n",
        "    diff_dec_jan_temp = price_df.sort_values(by=['price_date']).groupby(['id'])[attr].nth(-1) - price_df.sort_values(by=['price_date']).groupby(['id'])[attr].nth(0)\n",
        "    diff_dec_jan_temp = diff_dec_jan_temp.reset_index(name=f'diff_dec_jan_{attr}')\n",
        "    train_data = train_data.merge(diff_dec_jan_temp, on='id', how='left')\n",
        "# add price changing trends\n",
        "train_data = train_data.merge(price_stat[['id','diff_Dec_mean_price_off_peak_var','diff_Dec_mean_price_off_peak_fix',\n",
        "                                          'diff_Dec_mean_price_peak_var','diff_Dec_mean_price_peak_fix',\n",
        "                                          'diff_Dec_mean_price_mid_peak_var','diff_Dec_mean_price_mid_peak_fix',\n",
        "                                        ]], on='id', how='left')\n",
        "\n",
        "#\n",
        "train_data.head()"
      ],
      "metadata": {
        "colab": {
          "base_uri": "https://localhost:8080/",
          "height": 299
        },
        "id": "24DsHKvIcSL_",
        "outputId": "3fd69ace-a6e6-476d-b8bd-7771c1e50b0a"
      },
      "execution_count": null,
      "outputs": [
        {
          "output_type": "execute_result",
          "data": {
            "text/plain": [
              "                                 id  channel_sales  cons_12m  cons_gas_12m  \\\n",
              "0  24011ae4ebbe3035111d65fa7c15bc57              4         0         54946   \n",
              "1  d29c2c54acc38ff3c0614d0a653813dd              0      4660             0   \n",
              "2  764c75f661154dac3a6c254cd082ea7d              4       544             0   \n",
              "3  bba03439a292a1e166f80264c16191cb              5      1584             0   \n",
              "4  149d57cf92fc41cf94415803a877cb4b              0      4425             0   \n",
              "\n",
              "   cons_last_month  forecast_cons_12m  forecast_cons_year  \\\n",
              "0                0               0.00                   0   \n",
              "1                0             189.95                   0   \n",
              "2                0              47.96                   0   \n",
              "3                0             240.04                   0   \n",
              "4              526             445.75                 526   \n",
              "\n",
              "   forecast_discount_energy  forecast_meter_rent_12m  \\\n",
              "0                       0.0                     1.78   \n",
              "1                       0.0                    16.27   \n",
              "2                       0.0                    38.72   \n",
              "3                       0.0                    19.83   \n",
              "4                       0.0                   131.73   \n",
              "\n",
              "   forecast_price_energy_off_peak  ...  diff_dec_jan_price_peak_var  \\\n",
              "0                        0.114481  ...                    -0.017912   \n",
              "1                        0.145711  ...                     0.000000   \n",
              "2                        0.165794  ...                     0.000528   \n",
              "3                        0.146694  ...                     0.000000   \n",
              "4                        0.116900  ...                    -0.002302   \n",
              "\n",
              "   diff_dec_jan_price_peak_fix  diff_dec_jan_price_mid_peak_var  \\\n",
              "0                   -24.339581                        -0.071536   \n",
              "1                     0.000000                         0.000000   \n",
              "2                     0.000000                         0.000000   \n",
              "3                     0.000000                         0.000000   \n",
              "4                     0.097749                         0.003487   \n",
              "\n",
              "   diff_dec_jan_price_mid_peak_fix  diff_Dec_mean_price_off_peak_var  \\\n",
              "0                       -16.226389                          0.021246   \n",
              "1                         0.000000                         -0.002009   \n",
              "2                         0.000000                         -0.002714   \n",
              "3                         0.000000                         -0.002624   \n",
              "4                         0.065166                         -0.004268   \n",
              "\n",
              "   diff_Dec_mean_price_off_peak_fix  diff_Dec_mean_price_peak_var  \\\n",
              "0                          3.324664                     -0.015266   \n",
              "1                          0.133335                     -0.007124   \n",
              "2                          0.059260                     -0.000012   \n",
              "3                          0.044445                      0.000000   \n",
              "4                          0.040729                     -0.001965   \n",
              "\n",
              "   diff_Dec_mean_price_peak_fix  diff_Dec_mean_price_mid_peak_var  \\\n",
              "0                    -22.352010                         -0.066530   \n",
              "1                      0.000000                          0.000000   \n",
              "2                      0.000000                          0.000000   \n",
              "3                      0.000000                          0.000000   \n",
              "4                      0.024437                          0.000854   \n",
              "\n",
              "   diff_Dec_mean_price_mid_peak_fix  \n",
              "0                        -14.901340  \n",
              "1                          0.000000  \n",
              "2                          0.000000  \n",
              "3                          0.000000  \n",
              "4                          0.016292  \n",
              "\n",
              "[5 rows x 38 columns]"
            ],
            "text/html": [
              "\n",
              "  <div id=\"df-bc1b0f96-adb9-47ef-9179-50c1829af90c\">\n",
              "    <div class=\"colab-df-container\">\n",
              "      <div>\n",
              "<style scoped>\n",
              "    .dataframe tbody tr th:only-of-type {\n",
              "        vertical-align: middle;\n",
              "    }\n",
              "\n",
              "    .dataframe tbody tr th {\n",
              "        vertical-align: top;\n",
              "    }\n",
              "\n",
              "    .dataframe thead th {\n",
              "        text-align: right;\n",
              "    }\n",
              "</style>\n",
              "<table border=\"1\" class=\"dataframe\">\n",
              "  <thead>\n",
              "    <tr style=\"text-align: right;\">\n",
              "      <th></th>\n",
              "      <th>id</th>\n",
              "      <th>channel_sales</th>\n",
              "      <th>cons_12m</th>\n",
              "      <th>cons_gas_12m</th>\n",
              "      <th>cons_last_month</th>\n",
              "      <th>forecast_cons_12m</th>\n",
              "      <th>forecast_cons_year</th>\n",
              "      <th>forecast_discount_energy</th>\n",
              "      <th>forecast_meter_rent_12m</th>\n",
              "      <th>forecast_price_energy_off_peak</th>\n",
              "      <th>...</th>\n",
              "      <th>diff_dec_jan_price_peak_var</th>\n",
              "      <th>diff_dec_jan_price_peak_fix</th>\n",
              "      <th>diff_dec_jan_price_mid_peak_var</th>\n",
              "      <th>diff_dec_jan_price_mid_peak_fix</th>\n",
              "      <th>diff_Dec_mean_price_off_peak_var</th>\n",
              "      <th>diff_Dec_mean_price_off_peak_fix</th>\n",
              "      <th>diff_Dec_mean_price_peak_var</th>\n",
              "      <th>diff_Dec_mean_price_peak_fix</th>\n",
              "      <th>diff_Dec_mean_price_mid_peak_var</th>\n",
              "      <th>diff_Dec_mean_price_mid_peak_fix</th>\n",
              "    </tr>\n",
              "  </thead>\n",
              "  <tbody>\n",
              "    <tr>\n",
              "      <th>0</th>\n",
              "      <td>24011ae4ebbe3035111d65fa7c15bc57</td>\n",
              "      <td>4</td>\n",
              "      <td>0</td>\n",
              "      <td>54946</td>\n",
              "      <td>0</td>\n",
              "      <td>0.00</td>\n",
              "      <td>0</td>\n",
              "      <td>0.0</td>\n",
              "      <td>1.78</td>\n",
              "      <td>0.114481</td>\n",
              "      <td>...</td>\n",
              "      <td>-0.017912</td>\n",
              "      <td>-24.339581</td>\n",
              "      <td>-0.071536</td>\n",
              "      <td>-16.226389</td>\n",
              "      <td>0.021246</td>\n",
              "      <td>3.324664</td>\n",
              "      <td>-0.015266</td>\n",
              "      <td>-22.352010</td>\n",
              "      <td>-0.066530</td>\n",
              "      <td>-14.901340</td>\n",
              "    </tr>\n",
              "    <tr>\n",
              "      <th>1</th>\n",
              "      <td>d29c2c54acc38ff3c0614d0a653813dd</td>\n",
              "      <td>0</td>\n",
              "      <td>4660</td>\n",
              "      <td>0</td>\n",
              "      <td>0</td>\n",
              "      <td>189.95</td>\n",
              "      <td>0</td>\n",
              "      <td>0.0</td>\n",
              "      <td>16.27</td>\n",
              "      <td>0.145711</td>\n",
              "      <td>...</td>\n",
              "      <td>0.000000</td>\n",
              "      <td>0.000000</td>\n",
              "      <td>0.000000</td>\n",
              "      <td>0.000000</td>\n",
              "      <td>-0.002009</td>\n",
              "      <td>0.133335</td>\n",
              "      <td>-0.007124</td>\n",
              "      <td>0.000000</td>\n",
              "      <td>0.000000</td>\n",
              "      <td>0.000000</td>\n",
              "    </tr>\n",
              "    <tr>\n",
              "      <th>2</th>\n",
              "      <td>764c75f661154dac3a6c254cd082ea7d</td>\n",
              "      <td>4</td>\n",
              "      <td>544</td>\n",
              "      <td>0</td>\n",
              "      <td>0</td>\n",
              "      <td>47.96</td>\n",
              "      <td>0</td>\n",
              "      <td>0.0</td>\n",
              "      <td>38.72</td>\n",
              "      <td>0.165794</td>\n",
              "      <td>...</td>\n",
              "      <td>0.000528</td>\n",
              "      <td>0.000000</td>\n",
              "      <td>0.000000</td>\n",
              "      <td>0.000000</td>\n",
              "      <td>-0.002714</td>\n",
              "      <td>0.059260</td>\n",
              "      <td>-0.000012</td>\n",
              "      <td>0.000000</td>\n",
              "      <td>0.000000</td>\n",
              "      <td>0.000000</td>\n",
              "    </tr>\n",
              "    <tr>\n",
              "      <th>3</th>\n",
              "      <td>bba03439a292a1e166f80264c16191cb</td>\n",
              "      <td>5</td>\n",
              "      <td>1584</td>\n",
              "      <td>0</td>\n",
              "      <td>0</td>\n",
              "      <td>240.04</td>\n",
              "      <td>0</td>\n",
              "      <td>0.0</td>\n",
              "      <td>19.83</td>\n",
              "      <td>0.146694</td>\n",
              "      <td>...</td>\n",
              "      <td>0.000000</td>\n",
              "      <td>0.000000</td>\n",
              "      <td>0.000000</td>\n",
              "      <td>0.000000</td>\n",
              "      <td>-0.002624</td>\n",
              "      <td>0.044445</td>\n",
              "      <td>0.000000</td>\n",
              "      <td>0.000000</td>\n",
              "      <td>0.000000</td>\n",
              "      <td>0.000000</td>\n",
              "    </tr>\n",
              "    <tr>\n",
              "      <th>4</th>\n",
              "      <td>149d57cf92fc41cf94415803a877cb4b</td>\n",
              "      <td>0</td>\n",
              "      <td>4425</td>\n",
              "      <td>0</td>\n",
              "      <td>526</td>\n",
              "      <td>445.75</td>\n",
              "      <td>526</td>\n",
              "      <td>0.0</td>\n",
              "      <td>131.73</td>\n",
              "      <td>0.116900</td>\n",
              "      <td>...</td>\n",
              "      <td>-0.002302</td>\n",
              "      <td>0.097749</td>\n",
              "      <td>0.003487</td>\n",
              "      <td>0.065166</td>\n",
              "      <td>-0.004268</td>\n",
              "      <td>0.040729</td>\n",
              "      <td>-0.001965</td>\n",
              "      <td>0.024437</td>\n",
              "      <td>0.000854</td>\n",
              "      <td>0.016292</td>\n",
              "    </tr>\n",
              "  </tbody>\n",
              "</table>\n",
              "<p>5 rows × 38 columns</p>\n",
              "</div>\n",
              "      <button class=\"colab-df-convert\" onclick=\"convertToInteractive('df-bc1b0f96-adb9-47ef-9179-50c1829af90c')\"\n",
              "              title=\"Convert this dataframe to an interactive table.\"\n",
              "              style=\"display:none;\">\n",
              "        \n",
              "  <svg xmlns=\"http://www.w3.org/2000/svg\" height=\"24px\"viewBox=\"0 0 24 24\"\n",
              "       width=\"24px\">\n",
              "    <path d=\"M0 0h24v24H0V0z\" fill=\"none\"/>\n",
              "    <path d=\"M18.56 5.44l.94 2.06.94-2.06 2.06-.94-2.06-.94-.94-2.06-.94 2.06-2.06.94zm-11 1L8.5 8.5l.94-2.06 2.06-.94-2.06-.94L8.5 2.5l-.94 2.06-2.06.94zm10 10l.94 2.06.94-2.06 2.06-.94-2.06-.94-.94-2.06-.94 2.06-2.06.94z\"/><path d=\"M17.41 7.96l-1.37-1.37c-.4-.4-.92-.59-1.43-.59-.52 0-1.04.2-1.43.59L10.3 9.45l-7.72 7.72c-.78.78-.78 2.05 0 2.83L4 21.41c.39.39.9.59 1.41.59.51 0 1.02-.2 1.41-.59l7.78-7.78 2.81-2.81c.8-.78.8-2.07 0-2.86zM5.41 20L4 18.59l7.72-7.72 1.47 1.35L5.41 20z\"/>\n",
              "  </svg>\n",
              "      </button>\n",
              "      \n",
              "  <style>\n",
              "    .colab-df-container {\n",
              "      display:flex;\n",
              "      flex-wrap:wrap;\n",
              "      gap: 12px;\n",
              "    }\n",
              "\n",
              "    .colab-df-convert {\n",
              "      background-color: #E8F0FE;\n",
              "      border: none;\n",
              "      border-radius: 50%;\n",
              "      cursor: pointer;\n",
              "      display: none;\n",
              "      fill: #1967D2;\n",
              "      height: 32px;\n",
              "      padding: 0 0 0 0;\n",
              "      width: 32px;\n",
              "    }\n",
              "\n",
              "    .colab-df-convert:hover {\n",
              "      background-color: #E2EBFA;\n",
              "      box-shadow: 0px 1px 2px rgba(60, 64, 67, 0.3), 0px 1px 3px 1px rgba(60, 64, 67, 0.15);\n",
              "      fill: #174EA6;\n",
              "    }\n",
              "\n",
              "    [theme=dark] .colab-df-convert {\n",
              "      background-color: #3B4455;\n",
              "      fill: #D2E3FC;\n",
              "    }\n",
              "\n",
              "    [theme=dark] .colab-df-convert:hover {\n",
              "      background-color: #434B5C;\n",
              "      box-shadow: 0px 1px 3px 1px rgba(0, 0, 0, 0.15);\n",
              "      filter: drop-shadow(0px 1px 2px rgba(0, 0, 0, 0.3));\n",
              "      fill: #FFFFFF;\n",
              "    }\n",
              "  </style>\n",
              "\n",
              "      <script>\n",
              "        const buttonEl =\n",
              "          document.querySelector('#df-bc1b0f96-adb9-47ef-9179-50c1829af90c button.colab-df-convert');\n",
              "        buttonEl.style.display =\n",
              "          google.colab.kernel.accessAllowed ? 'block' : 'none';\n",
              "\n",
              "        async function convertToInteractive(key) {\n",
              "          const element = document.querySelector('#df-bc1b0f96-adb9-47ef-9179-50c1829af90c');\n",
              "          const dataTable =\n",
              "            await google.colab.kernel.invokeFunction('convertToInteractive',\n",
              "                                                     [key], {});\n",
              "          if (!dataTable) return;\n",
              "\n",
              "          const docLinkHtml = 'Like what you see? Visit the ' +\n",
              "            '<a target=\"_blank\" href=https://colab.research.google.com/notebooks/data_table.ipynb>data table notebook</a>'\n",
              "            + ' to learn more about interactive tables.';\n",
              "          element.innerHTML = '';\n",
              "          dataTable['output_type'] = 'display_data';\n",
              "          await google.colab.output.renderOutput(dataTable, element);\n",
              "          const docLink = document.createElement('div');\n",
              "          docLink.innerHTML = docLinkHtml;\n",
              "          element.appendChild(docLink);\n",
              "        }\n",
              "      </script>\n",
              "    </div>\n",
              "  </div>\n",
              "  "
            ]
          },
          "metadata": {},
          "execution_count": 98
        }
      ]
    },
    {
      "cell_type": "code",
      "source": [
        "X = train_data.drop(columns=['id','churn'])\n",
        "y = train_data['churn']\n",
        "X.shape, y.shape"
      ],
      "metadata": {
        "colab": {
          "base_uri": "https://localhost:8080/"
        },
        "id": "cbQ3bWkScgP_",
        "outputId": "7f7e50d1-0564-41c0-f4af-4d9f7fc113b8"
      },
      "execution_count": null,
      "outputs": [
        {
          "output_type": "execute_result",
          "data": {
            "text/plain": [
              "((14606, 36), (14606,))"
            ]
          },
          "metadata": {},
          "execution_count": 99
        }
      ]
    },
    {
      "cell_type": "code",
      "source": [
        "# \n",
        "pred_train_labels = np.zeros(shape=(X.shape[0], 2))   # pred training labels\n",
        "feature_importance_df = pd.DataFrame(data={'feature_name':X.columns, 'feature_importance':[0]*len(X.columns)})\n",
        "# create cv dataset\n",
        "kfold = StratifiedKFold(n_splits=5, shuffle=True, random_state=29)\n",
        "fold_counter = 1\n",
        "for train_index, test_index in kfold.split(X, y):\n",
        "    X_train, X_test = X.loc[train_index], X.loc[test_index]\n",
        "    y_train, y_test = y[train_index], y[test_index]\n",
        "    # build model\n",
        "    rf = RandomForestClassifier(random_state=56)\n",
        "    # train model\n",
        "    rf.fit(X_train, y_train)\n",
        "    pred_train_labels[test_index] = rf.predict_proba(X_test)\n",
        "    feature_importance_df['feature_importance'] = feature_importance_df['feature_importance'] + (rf.feature_importances_)\n",
        "    print(f\"Fold {fold_counter} Precision {precision_score(y_test, rf.predict(X_test)):.3f} Recall {recall_score(y_test, rf.predict(X_test)):.3f} Accuracy {accuracy_score(y_test, rf.predict(X_test)):.3f}\")\n",
        "    fold_counter = fold_counter + 1\n",
        "# predicted labels\n",
        "pred_y = pred_train_labels.argmax(axis=-1)\n",
        "print(f\"Total  Precision {precision_score(y, pred_y):.3f} Recall {recall_score(y, pred_y):.3f} Accuracy {accuracy_score(y, pred_y):.3f}\")"
      ],
      "metadata": {
        "colab": {
          "base_uri": "https://localhost:8080/"
        },
        "id": "rDF2CIIvcp1W",
        "outputId": "41584881-133b-4e5b-cc6a-5d4427f5bf67"
      },
      "execution_count": null,
      "outputs": [
        {
          "output_type": "stream",
          "name": "stdout",
          "text": [
            "Fold 1 Precision 0.714 Recall 0.053 Accuracy 0.906\n",
            "Fold 2 Precision 0.885 Recall 0.081 Accuracy 0.910\n",
            "Fold 3 Precision 0.895 Recall 0.060 Accuracy 0.908\n",
            "Fold 4 Precision 0.944 Recall 0.060 Accuracy 0.908\n",
            "Fold 5 Precision 0.850 Recall 0.060 Accuracy 0.908\n",
            "Total  Precision 0.856 Recall 0.063 Accuracy 0.908\n"
          ]
        }
      ]
    },
    {
      "cell_type": "markdown",
      "source": [
        "As there is no testing set, the \"out-of-fold\" cross validation strategy is used to evaluate the model's performace. Besides, the training set is a very imbalanced dataset, so I use precision and recall as the metrics, instead of accuracy (results of accuracy are still shown, but not for evaluating the model's performance). As the goal of this task is not finding the optimal parameters, I do not tune the model's parameters."
      ],
      "metadata": {
        "id": "uyjS5c3reCw_"
      }
    },
    {
      "cell_type": "code",
      "source": [
        "# \n",
        "pred_train_labels = np.zeros(shape=(X.shape[0], 2))   # pred training labels\n",
        "feature_importance_df = pd.DataFrame(data={'feature_name':X.columns, 'feature_importance':[0]*len(X.columns)})\n",
        "# create cv dataset\n",
        "kfold = StratifiedKFold(n_splits=5, shuffle=True, random_state=29)\n",
        "fold_counter = 1\n",
        "for train_index, test_index in kfold.split(X, y):\n",
        "    X_train, X_test = X.loc[train_index], X.loc[test_index]\n",
        "    y_train, y_test = y[train_index], y[test_index]\n",
        "    # build model\n",
        "    rf = RandomForestClassifier(random_state=56)\n",
        "    # train model\n",
        "    rf.fit(X_train, y_train)\n",
        "    pred_train_labels[test_index] = rf.predict_proba(X_test)\n",
        "    feature_importance_df['feature_importance'] = feature_importance_df['feature_importance'] + (rf.feature_importances_)\n",
        "    print(f\"Fold {fold_counter} Precision {precision_score(y_test, rf.predict(X_test)):.3f} Recall {recall_score(y_test, rf.predict(X_test)):.3f} Accuracy {accuracy_score(y_test, rf.predict(X_test)):.3f}\")\n",
        "    fold_counter = fold_counter + 1\n",
        "# predicted labels\n",
        "pred_y = pred_train_labels.argmax(axis=-1)\n",
        "print(f\"Total  Precision {precision_score(y, pred_y):.3f} Recall {recall_score(y, pred_y):.3f} Accuracy {accuracy_score(y, pred_y):.3f}\")"
      ],
      "metadata": {
        "colab": {
          "base_uri": "https://localhost:8080/"
        },
        "id": "2JkPBcxwcv6X",
        "outputId": "835bdd88-26c4-4d19-b17e-330ea04dd92c"
      },
      "execution_count": null,
      "outputs": [
        {
          "output_type": "stream",
          "name": "stdout",
          "text": [
            "Fold 1 Precision 0.714 Recall 0.053 Accuracy 0.906\n",
            "Fold 2 Precision 0.885 Recall 0.081 Accuracy 0.910\n",
            "Fold 3 Precision 0.895 Recall 0.060 Accuracy 0.908\n",
            "Fold 4 Precision 0.944 Recall 0.060 Accuracy 0.908\n",
            "Fold 5 Precision 0.850 Recall 0.060 Accuracy 0.908\n",
            "Total  Precision 0.856 Recall 0.063 Accuracy 0.908\n"
          ]
        }
      ]
    },
    {
      "cell_type": "code",
      "source": [
        "fig = plt.figure(figsize=(12,10))\n",
        "ax = sns.barplot(data=feature_importance_df.sort_values(by=['feature_importance'], ascending=False), y='feature_name', x='feature_importance')"
      ],
      "metadata": {
        "colab": {
          "base_uri": "https://localhost:8080/",
          "height": 611
        },
        "id": "CMddiGUQeHVl",
        "outputId": "d3aff46d-d801-46a2-9188-fc27d7b9a1e1"
      },
      "execution_count": null,
      "outputs": [
        {
          "output_type": "display_data",
          "data": {
            "text/plain": [
              "<Figure size 864x720 with 1 Axes>"
            ],
            "image/png": "[encoded data removed]"
          },
          "metadata": {}
        }
      ]
    },
    {
      "cell_type": "code",
      "source": [
        "print(classification_report(y, pred_y))"
      ],
      "metadata": {
        "colab": {
          "base_uri": "https://localhost:8080/"
        },
        "id": "ORBoh3mseOI0",
        "outputId": "ee8c39f0-25d9-4ccd-e9df-9b16df875463"
      },
      "execution_count": null,
      "outputs": [
        {
          "output_type": "stream",
          "name": "stdout",
          "text": [
            "              precision    recall  f1-score   support\n",
            "\n",
            "           0       0.91      1.00      0.95     13187\n",
            "           1       0.86      0.06      0.12      1419\n",
            "\n",
            "    accuracy                           0.91     14606\n",
            "   macro avg       0.88      0.53      0.53     14606\n",
            "weighted avg       0.90      0.91      0.87     14606\n",
            "\n"
          ]
        }
      ]
    },
    {
      "cell_type": "code",
      "source": [
        "cm = confusion_matrix(y, pred_y, labels=rf.classes_)\n",
        "disp = ConfusionMatrixDisplay(confusion_matrix=cm, display_labels=rf.classes_)\n",
        "disp.plot()"
      ],
      "metadata": {
        "colab": {
          "base_uri": "https://localhost:8080/",
          "height": 302
        },
        "id": "JJNBEESweSLx",
        "outputId": "56487a29-f97c-4761-e8be-554ba2b8a87d"
      },
      "execution_count": null,
      "outputs": [
        {
          "output_type": "execute_result",
          "data": {
            "text/plain": [
              "<sklearn.metrics._plot.confusion_matrix.ConfusionMatrixDisplay at 0x7f909e5f0590>"
            ]
          },
          "metadata": {},
          "execution_count": 104
        },
        {
          "output_type": "display_data",
          "data": {
            "text/plain": [
              "<Figure size 432x288 with 2 Axes>"
            ],
            "image/png": "[encoded data removed]"
          },
          "metadata": {}
        }
      ]
    },
    {
      "cell_type": "markdown",
      "source": [
        "Based on the results above, we can see the performance is very bad. Although the accuracy is up to 90%, it is misleading and pointless, as we only focus on correctly predicting the positive class rather than the nagetive class. The model can only find out 6% of real positive samples. But luckily, in the predicted positive samples, up to 86% of them are real positive samples."
      ],
      "metadata": {
        "id": "zRr8jYWueVr5"
      }
    },
    {
      "cell_type": "code",
      "source": [
        "prob_no_discount = pd.DataFrame(data = pred_train_labels, columns=['0', '1'])\n",
        "prob_no_discount['id'] = train_data['id']\n",
        "prob_no_discount = prob_no_discount[['id','0','1']]\n",
        "prob_no_discount"
      ],
      "metadata": {
        "colab": {
          "base_uri": "https://localhost:8080/",
          "height": 424
        },
        "id": "3hAv6Bs8eX_N",
        "outputId": "0f48c480-9784-4c1e-97c0-651f3cd4501c"
      },
      "execution_count": null,
      "outputs": [
        {
          "output_type": "execute_result",
          "data": {
            "text/plain": [
              "                                     id     0     1\n",
              "0      24011ae4ebbe3035111d65fa7c15bc57  0.66  0.34\n",
              "1      d29c2c54acc38ff3c0614d0a653813dd  0.95  0.05\n",
              "2      764c75f661154dac3a6c254cd082ea7d  0.89  0.11\n",
              "3      bba03439a292a1e166f80264c16191cb  0.84  0.16\n",
              "4      149d57cf92fc41cf94415803a877cb4b  0.99  0.01\n",
              "...                                 ...   ...   ...\n",
              "14601  18463073fb097fc0ac5d3e040f356987  0.90  0.10\n",
              "14602  d0a6f71671571ed83b2645d23af6de00  0.41  0.59\n",
              "14603  10e6828ddd62cbcf687cb74928c4c2d2  0.86  0.14\n",
              "14604  1cf20fd6206d7678d5bcafd28c53b4db  0.93  0.07\n",
              "14605  563dde550fd624d7352f3de77c0cdfcd  0.91  0.09\n",
              "\n",
              "[14606 rows x 3 columns]"
            ],
            "text/html": [
              "\n",
              "  <div id=\"df-0582b8b9-d171-40a7-b12c-a3380c7ae694\">\n",
              "    <div class=\"colab-df-container\">\n",
              "      <div>\n",
              "<style scoped>\n",
              "    .dataframe tbody tr th:only-of-type {\n",
              "        vertical-align: middle;\n",
              "    }\n",
              "\n",
              "    .dataframe tbody tr th {\n",
              "        vertical-align: top;\n",
              "    }\n",
              "\n",
              "    .dataframe thead th {\n",
              "        text-align: right;\n",
              "    }\n",
              "</style>\n",
              "<table border=\"1\" class=\"dataframe\">\n",
              "  <thead>\n",
              "    <tr style=\"text-align: right;\">\n",
              "      <th></th>\n",
              "      <th>id</th>\n",
              "      <th>0</th>\n",
              "      <th>1</th>\n",
              "    </tr>\n",
              "  </thead>\n",
              "  <tbody>\n",
              "    <tr>\n",
              "      <th>0</th>\n",
              "      <td>24011ae4ebbe3035111d65fa7c15bc57</td>\n",
              "      <td>0.66</td>\n",
              "      <td>0.34</td>\n",
              "    </tr>\n",
              "    <tr>\n",
              "      <th>1</th>\n",
              "      <td>d29c2c54acc38ff3c0614d0a653813dd</td>\n",
              "      <td>0.95</td>\n",
              "      <td>0.05</td>\n",
              "    </tr>\n",
              "    <tr>\n",
              "      <th>2</th>\n",
              "      <td>764c75f661154dac3a6c254cd082ea7d</td>\n",
              "      <td>0.89</td>\n",
              "      <td>0.11</td>\n",
              "    </tr>\n",
              "    <tr>\n",
              "      <th>3</th>\n",
              "      <td>bba03439a292a1e166f80264c16191cb</td>\n",
              "      <td>0.84</td>\n",
              "      <td>0.16</td>\n",
              "    </tr>\n",
              "    <tr>\n",
              "      <th>4</th>\n",
              "      <td>149d57cf92fc41cf94415803a877cb4b</td>\n",
              "      <td>0.99</td>\n",
              "      <td>0.01</td>\n",
              "    </tr>\n",
              "    <tr>\n",
              "      <th>...</th>\n",
              "      <td>...</td>\n",
              "      <td>...</td>\n",
              "      <td>...</td>\n",
              "    </tr>\n",
              "    <tr>\n",
              "      <th>14601</th>\n",
              "      <td>18463073fb097fc0ac5d3e040f356987</td>\n",
              "      <td>0.90</td>\n",
              "      <td>0.10</td>\n",
              "    </tr>\n",
              "    <tr>\n",
              "      <th>14602</th>\n",
              "      <td>d0a6f71671571ed83b2645d23af6de00</td>\n",
              "      <td>0.41</td>\n",
              "      <td>0.59</td>\n",
              "    </tr>\n",
              "    <tr>\n",
              "      <th>14603</th>\n",
              "      <td>10e6828ddd62cbcf687cb74928c4c2d2</td>\n",
              "      <td>0.86</td>\n",
              "      <td>0.14</td>\n",
              "    </tr>\n",
              "    <tr>\n",
              "      <th>14604</th>\n",
              "      <td>1cf20fd6206d7678d5bcafd28c53b4db</td>\n",
              "      <td>0.93</td>\n",
              "      <td>0.07</td>\n",
              "    </tr>\n",
              "    <tr>\n",
              "      <th>14605</th>\n",
              "      <td>563dde550fd624d7352f3de77c0cdfcd</td>\n",
              "      <td>0.91</td>\n",
              "      <td>0.09</td>\n",
              "    </tr>\n",
              "  </tbody>\n",
              "</table>\n",
              "<p>14606 rows × 3 columns</p>\n",
              "</div>\n",
              "      <button class=\"colab-df-convert\" onclick=\"convertToInteractive('df-0582b8b9-d171-40a7-b12c-a3380c7ae694')\"\n",
              "              title=\"Convert this dataframe to an interactive table.\"\n",
              "              style=\"display:none;\">\n",
              "        \n",
              "  <svg xmlns=\"http://www.w3.org/2000/svg\" height=\"24px\"viewBox=\"0 0 24 24\"\n",
              "       width=\"24px\">\n",
              "    <path d=\"M0 0h24v24H0V0z\" fill=\"none\"/>\n",
              "    <path d=\"M18.56 5.44l.94 2.06.94-2.06 2.06-.94-2.06-.94-.94-2.06-.94 2.06-2.06.94zm-11 1L8.5 8.5l.94-2.06 2.06-.94-2.06-.94L8.5 2.5l-.94 2.06-2.06.94zm10 10l.94 2.06.94-2.06 2.06-.94-2.06-.94-.94-2.06-.94 2.06-2.06.94z\"/><path d=\"M17.41 7.96l-1.37-1.37c-.4-.4-.92-.59-1.43-.59-.52 0-1.04.2-1.43.59L10.3 9.45l-7.72 7.72c-.78.78-.78 2.05 0 2.83L4 21.41c.39.39.9.59 1.41.59.51 0 1.02-.2 1.41-.59l7.78-7.78 2.81-2.81c.8-.78.8-2.07 0-2.86zM5.41 20L4 18.59l7.72-7.72 1.47 1.35L5.41 20z\"/>\n",
              "  </svg>\n",
              "      </button>\n",
              "      \n",
              "  <style>\n",
              "    .colab-df-container {\n",
              "      display:flex;\n",
              "      flex-wrap:wrap;\n",
              "      gap: 12px;\n",
              "    }\n",
              "\n",
              "    .colab-df-convert {\n",
              "      background-color: #E8F0FE;\n",
              "      border: none;\n",
              "      border-radius: 50%;\n",
              "      cursor: pointer;\n",
              "      display: none;\n",
              "      fill: #1967D2;\n",
              "      height: 32px;\n",
              "      padding: 0 0 0 0;\n",
              "      width: 32px;\n",
              "    }\n",
              "\n",
              "    .colab-df-convert:hover {\n",
              "      background-color: #E2EBFA;\n",
              "      box-shadow: 0px 1px 2px rgba(60, 64, 67, 0.3), 0px 1px 3px 1px rgba(60, 64, 67, 0.15);\n",
              "      fill: #174EA6;\n",
              "    }\n",
              "\n",
              "    [theme=dark] .colab-df-convert {\n",
              "      background-color: #3B4455;\n",
              "      fill: #D2E3FC;\n",
              "    }\n",
              "\n",
              "    [theme=dark] .colab-df-convert:hover {\n",
              "      background-color: #434B5C;\n",
              "      box-shadow: 0px 1px 3px 1px rgba(0, 0, 0, 0.15);\n",
              "      filter: drop-shadow(0px 1px 2px rgba(0, 0, 0, 0.3));\n",
              "      fill: #FFFFFF;\n",
              "    }\n",
              "  </style>\n",
              "\n",
              "      <script>\n",
              "        const buttonEl =\n",
              "          document.querySelector('#df-0582b8b9-d171-40a7-b12c-a3380c7ae694 button.colab-df-convert');\n",
              "        buttonEl.style.display =\n",
              "          google.colab.kernel.accessAllowed ? 'block' : 'none';\n",
              "\n",
              "        async function convertToInteractive(key) {\n",
              "          const element = document.querySelector('#df-0582b8b9-d171-40a7-b12c-a3380c7ae694');\n",
              "          const dataTable =\n",
              "            await google.colab.kernel.invokeFunction('convertToInteractive',\n",
              "                                                     [key], {});\n",
              "          if (!dataTable) return;\n",
              "\n",
              "          const docLinkHtml = 'Like what you see? Visit the ' +\n",
              "            '<a target=\"_blank\" href=https://colab.research.google.com/notebooks/data_table.ipynb>data table notebook</a>'\n",
              "            + ' to learn more about interactive tables.';\n",
              "          element.innerHTML = '';\n",
              "          dataTable['output_type'] = 'display_data';\n",
              "          await google.colab.output.renderOutput(dataTable, element);\n",
              "          const docLink = document.createElement('div');\n",
              "          docLink.innerHTML = docLinkHtml;\n",
              "          element.appendChild(docLink);\n",
              "        }\n",
              "      </script>\n",
              "    </div>\n",
              "  </div>\n",
              "  "
            ]
          },
          "metadata": {},
          "execution_count": 105
        }
      ]
    },
    {
      "cell_type": "markdown",
      "source": [
        "We need to predcit the probability of churn when applying a 20% discount. Note: I still use the data on this year, not the next year."
      ],
      "metadata": {
        "id": "teb2FTDsegkm"
      }
    },
    {
      "cell_type": "code",
      "source": [
        "# drop useless columns\n",
        "test_data = client_df.copy()\n",
        "test_data['year_modif_prod'] = test_data['date_modif_prod'].dt.year\n",
        "test_data['year_renewal'] = test_data['date_renewal'].dt.year\n",
        "test_data = test_data.drop(columns=['date_activ','date_end','date_modif_prod','date_renewal'])\n",
        "# \n",
        "has_gas_encoder = LabelEncoder()\n",
        "test_data['has_gas'] = has_gas_encoder.fit_transform(test_data['has_gas'])\n",
        "# apply a 20% discount\n",
        "diff_dec_jan_off_peak_var = price_df.sort_values(by=['price_date']).groupby(['id'])['price_off_peak_var'].nth(-1)*0.8 - price_df.sort_values(by=['price_date']).groupby(['id'])['price_off_peak_var'].nth(0)*0.8\n",
        "diff_dec_jan_off_peak_var = diff_dec_jan_off_peak_var.reset_index(name='diff_dec_jan_off_peak_var')\n",
        "diff_dec_jan_off_peak_fix = price_df.sort_values(by=['price_date']).groupby(['id'])['price_off_peak_fix'].nth(-1)*0.8 - price_df.sort_values(by=['price_date']).groupby(['id'])['price_off_peak_fix'].nth(0)*0.8\n",
        "diff_dec_jan_off_peak_fix = diff_dec_jan_off_peak_fix.reset_index(name='diff_dec_jan_off_peak_fix')\n",
        "test_data = test_data.merge(diff_dec_jan_off_peak_var, on='id', how='left')\n",
        "test_data = test_data.merge(diff_dec_jan_off_peak_fix, on='id', how='left')\n",
        "# also add the above differences of other prices\n",
        "for attr in ['price_peak_var','price_peak_fix','price_mid_peak_var','price_mid_peak_fix']:\n",
        "    diff_dec_jan_temp = price_df.sort_values(by=['price_date']).groupby(['id'])[attr].nth(-1)*0.8 - price_df.sort_values(by=['price_date']).groupby(['id'])[attr].nth(0)*0.8\n",
        "    diff_dec_jan_temp = diff_dec_jan_temp.reset_index(name=f'diff_dec_jan_{attr}')\n",
        "    test_data = test_data.merge(diff_dec_jan_temp, on='id', how='left')\n",
        "# add price changing trends\n",
        "price_attr = ['price_off_peak_var','price_peak_var','price_mid_peak_var','price_off_peak_fix','price_peak_fix','price_mid_peak_fix']\n",
        "price_stat_test = price_df.drop(columns=['price_date']).groupby(['id']).agg({'price_off_peak_var': ['mean'], 'price_peak_var': ['mean'], 'price_mid_peak_var': ['mean'],\n",
        "                                                      'price_off_peak_fix': ['mean'], 'price_peak_fix': ['mean'], 'price_mid_peak_fix': ['mean'],})\n",
        "# flatten the column names\n",
        "price_stat_test.columns = ['_'.join(x) for x in zip(price_stat_test.columns.get_level_values(0), price_stat_test.columns.get_level_values(1))]\n",
        "price_stat_test = price_stat_test.reset_index()\n",
        "# add diff\n",
        "for attr in price_attr:\n",
        "    price_stat_test[f'diff_Dec_mean_{attr}'] = price_df[price_df['id'].isin(price_stat_test['id'])].groupby(['id'])[attr].nth(-1).values*0.8 - price_stat_test[f'{attr}_mean']*0.8\n",
        "#\n",
        "test_data = test_data.merge(price_stat_test[['id','diff_Dec_mean_price_off_peak_var','diff_Dec_mean_price_off_peak_fix',\n",
        "                                          'diff_Dec_mean_price_peak_var','diff_Dec_mean_price_peak_fix',\n",
        "                                          'diff_Dec_mean_price_mid_peak_var','diff_Dec_mean_price_mid_peak_fix',\n",
        "                                        ]], on='id', how='left')\n",
        "\n",
        "#\n",
        "test_data.head()"
      ],
      "metadata": {
        "colab": {
          "base_uri": "https://localhost:8080/",
          "height": 299
        },
        "id": "ZzCNBmvjedzP",
        "outputId": "bf2dd7cc-b9b1-4250-cc98-bcd8d714bd40"
      },
      "execution_count": null,
      "outputs": [
        {
          "output_type": "execute_result",
          "data": {
            "text/plain": [
              "                                 id  channel_sales  cons_12m  cons_gas_12m  \\\n",
              "0  24011ae4ebbe3035111d65fa7c15bc57              4         0         54946   \n",
              "1  d29c2c54acc38ff3c0614d0a653813dd              0      4660             0   \n",
              "2  764c75f661154dac3a6c254cd082ea7d              4       544             0   \n",
              "3  bba03439a292a1e166f80264c16191cb              5      1584             0   \n",
              "4  149d57cf92fc41cf94415803a877cb4b              0      4425             0   \n",
              "\n",
              "   cons_last_month  forecast_cons_12m  forecast_cons_year  \\\n",
              "0                0               0.00                   0   \n",
              "1                0             189.95                   0   \n",
              "2                0              47.96                   0   \n",
              "3                0             240.04                   0   \n",
              "4              526             445.75                 526   \n",
              "\n",
              "   forecast_discount_energy  forecast_meter_rent_12m  \\\n",
              "0                       0.0                     1.78   \n",
              "1                       0.0                    16.27   \n",
              "2                       0.0                    38.72   \n",
              "3                       0.0                    19.83   \n",
              "4                       0.0                   131.73   \n",
              "\n",
              "   forecast_price_energy_off_peak  ...  diff_dec_jan_price_peak_var  \\\n",
              "0                        0.114481  ...                    -0.014330   \n",
              "1                        0.145711  ...                     0.000000   \n",
              "2                        0.165794  ...                     0.000422   \n",
              "3                        0.146694  ...                     0.000000   \n",
              "4                        0.116900  ...                    -0.001842   \n",
              "\n",
              "   diff_dec_jan_price_peak_fix  diff_dec_jan_price_mid_peak_var  \\\n",
              "0                   -19.471665                        -0.057229   \n",
              "1                     0.000000                         0.000000   \n",
              "2                     0.000000                         0.000000   \n",
              "3                     0.000000                         0.000000   \n",
              "4                     0.078199                         0.002790   \n",
              "\n",
              "   diff_dec_jan_price_mid_peak_fix  diff_Dec_mean_price_off_peak_var  \\\n",
              "0                       -12.981111                          0.016997   \n",
              "1                         0.000000                         -0.001607   \n",
              "2                         0.000000                         -0.002171   \n",
              "3                         0.000000                         -0.002099   \n",
              "4                         0.052133                         -0.003415   \n",
              "\n",
              "   diff_Dec_mean_price_off_peak_fix  diff_Dec_mean_price_peak_var  \\\n",
              "0                          2.659732                     -0.012213   \n",
              "1                          0.106668                     -0.005699   \n",
              "2                          0.047408                     -0.000010   \n",
              "3                          0.035556                      0.000000   \n",
              "4                          0.032583                     -0.001572   \n",
              "\n",
              "   diff_Dec_mean_price_peak_fix  diff_Dec_mean_price_mid_peak_var  \\\n",
              "0                    -17.881608                         -0.053224   \n",
              "1                      0.000000                          0.000000   \n",
              "2                      0.000000                          0.000000   \n",
              "3                      0.000000                          0.000000   \n",
              "4                      0.019550                          0.000683   \n",
              "\n",
              "   diff_Dec_mean_price_mid_peak_fix  \n",
              "0                        -11.921072  \n",
              "1                          0.000000  \n",
              "2                          0.000000  \n",
              "3                          0.000000  \n",
              "4                          0.013033  \n",
              "\n",
              "[5 rows x 38 columns]"
            ],
            "text/html": [
              "\n",
              "  <div id=\"df-3f4f114c-e3db-42c3-b1a9-6e4c473c1ff6\">\n",
              "    <div class=\"colab-df-container\">\n",
              "      <div>\n",
              "<style scoped>\n",
              "    .dataframe tbody tr th:only-of-type {\n",
              "        vertical-align: middle;\n",
              "    }\n",
              "\n",
              "    .dataframe tbody tr th {\n",
              "        vertical-align: top;\n",
              "    }\n",
              "\n",
              "    .dataframe thead th {\n",
              "        text-align: right;\n",
              "    }\n",
              "</style>\n",
              "<table border=\"1\" class=\"dataframe\">\n",
              "  <thead>\n",
              "    <tr style=\"text-align: right;\">\n",
              "      <th></th>\n",
              "      <th>id</th>\n",
              "      <th>channel_sales</th>\n",
              "      <th>cons_12m</th>\n",
              "      <th>cons_gas_12m</th>\n",
              "      <th>cons_last_month</th>\n",
              "      <th>forecast_cons_12m</th>\n",
              "      <th>forecast_cons_year</th>\n",
              "      <th>forecast_discount_energy</th>\n",
              "      <th>forecast_meter_rent_12m</th>\n",
              "      <th>forecast_price_energy_off_peak</th>\n",
              "      <th>...</th>\n",
              "      <th>diff_dec_jan_price_peak_var</th>\n",
              "      <th>diff_dec_jan_price_peak_fix</th>\n",
              "      <th>diff_dec_jan_price_mid_peak_var</th>\n",
              "      <th>diff_dec_jan_price_mid_peak_fix</th>\n",
              "      <th>diff_Dec_mean_price_off_peak_var</th>\n",
              "      <th>diff_Dec_mean_price_off_peak_fix</th>\n",
              "      <th>diff_Dec_mean_price_peak_var</th>\n",
              "      <th>diff_Dec_mean_price_peak_fix</th>\n",
              "      <th>diff_Dec_mean_price_mid_peak_var</th>\n",
              "      <th>diff_Dec_mean_price_mid_peak_fix</th>\n",
              "    </tr>\n",
              "  </thead>\n",
              "  <tbody>\n",
              "    <tr>\n",
              "      <th>0</th>\n",
              "      <td>24011ae4ebbe3035111d65fa7c15bc57</td>\n",
              "      <td>4</td>\n",
              "      <td>0</td>\n",
              "      <td>54946</td>\n",
              "      <td>0</td>\n",
              "      <td>0.00</td>\n",
              "      <td>0</td>\n",
              "      <td>0.0</td>\n",
              "      <td>1.78</td>\n",
              "      <td>0.114481</td>\n",
              "      <td>...</td>\n",
              "      <td>-0.014330</td>\n",
              "      <td>-19.471665</td>\n",
              "      <td>-0.057229</td>\n",
              "      <td>-12.981111</td>\n",
              "      <td>0.016997</td>\n",
              "      <td>2.659732</td>\n",
              "      <td>-0.012213</td>\n",
              "      <td>-17.881608</td>\n",
              "      <td>-0.053224</td>\n",
              "      <td>-11.921072</td>\n",
              "    </tr>\n",
              "    <tr>\n",
              "      <th>1</th>\n",
              "      <td>d29c2c54acc38ff3c0614d0a653813dd</td>\n",
              "      <td>0</td>\n",
              "      <td>4660</td>\n",
              "      <td>0</td>\n",
              "      <td>0</td>\n",
              "      <td>189.95</td>\n",
              "      <td>0</td>\n",
              "      <td>0.0</td>\n",
              "      <td>16.27</td>\n",
              "      <td>0.145711</td>\n",
              "      <td>...</td>\n",
              "      <td>0.000000</td>\n",
              "      <td>0.000000</td>\n",
              "      <td>0.000000</td>\n",
              "      <td>0.000000</td>\n",
              "      <td>-0.001607</td>\n",
              "      <td>0.106668</td>\n",
              "      <td>-0.005699</td>\n",
              "      <td>0.000000</td>\n",
              "      <td>0.000000</td>\n",
              "      <td>0.000000</td>\n",
              "    </tr>\n",
              "    <tr>\n",
              "      <th>2</th>\n",
              "      <td>764c75f661154dac3a6c254cd082ea7d</td>\n",
              "      <td>4</td>\n",
              "      <td>544</td>\n",
              "      <td>0</td>\n",
              "      <td>0</td>\n",
              "      <td>47.96</td>\n",
              "      <td>0</td>\n",
              "      <td>0.0</td>\n",
              "      <td>38.72</td>\n",
              "      <td>0.165794</td>\n",
              "      <td>...</td>\n",
              "      <td>0.000422</td>\n",
              "      <td>0.000000</td>\n",
              "      <td>0.000000</td>\n",
              "      <td>0.000000</td>\n",
              "      <td>-0.002171</td>\n",
              "      <td>0.047408</td>\n",
              "      <td>-0.000010</td>\n",
              "      <td>0.000000</td>\n",
              "      <td>0.000000</td>\n",
              "      <td>0.000000</td>\n",
              "    </tr>\n",
              "    <tr>\n",
              "      <th>3</th>\n",
              "      <td>bba03439a292a1e166f80264c16191cb</td>\n",
              "      <td>5</td>\n",
              "      <td>1584</td>\n",
              "      <td>0</td>\n",
              "      <td>0</td>\n",
              "      <td>240.04</td>\n",
              "      <td>0</td>\n",
              "      <td>0.0</td>\n",
              "      <td>19.83</td>\n",
              "      <td>0.146694</td>\n",
              "      <td>...</td>\n",
              "      <td>0.000000</td>\n",
              "      <td>0.000000</td>\n",
              "      <td>0.000000</td>\n",
              "      <td>0.000000</td>\n",
              "      <td>-0.002099</td>\n",
              "      <td>0.035556</td>\n",
              "      <td>0.000000</td>\n",
              "      <td>0.000000</td>\n",
              "      <td>0.000000</td>\n",
              "      <td>0.000000</td>\n",
              "    </tr>\n",
              "    <tr>\n",
              "      <th>4</th>\n",
              "      <td>149d57cf92fc41cf94415803a877cb4b</td>\n",
              "      <td>0</td>\n",
              "      <td>4425</td>\n",
              "      <td>0</td>\n",
              "      <td>526</td>\n",
              "      <td>445.75</td>\n",
              "      <td>526</td>\n",
              "      <td>0.0</td>\n",
              "      <td>131.73</td>\n",
              "      <td>0.116900</td>\n",
              "      <td>...</td>\n",
              "      <td>-0.001842</td>\n",
              "      <td>0.078199</td>\n",
              "      <td>0.002790</td>\n",
              "      <td>0.052133</td>\n",
              "      <td>-0.003415</td>\n",
              "      <td>0.032583</td>\n",
              "      <td>-0.001572</td>\n",
              "      <td>0.019550</td>\n",
              "      <td>0.000683</td>\n",
              "      <td>0.013033</td>\n",
              "    </tr>\n",
              "  </tbody>\n",
              "</table>\n",
              "<p>5 rows × 38 columns</p>\n",
              "</div>\n",
              "      <button class=\"colab-df-convert\" onclick=\"convertToInteractive('df-3f4f114c-e3db-42c3-b1a9-6e4c473c1ff6')\"\n",
              "              title=\"Convert this dataframe to an interactive table.\"\n",
              "              style=\"display:none;\">\n",
              "        \n",
              "  <svg xmlns=\"http://www.w3.org/2000/svg\" height=\"24px\"viewBox=\"0 0 24 24\"\n",
              "       width=\"24px\">\n",
              "    <path d=\"M0 0h24v24H0V0z\" fill=\"none\"/>\n",
              "    <path d=\"M18.56 5.44l.94 2.06.94-2.06 2.06-.94-2.06-.94-.94-2.06-.94 2.06-2.06.94zm-11 1L8.5 8.5l.94-2.06 2.06-.94-2.06-.94L8.5 2.5l-.94 2.06-2.06.94zm10 10l.94 2.06.94-2.06 2.06-.94-2.06-.94-.94-2.06-.94 2.06-2.06.94z\"/><path d=\"M17.41 7.96l-1.37-1.37c-.4-.4-.92-.59-1.43-.59-.52 0-1.04.2-1.43.59L10.3 9.45l-7.72 7.72c-.78.78-.78 2.05 0 2.83L4 21.41c.39.39.9.59 1.41.59.51 0 1.02-.2 1.41-.59l7.78-7.78 2.81-2.81c.8-.78.8-2.07 0-2.86zM5.41 20L4 18.59l7.72-7.72 1.47 1.35L5.41 20z\"/>\n",
              "  </svg>\n",
              "      </button>\n",
              "      \n",
              "  <style>\n",
              "    .colab-df-container {\n",
              "      display:flex;\n",
              "      flex-wrap:wrap;\n",
              "      gap: 12px;\n",
              "    }\n",
              "\n",
              "    .colab-df-convert {\n",
              "      background-color: #E8F0FE;\n",
              "      border: none;\n",
              "      border-radius: 50%;\n",
              "      cursor: pointer;\n",
              "      display: none;\n",
              "      fill: #1967D2;\n",
              "      height: 32px;\n",
              "      padding: 0 0 0 0;\n",
              "      width: 32px;\n",
              "    }\n",
              "\n",
              "    .colab-df-convert:hover {\n",
              "      background-color: #E2EBFA;\n",
              "      box-shadow: 0px 1px 2px rgba(60, 64, 67, 0.3), 0px 1px 3px 1px rgba(60, 64, 67, 0.15);\n",
              "      fill: #174EA6;\n",
              "    }\n",
              "\n",
              "    [theme=dark] .colab-df-convert {\n",
              "      background-color: #3B4455;\n",
              "      fill: #D2E3FC;\n",
              "    }\n",
              "\n",
              "    [theme=dark] .colab-df-convert:hover {\n",
              "      background-color: #434B5C;\n",
              "      box-shadow: 0px 1px 3px 1px rgba(0, 0, 0, 0.15);\n",
              "      filter: drop-shadow(0px 1px 2px rgba(0, 0, 0, 0.3));\n",
              "      fill: #FFFFFF;\n",
              "    }\n",
              "  </style>\n",
              "\n",
              "      <script>\n",
              "        const buttonEl =\n",
              "          document.querySelector('#df-3f4f114c-e3db-42c3-b1a9-6e4c473c1ff6 button.colab-df-convert');\n",
              "        buttonEl.style.display =\n",
              "          google.colab.kernel.accessAllowed ? 'block' : 'none';\n",
              "\n",
              "        async function convertToInteractive(key) {\n",
              "          const element = document.querySelector('#df-3f4f114c-e3db-42c3-b1a9-6e4c473c1ff6');\n",
              "          const dataTable =\n",
              "            await google.colab.kernel.invokeFunction('convertToInteractive',\n",
              "                                                     [key], {});\n",
              "          if (!dataTable) return;\n",
              "\n",
              "          const docLinkHtml = 'Like what you see? Visit the ' +\n",
              "            '<a target=\"_blank\" href=https://colab.research.google.com/notebooks/data_table.ipynb>data table notebook</a>'\n",
              "            + ' to learn more about interactive tables.';\n",
              "          element.innerHTML = '';\n",
              "          dataTable['output_type'] = 'display_data';\n",
              "          await google.colab.output.renderOutput(dataTable, element);\n",
              "          const docLink = document.createElement('div');\n",
              "          docLink.innerHTML = docLinkHtml;\n",
              "          element.appendChild(docLink);\n",
              "        }\n",
              "      </script>\n",
              "    </div>\n",
              "  </div>\n",
              "  "
            ]
          },
          "metadata": {},
          "execution_count": 107
        }
      ]
    },
    {
      "cell_type": "code",
      "source": [
        "testing_set = test_data.drop(columns=['id','churn'])\n",
        "testing_set.shape"
      ],
      "metadata": {
        "colab": {
          "base_uri": "https://localhost:8080/"
        },
        "id": "7Maxre1Ce0b2",
        "outputId": "595e8477-3fc1-4de5-89ad-e0230fd1c14f"
      },
      "execution_count": null,
      "outputs": [
        {
          "output_type": "execute_result",
          "data": {
            "text/plain": [
              "(14606, 36)"
            ]
          },
          "metadata": {},
          "execution_count": 108
        }
      ]
    },
    {
      "cell_type": "code",
      "source": [
        "# \n",
        "pred_train_labels = np.zeros(shape=(X.shape[0], 2))   # pred training labels\n",
        "pred_test_labels = np.zeros(shape=(testing_set.shape[0], 2))\n",
        "# create cv dataset\n",
        "kfold = StratifiedKFold(n_splits=5, shuffle=True, random_state=29)\n",
        "fold_counter = 1\n",
        "for train_index, test_index in kfold.split(X, y):\n",
        "    X_train, X_test = X.loc[train_index], X.loc[test_index]\n",
        "    y_train, y_test = y[train_index], y[test_index]\n",
        "    # build model\n",
        "    rf = RandomForestClassifier(random_state=56)\n",
        "    # train model\n",
        "    rf.fit(X_train, y_train)\n",
        "    pred_train_labels[test_index] = rf.predict_proba(X_test)\n",
        "    pred_test_labels += rf.predict_proba(testing_set)/5\n",
        "    print(f\"Fold {fold_counter} Precision {precision_score(y_test, rf.predict(X_test)):.3f} Recall {recall_score(y_test, rf.predict(X_test)):.3f} Accuracy {accuracy_score(y_test, rf.predict(X_test)):.3f}\")\n",
        "    fold_counter = fold_counter + 1\n",
        "# \n",
        "print(f\"Total  Precision {precision_score(y, pred_y):.3f} Recall {recall_score(y, pred_y):.3f} Accuracy {accuracy_score(y, pred_y):.3f}\")"
      ],
      "metadata": {
        "colab": {
          "base_uri": "https://localhost:8080/"
        },
        "id": "HCKDaxplfAfe",
        "outputId": "3a922872-8f17-4cae-c38e-065e06ce604c"
      },
      "execution_count": null,
      "outputs": [
        {
          "output_type": "stream",
          "name": "stdout",
          "text": [
            "Fold 1 Precision 0.714 Recall 0.053 Accuracy 0.906\n",
            "Fold 2 Precision 0.885 Recall 0.081 Accuracy 0.910\n",
            "Fold 3 Precision 0.895 Recall 0.060 Accuracy 0.908\n",
            "Fold 4 Precision 0.944 Recall 0.060 Accuracy 0.908\n",
            "Fold 5 Precision 0.850 Recall 0.060 Accuracy 0.908\n",
            "Total  Precision 0.856 Recall 0.063 Accuracy 0.908\n"
          ]
        }
      ]
    },
    {
      "cell_type": "code",
      "source": [
        "#\n",
        "prob_discount = pd.DataFrame(data=pred_test_labels, columns=['0_dis','1_dis'])\n",
        "customer_prob = prob_no_discount.join(prob_discount)\n",
        "customer_prob.head()"
      ],
      "metadata": {
        "colab": {
          "base_uri": "https://localhost:8080/",
          "height": 206
        },
        "id": "x3LbrRMbfEoW",
        "outputId": "cec0ea8d-e52e-4d80-9bc5-49a7d0bef4cc"
      },
      "execution_count": null,
      "outputs": [
        {
          "output_type": "execute_result",
          "data": {
            "text/plain": [
              "                                 id     0     1  0_dis  1_dis\n",
              "0  24011ae4ebbe3035111d65fa7c15bc57  0.66  0.34  0.422  0.578\n",
              "1  d29c2c54acc38ff3c0614d0a653813dd  0.95  0.05  0.948  0.052\n",
              "2  764c75f661154dac3a6c254cd082ea7d  0.89  0.11  0.888  0.112\n",
              "3  bba03439a292a1e166f80264c16191cb  0.84  0.16  0.936  0.064\n",
              "4  149d57cf92fc41cf94415803a877cb4b  0.99  0.01  0.970  0.030"
            ],
            "text/html": [
              "\n",
              "  <div id=\"df-64909638-aea1-4bba-934d-f811e6f0e356\">\n",
              "    <div class=\"colab-df-container\">\n",
              "      <div>\n",
              "<style scoped>\n",
              "    .dataframe tbody tr th:only-of-type {\n",
              "        vertical-align: middle;\n",
              "    }\n",
              "\n",
              "    .dataframe tbody tr th {\n",
              "        vertical-align: top;\n",
              "    }\n",
              "\n",
              "    .dataframe thead th {\n",
              "        text-align: right;\n",
              "    }\n",
              "</style>\n",
              "<table border=\"1\" class=\"dataframe\">\n",
              "  <thead>\n",
              "    <tr style=\"text-align: right;\">\n",
              "      <th></th>\n",
              "      <th>id</th>\n",
              "      <th>0</th>\n",
              "      <th>1</th>\n",
              "      <th>0_dis</th>\n",
              "      <th>1_dis</th>\n",
              "    </tr>\n",
              "  </thead>\n",
              "  <tbody>\n",
              "    <tr>\n",
              "      <th>0</th>\n",
              "      <td>24011ae4ebbe3035111d65fa7c15bc57</td>\n",
              "      <td>0.66</td>\n",
              "      <td>0.34</td>\n",
              "      <td>0.422</td>\n",
              "      <td>0.578</td>\n",
              "    </tr>\n",
              "    <tr>\n",
              "      <th>1</th>\n",
              "      <td>d29c2c54acc38ff3c0614d0a653813dd</td>\n",
              "      <td>0.95</td>\n",
              "      <td>0.05</td>\n",
              "      <td>0.948</td>\n",
              "      <td>0.052</td>\n",
              "    </tr>\n",
              "    <tr>\n",
              "      <th>2</th>\n",
              "      <td>764c75f661154dac3a6c254cd082ea7d</td>\n",
              "      <td>0.89</td>\n",
              "      <td>0.11</td>\n",
              "      <td>0.888</td>\n",
              "      <td>0.112</td>\n",
              "    </tr>\n",
              "    <tr>\n",
              "      <th>3</th>\n",
              "      <td>bba03439a292a1e166f80264c16191cb</td>\n",
              "      <td>0.84</td>\n",
              "      <td>0.16</td>\n",
              "      <td>0.936</td>\n",
              "      <td>0.064</td>\n",
              "    </tr>\n",
              "    <tr>\n",
              "      <th>4</th>\n",
              "      <td>149d57cf92fc41cf94415803a877cb4b</td>\n",
              "      <td>0.99</td>\n",
              "      <td>0.01</td>\n",
              "      <td>0.970</td>\n",
              "      <td>0.030</td>\n",
              "    </tr>\n",
              "  </tbody>\n",
              "</table>\n",
              "</div>\n",
              "      <button class=\"colab-df-convert\" onclick=\"convertToInteractive('df-64909638-aea1-4bba-934d-f811e6f0e356')\"\n",
              "              title=\"Convert this dataframe to an interactive table.\"\n",
              "              style=\"display:none;\">\n",
              "        \n",
              "  <svg xmlns=\"http://www.w3.org/2000/svg\" height=\"24px\"viewBox=\"0 0 24 24\"\n",
              "       width=\"24px\">\n",
              "    <path d=\"M0 0h24v24H0V0z\" fill=\"none\"/>\n",
              "    <path d=\"M18.56 5.44l.94 2.06.94-2.06 2.06-.94-2.06-.94-.94-2.06-.94 2.06-2.06.94zm-11 1L8.5 8.5l.94-2.06 2.06-.94-2.06-.94L8.5 2.5l-.94 2.06-2.06.94zm10 10l.94 2.06.94-2.06 2.06-.94-2.06-.94-.94-2.06-.94 2.06-2.06.94z\"/><path d=\"M17.41 7.96l-1.37-1.37c-.4-.4-.92-.59-1.43-.59-.52 0-1.04.2-1.43.59L10.3 9.45l-7.72 7.72c-.78.78-.78 2.05 0 2.83L4 21.41c.39.39.9.59 1.41.59.51 0 1.02-.2 1.41-.59l7.78-7.78 2.81-2.81c.8-.78.8-2.07 0-2.86zM5.41 20L4 18.59l7.72-7.72 1.47 1.35L5.41 20z\"/>\n",
              "  </svg>\n",
              "      </button>\n",
              "      \n",
              "  <style>\n",
              "    .colab-df-container {\n",
              "      display:flex;\n",
              "      flex-wrap:wrap;\n",
              "      gap: 12px;\n",
              "    }\n",
              "\n",
              "    .colab-df-convert {\n",
              "      background-color: #E8F0FE;\n",
              "      border: none;\n",
              "      border-radius: 50%;\n",
              "      cursor: pointer;\n",
              "      display: none;\n",
              "      fill: #1967D2;\n",
              "      height: 32px;\n",
              "      padding: 0 0 0 0;\n",
              "      width: 32px;\n",
              "    }\n",
              "\n",
              "    .colab-df-convert:hover {\n",
              "      background-color: #E2EBFA;\n",
              "      box-shadow: 0px 1px 2px rgba(60, 64, 67, 0.3), 0px 1px 3px 1px rgba(60, 64, 67, 0.15);\n",
              "      fill: #174EA6;\n",
              "    }\n",
              "\n",
              "    [theme=dark] .colab-df-convert {\n",
              "      background-color: #3B4455;\n",
              "      fill: #D2E3FC;\n",
              "    }\n",
              "\n",
              "    [theme=dark] .colab-df-convert:hover {\n",
              "      background-color: #434B5C;\n",
              "      box-shadow: 0px 1px 3px 1px rgba(0, 0, 0, 0.15);\n",
              "      filter: drop-shadow(0px 1px 2px rgba(0, 0, 0, 0.3));\n",
              "      fill: #FFFFFF;\n",
              "    }\n",
              "  </style>\n",
              "\n",
              "      <script>\n",
              "        const buttonEl =\n",
              "          document.querySelector('#df-64909638-aea1-4bba-934d-f811e6f0e356 button.colab-df-convert');\n",
              "        buttonEl.style.display =\n",
              "          google.colab.kernel.accessAllowed ? 'block' : 'none';\n",
              "\n",
              "        async function convertToInteractive(key) {\n",
              "          const element = document.querySelector('#df-64909638-aea1-4bba-934d-f811e6f0e356');\n",
              "          const dataTable =\n",
              "            await google.colab.kernel.invokeFunction('convertToInteractive',\n",
              "                                                     [key], {});\n",
              "          if (!dataTable) return;\n",
              "\n",
              "          const docLinkHtml = 'Like what you see? Visit the ' +\n",
              "            '<a target=\"_blank\" href=https://colab.research.google.com/notebooks/data_table.ipynb>data table notebook</a>'\n",
              "            + ' to learn more about interactive tables.';\n",
              "          element.innerHTML = '';\n",
              "          dataTable['output_type'] = 'display_data';\n",
              "          await google.colab.output.renderOutput(dataTable, element);\n",
              "          const docLink = document.createElement('div');\n",
              "          docLink.innerHTML = docLinkHtml;\n",
              "          element.appendChild(docLink);\n",
              "        }\n",
              "      </script>\n",
              "    </div>\n",
              "  </div>\n",
              "  "
            ]
          },
          "metadata": {},
          "execution_count": 110
        }
      ]
    },
    {
      "cell_type": "code",
      "source": [
        "# calculate expected profit of a single customer with discounted prices and without discounted prices\n",
        "def expect_from_a_customer(customer_id):\n",
        "    # expected values without discount\n",
        "    average_yearly_price_var = price_stat[price_stat['id']==customer_id]['price_off_peak_var_mean'].values[0]\n",
        "    total_yearly_usage_var = client_df[client_df['id']==customer_id]['cons_12m'].values[0]\n",
        "    average_yearly_price_fix = price_stat[price_stat['id']==customer_id]['price_off_peak_fix_mean'].values[0]\n",
        "    total_yearly_usage_fix = client_df[client_df['id']==customer_id]['cons_gas_12m'].values[0]\n",
        "    total_profit = average_yearly_price_var*total_yearly_usage_var + average_yearly_price_fix*total_yearly_usage_fix\n",
        "    # \n",
        "    prob_stay = customer_prob[customer_prob['id']==customer_id]['0'].values[0]\n",
        "    expected_profit = prob_stay*total_profit\n",
        "    # expected values with discount\n",
        "    total_profit_dis = total_profit*0.8\n",
        "    # \n",
        "    prob_stay_dis = customer_prob[customer_prob['id']==customer_id]['0_dis'].values[0]\n",
        "    expected_profit_dis = prob_stay_dis*total_profit_dis\n",
        "    return expected_profit, expected_profit_dis"
      ],
      "metadata": {
        "id": "LZ-qroXufIf2"
      },
      "execution_count": null,
      "outputs": []
    },
    {
      "cell_type": "code",
      "source": [
        "# Calculate expected profit from each customer\n",
        "expected_no_dis, expected_dis = [],[]\n",
        "for cus_id in customer_prob['id']:\n",
        "    temp = expect_from_a_customer(customer_id=cus_id)\n",
        "    expected_no_dis.append(temp[0])\n",
        "    expected_dis.append(temp[1])\n",
        "#\n",
        "customer_prob['expected_no_dis'] = expected_no_dis\n",
        "customer_prob['expected_dis'] = expected_dis\n",
        "customer_prob['diff_discount'] = customer_prob['expected_dis'] - customer_prob['expected_no_dis']\n",
        "customer_prob"
      ],
      "metadata": {
        "colab": {
          "base_uri": "https://localhost:8080/",
          "height": 424
        },
        "id": "eKSEEj3WfMrv",
        "outputId": "0ff128ba-e08a-4d9d-f705-ccceef79905e"
      },
      "execution_count": null,
      "outputs": [
        {
          "output_type": "execute_result",
          "data": {
            "text/plain": [
              "                                     id     0     1  0_dis  1_dis  \\\n",
              "0      24011ae4ebbe3035111d65fa7c15bc57  0.66  0.34  0.422  0.578   \n",
              "1      d29c2c54acc38ff3c0614d0a653813dd  0.95  0.05  0.948  0.052   \n",
              "2      764c75f661154dac3a6c254cd082ea7d  0.89  0.11  0.888  0.112   \n",
              "3      bba03439a292a1e166f80264c16191cb  0.84  0.16  0.936  0.064   \n",
              "4      149d57cf92fc41cf94415803a877cb4b  0.99  0.01  0.970  0.030   \n",
              "...                                 ...   ...   ...    ...    ...   \n",
              "14601  18463073fb097fc0ac5d3e040f356987  0.90  0.10  0.936  0.064   \n",
              "14602  d0a6f71671571ed83b2645d23af6de00  0.41  0.59  0.386  0.614   \n",
              "14603  10e6828ddd62cbcf687cb74928c4c2d2  0.86  0.14  0.596  0.404   \n",
              "14604  1cf20fd6206d7678d5bcafd28c53b4db  0.93  0.07  0.932  0.068   \n",
              "14605  563dde550fd624d7352f3de77c0cdfcd  0.91  0.09  0.940  0.060   \n",
              "\n",
              "       expected_no_dis  expected_dis  diff_discount  \n",
              "0         1.484745e+06  7.594696e+05 -725275.463026  \n",
              "1         6.623187e+02  5.287395e+02    -133.579219  \n",
              "2         8.255493e+01  6.589553e+01     -16.659399  \n",
              "3         2.011941e+02  1.793502e+02     -21.843930  \n",
              "4         5.439767e+02  4.263898e+02    -117.586885  \n",
              "...                ...           ...            ...  \n",
              "14601     1.918601e+06  1.596276e+06 -322325.008098  \n",
              "14602     3.162780e+02  2.382113e+02     -78.066670  \n",
              "14603     1.971808e+02  1.093207e+02     -87.860111  \n",
              "14604     1.822685e+01  1.461284e+01      -3.614013  \n",
              "14605     1.339899e+03  1.107257e+03    -232.641783  \n",
              "\n",
              "[14606 rows x 8 columns]"
            ],
            "text/html": [
              "\n",
              "  <div id=\"df-a6687a08-f101-41d9-8dcf-51be4037ba5e\">\n",
              "    <div class=\"colab-df-container\">\n",
              "      <div>\n",
              "<style scoped>\n",
              "    .dataframe tbody tr th:only-of-type {\n",
              "        vertical-align: middle;\n",
              "    }\n",
              "\n",
              "    .dataframe tbody tr th {\n",
              "        vertical-align: top;\n",
              "    }\n",
              "\n",
              "    .dataframe thead th {\n",
              "        text-align: right;\n",
              "    }\n",
              "</style>\n",
              "<table border=\"1\" class=\"dataframe\">\n",
              "  <thead>\n",
              "    <tr style=\"text-align: right;\">\n",
              "      <th></th>\n",
              "      <th>id</th>\n",
              "      <th>0</th>\n",
              "      <th>1</th>\n",
              "      <th>0_dis</th>\n",
              "      <th>1_dis</th>\n",
              "      <th>expected_no_dis</th>\n",
              "      <th>expected_dis</th>\n",
              "      <th>diff_discount</th>\n",
              "    </tr>\n",
              "  </thead>\n",
              "  <tbody>\n",
              "    <tr>\n",
              "      <th>0</th>\n",
              "      <td>24011ae4ebbe3035111d65fa7c15bc57</td>\n",
              "      <td>0.66</td>\n",
              "      <td>0.34</td>\n",
              "      <td>0.422</td>\n",
              "      <td>0.578</td>\n",
              "      <td>1.484745e+06</td>\n",
              "      <td>7.594696e+05</td>\n",
              "      <td>-725275.463026</td>\n",
              "    </tr>\n",
              "    <tr>\n",
              "      <th>1</th>\n",
              "      <td>d29c2c54acc38ff3c0614d0a653813dd</td>\n",
              "      <td>0.95</td>\n",
              "      <td>0.05</td>\n",
              "      <td>0.948</td>\n",
              "      <td>0.052</td>\n",
              "      <td>6.623187e+02</td>\n",
              "      <td>5.287395e+02</td>\n",
              "      <td>-133.579219</td>\n",
              "    </tr>\n",
              "    <tr>\n",
              "      <th>2</th>\n",
              "      <td>764c75f661154dac3a6c254cd082ea7d</td>\n",
              "      <td>0.89</td>\n",
              "      <td>0.11</td>\n",
              "      <td>0.888</td>\n",
              "      <td>0.112</td>\n",
              "      <td>8.255493e+01</td>\n",
              "      <td>6.589553e+01</td>\n",
              "      <td>-16.659399</td>\n",
              "    </tr>\n",
              "    <tr>\n",
              "      <th>3</th>\n",
              "      <td>bba03439a292a1e166f80264c16191cb</td>\n",
              "      <td>0.84</td>\n",
              "      <td>0.16</td>\n",
              "      <td>0.936</td>\n",
              "      <td>0.064</td>\n",
              "      <td>2.011941e+02</td>\n",
              "      <td>1.793502e+02</td>\n",
              "      <td>-21.843930</td>\n",
              "    </tr>\n",
              "    <tr>\n",
              "      <th>4</th>\n",
              "      <td>149d57cf92fc41cf94415803a877cb4b</td>\n",
              "      <td>0.99</td>\n",
              "      <td>0.01</td>\n",
              "      <td>0.970</td>\n",
              "      <td>0.030</td>\n",
              "      <td>5.439767e+02</td>\n",
              "      <td>4.263898e+02</td>\n",
              "      <td>-117.586885</td>\n",
              "    </tr>\n",
              "    <tr>\n",
              "      <th>...</th>\n",
              "      <td>...</td>\n",
              "      <td>...</td>\n",
              "      <td>...</td>\n",
              "      <td>...</td>\n",
              "      <td>...</td>\n",
              "      <td>...</td>\n",
              "      <td>...</td>\n",
              "      <td>...</td>\n",
              "    </tr>\n",
              "    <tr>\n",
              "      <th>14601</th>\n",
              "      <td>18463073fb097fc0ac5d3e040f356987</td>\n",
              "      <td>0.90</td>\n",
              "      <td>0.10</td>\n",
              "      <td>0.936</td>\n",
              "      <td>0.064</td>\n",
              "      <td>1.918601e+06</td>\n",
              "      <td>1.596276e+06</td>\n",
              "      <td>-322325.008098</td>\n",
              "    </tr>\n",
              "    <tr>\n",
              "      <th>14602</th>\n",
              "      <td>d0a6f71671571ed83b2645d23af6de00</td>\n",
              "      <td>0.41</td>\n",
              "      <td>0.59</td>\n",
              "      <td>0.386</td>\n",
              "      <td>0.614</td>\n",
              "      <td>3.162780e+02</td>\n",
              "      <td>2.382113e+02</td>\n",
              "      <td>-78.066670</td>\n",
              "    </tr>\n",
              "    <tr>\n",
              "      <th>14603</th>\n",
              "      <td>10e6828ddd62cbcf687cb74928c4c2d2</td>\n",
              "      <td>0.86</td>\n",
              "      <td>0.14</td>\n",
              "      <td>0.596</td>\n",
              "      <td>0.404</td>\n",
              "      <td>1.971808e+02</td>\n",
              "      <td>1.093207e+02</td>\n",
              "      <td>-87.860111</td>\n",
              "    </tr>\n",
              "    <tr>\n",
              "      <th>14604</th>\n",
              "      <td>1cf20fd6206d7678d5bcafd28c53b4db</td>\n",
              "      <td>0.93</td>\n",
              "      <td>0.07</td>\n",
              "      <td>0.932</td>\n",
              "      <td>0.068</td>\n",
              "      <td>1.822685e+01</td>\n",
              "      <td>1.461284e+01</td>\n",
              "      <td>-3.614013</td>\n",
              "    </tr>\n",
              "    <tr>\n",
              "      <th>14605</th>\n",
              "      <td>563dde550fd624d7352f3de77c0cdfcd</td>\n",
              "      <td>0.91</td>\n",
              "      <td>0.09</td>\n",
              "      <td>0.940</td>\n",
              "      <td>0.060</td>\n",
              "      <td>1.339899e+03</td>\n",
              "      <td>1.107257e+03</td>\n",
              "      <td>-232.641783</td>\n",
              "    </tr>\n",
              "  </tbody>\n",
              "</table>\n",
              "<p>14606 rows × 8 columns</p>\n",
              "</div>\n",
              "      <button class=\"colab-df-convert\" onclick=\"convertToInteractive('df-a6687a08-f101-41d9-8dcf-51be4037ba5e')\"\n",
              "              title=\"Convert this dataframe to an interactive table.\"\n",
              "              style=\"display:none;\">\n",
              "        \n",
              "  <svg xmlns=\"http://www.w3.org/2000/svg\" height=\"24px\"viewBox=\"0 0 24 24\"\n",
              "       width=\"24px\">\n",
              "    <path d=\"M0 0h24v24H0V0z\" fill=\"none\"/>\n",
              "    <path d=\"M18.56 5.44l.94 2.06.94-2.06 2.06-.94-2.06-.94-.94-2.06-.94 2.06-2.06.94zm-11 1L8.5 8.5l.94-2.06 2.06-.94-2.06-.94L8.5 2.5l-.94 2.06-2.06.94zm10 10l.94 2.06.94-2.06 2.06-.94-2.06-.94-.94-2.06-.94 2.06-2.06.94z\"/><path d=\"M17.41 7.96l-1.37-1.37c-.4-.4-.92-.59-1.43-.59-.52 0-1.04.2-1.43.59L10.3 9.45l-7.72 7.72c-.78.78-.78 2.05 0 2.83L4 21.41c.39.39.9.59 1.41.59.51 0 1.02-.2 1.41-.59l7.78-7.78 2.81-2.81c.8-.78.8-2.07 0-2.86zM5.41 20L4 18.59l7.72-7.72 1.47 1.35L5.41 20z\"/>\n",
              "  </svg>\n",
              "      </button>\n",
              "      \n",
              "  <style>\n",
              "    .colab-df-container {\n",
              "      display:flex;\n",
              "      flex-wrap:wrap;\n",
              "      gap: 12px;\n",
              "    }\n",
              "\n",
              "    .colab-df-convert {\n",
              "      background-color: #E8F0FE;\n",
              "      border: none;\n",
              "      border-radius: 50%;\n",
              "      cursor: pointer;\n",
              "      display: none;\n",
              "      fill: #1967D2;\n",
              "      height: 32px;\n",
              "      padding: 0 0 0 0;\n",
              "      width: 32px;\n",
              "    }\n",
              "\n",
              "    .colab-df-convert:hover {\n",
              "      background-color: #E2EBFA;\n",
              "      box-shadow: 0px 1px 2px rgba(60, 64, 67, 0.3), 0px 1px 3px 1px rgba(60, 64, 67, 0.15);\n",
              "      fill: #174EA6;\n",
              "    }\n",
              "\n",
              "    [theme=dark] .colab-df-convert {\n",
              "      background-color: #3B4455;\n",
              "      fill: #D2E3FC;\n",
              "    }\n",
              "\n",
              "    [theme=dark] .colab-df-convert:hover {\n",
              "      background-color: #434B5C;\n",
              "      box-shadow: 0px 1px 3px 1px rgba(0, 0, 0, 0.15);\n",
              "      filter: drop-shadow(0px 1px 2px rgba(0, 0, 0, 0.3));\n",
              "      fill: #FFFFFF;\n",
              "    }\n",
              "  </style>\n",
              "\n",
              "      <script>\n",
              "        const buttonEl =\n",
              "          document.querySelector('#df-a6687a08-f101-41d9-8dcf-51be4037ba5e button.colab-df-convert');\n",
              "        buttonEl.style.display =\n",
              "          google.colab.kernel.accessAllowed ? 'block' : 'none';\n",
              "\n",
              "        async function convertToInteractive(key) {\n",
              "          const element = document.querySelector('#df-a6687a08-f101-41d9-8dcf-51be4037ba5e');\n",
              "          const dataTable =\n",
              "            await google.colab.kernel.invokeFunction('convertToInteractive',\n",
              "                                                     [key], {});\n",
              "          if (!dataTable) return;\n",
              "\n",
              "          const docLinkHtml = 'Like what you see? Visit the ' +\n",
              "            '<a target=\"_blank\" href=https://colab.research.google.com/notebooks/data_table.ipynb>data table notebook</a>'\n",
              "            + ' to learn more about interactive tables.';\n",
              "          element.innerHTML = '';\n",
              "          dataTable['output_type'] = 'display_data';\n",
              "          await google.colab.output.renderOutput(dataTable, element);\n",
              "          const docLink = document.createElement('div');\n",
              "          docLink.innerHTML = docLinkHtml;\n",
              "          element.appendChild(docLink);\n",
              "        }\n",
              "      </script>\n",
              "    </div>\n",
              "  </div>\n",
              "  "
            ]
          },
          "metadata": {},
          "execution_count": 115
        }
      ]
    },
    {
      "cell_type": "code",
      "source": [
        "customer_prob[customer_prob['diff_discount']>0]"
      ],
      "metadata": {
        "colab": {
          "base_uri": "https://localhost:8080/",
          "height": 424
        },
        "id": "qi-qp2PQfXJP",
        "outputId": "bf84e5e0-1693-41dd-d54c-4b77c1225de7"
      },
      "execution_count": null,
      "outputs": [
        {
          "output_type": "execute_result",
          "data": {
            "text/plain": [
              "                                     id     0     1  0_dis  1_dis  \\\n",
              "128    3c4ee938001975a4d07cf27a54de433c  0.67  0.33  0.888  0.112   \n",
              "139    cf8c5db0c02e3f92592daccba41c918c  0.60  0.40  0.782  0.218   \n",
              "217    b1e773762052b38569b1e68aaa10576e  0.39  0.61  0.576  0.424   \n",
              "230    9ca6298400dbc960a48a46aa6abd3db7  0.25  0.75  0.354  0.646   \n",
              "346    395a6f41bbd1a0f23a64f00645264e78  0.64  0.36  0.818  0.182   \n",
              "...                                 ...   ...   ...    ...    ...   \n",
              "14384  87ec37604794b702c77225967c20f476  0.64  0.36  0.864  0.136   \n",
              "14536  acfb0c97e40a86087f185d4846217966  0.68  0.32  0.862  0.138   \n",
              "14537  d77e823d24aa59beda5baa6bca37c903  0.63  0.37  0.846  0.154   \n",
              "14561  37f06f14bb662b84f4f464322dce72db  0.68  0.32  0.878  0.122   \n",
              "14576  40483e460b837001802f82213fd7f763  0.63  0.37  0.800  0.200   \n",
              "\n",
              "       expected_no_dis   expected_dis  diff_discount  \n",
              "128        3254.731758    3450.987225     196.255467  \n",
              "139      501505.138799  522902.691387   21397.552589  \n",
              "217        2692.006048    3180.708684     488.702636  \n",
              "230        2565.754701    2906.486925     340.732224  \n",
              "346        4439.209887    4539.092109      99.882222  \n",
              "...                ...            ...            ...  \n",
              "14384       215.637276     232.888258      17.250982  \n",
              "14536    213950.664602  216971.144572    3020.479971  \n",
              "14537       264.275878     283.907801      19.631922  \n",
              "14561      1118.446236    1155.289171      36.842935  \n",
              "14576      1426.078350    1448.714514      22.636164  \n",
              "\n",
              "[349 rows x 8 columns]"
            ],
            "text/html": [
              "\n",
              "  <div id=\"df-d5cefea3-af2e-4f4e-a90e-da376b6a25db\">\n",
              "    <div class=\"colab-df-container\">\n",
              "      <div>\n",
              "<style scoped>\n",
              "    .dataframe tbody tr th:only-of-type {\n",
              "        vertical-align: middle;\n",
              "    }\n",
              "\n",
              "    .dataframe tbody tr th {\n",
              "        vertical-align: top;\n",
              "    }\n",
              "\n",
              "    .dataframe thead th {\n",
              "        text-align: right;\n",
              "    }\n",
              "</style>\n",
              "<table border=\"1\" class=\"dataframe\">\n",
              "  <thead>\n",
              "    <tr style=\"text-align: right;\">\n",
              "      <th></th>\n",
              "      <th>id</th>\n",
              "      <th>0</th>\n",
              "      <th>1</th>\n",
              "      <th>0_dis</th>\n",
              "      <th>1_dis</th>\n",
              "      <th>expected_no_dis</th>\n",
              "      <th>expected_dis</th>\n",
              "      <th>diff_discount</th>\n",
              "    </tr>\n",
              "  </thead>\n",
              "  <tbody>\n",
              "    <tr>\n",
              "      <th>128</th>\n",
              "      <td>3c4ee938001975a4d07cf27a54de433c</td>\n",
              "      <td>0.67</td>\n",
              "      <td>0.33</td>\n",
              "      <td>0.888</td>\n",
              "      <td>0.112</td>\n",
              "      <td>3254.731758</td>\n",
              "      <td>3450.987225</td>\n",
              "      <td>196.255467</td>\n",
              "    </tr>\n",
              "    <tr>\n",
              "      <th>139</th>\n",
              "      <td>cf8c5db0c02e3f92592daccba41c918c</td>\n",
              "      <td>0.60</td>\n",
              "      <td>0.40</td>\n",
              "      <td>0.782</td>\n",
              "      <td>0.218</td>\n",
              "      <td>501505.138799</td>\n",
              "      <td>522902.691387</td>\n",
              "      <td>21397.552589</td>\n",
              "    </tr>\n",
              "    <tr>\n",
              "      <th>217</th>\n",
              "      <td>b1e773762052b38569b1e68aaa10576e</td>\n",
              "      <td>0.39</td>\n",
              "      <td>0.61</td>\n",
              "      <td>0.576</td>\n",
              "      <td>0.424</td>\n",
              "      <td>2692.006048</td>\n",
              "      <td>3180.708684</td>\n",
              "      <td>488.702636</td>\n",
              "    </tr>\n",
              "    <tr>\n",
              "      <th>230</th>\n",
              "      <td>9ca6298400dbc960a48a46aa6abd3db7</td>\n",
              "      <td>0.25</td>\n",
              "      <td>0.75</td>\n",
              "      <td>0.354</td>\n",
              "      <td>0.646</td>\n",
              "      <td>2565.754701</td>\n",
              "      <td>2906.486925</td>\n",
              "      <td>340.732224</td>\n",
              "    </tr>\n",
              "    <tr>\n",
              "      <th>346</th>\n",
              "      <td>395a6f41bbd1a0f23a64f00645264e78</td>\n",
              "      <td>0.64</td>\n",
              "      <td>0.36</td>\n",
              "      <td>0.818</td>\n",
              "      <td>0.182</td>\n",
              "      <td>4439.209887</td>\n",
              "      <td>4539.092109</td>\n",
              "      <td>99.882222</td>\n",
              "    </tr>\n",
              "    <tr>\n",
              "      <th>...</th>\n",
              "      <td>...</td>\n",
              "      <td>...</td>\n",
              "      <td>...</td>\n",
              "      <td>...</td>\n",
              "      <td>...</td>\n",
              "      <td>...</td>\n",
              "      <td>...</td>\n",
              "      <td>...</td>\n",
              "    </tr>\n",
              "    <tr>\n",
              "      <th>14384</th>\n",
              "      <td>87ec37604794b702c77225967c20f476</td>\n",
              "      <td>0.64</td>\n",
              "      <td>0.36</td>\n",
              "      <td>0.864</td>\n",
              "      <td>0.136</td>\n",
              "      <td>215.637276</td>\n",
              "      <td>232.888258</td>\n",
              "      <td>17.250982</td>\n",
              "    </tr>\n",
              "    <tr>\n",
              "      <th>14536</th>\n",
              "      <td>acfb0c97e40a86087f185d4846217966</td>\n",
              "      <td>0.68</td>\n",
              "      <td>0.32</td>\n",
              "      <td>0.862</td>\n",
              "      <td>0.138</td>\n",
              "      <td>213950.664602</td>\n",
              "      <td>216971.144572</td>\n",
              "      <td>3020.479971</td>\n",
              "    </tr>\n",
              "    <tr>\n",
              "      <th>14537</th>\n",
              "      <td>d77e823d24aa59beda5baa6bca37c903</td>\n",
              "      <td>0.63</td>\n",
              "      <td>0.37</td>\n",
              "      <td>0.846</td>\n",
              "      <td>0.154</td>\n",
              "      <td>264.275878</td>\n",
              "      <td>283.907801</td>\n",
              "      <td>19.631922</td>\n",
              "    </tr>\n",
              "    <tr>\n",
              "      <th>14561</th>\n",
              "      <td>37f06f14bb662b84f4f464322dce72db</td>\n",
              "      <td>0.68</td>\n",
              "      <td>0.32</td>\n",
              "      <td>0.878</td>\n",
              "      <td>0.122</td>\n",
              "      <td>1118.446236</td>\n",
              "      <td>1155.289171</td>\n",
              "      <td>36.842935</td>\n",
              "    </tr>\n",
              "    <tr>\n",
              "      <th>14576</th>\n",
              "      <td>40483e460b837001802f82213fd7f763</td>\n",
              "      <td>0.63</td>\n",
              "      <td>0.37</td>\n",
              "      <td>0.800</td>\n",
              "      <td>0.200</td>\n",
              "      <td>1426.078350</td>\n",
              "      <td>1448.714514</td>\n",
              "      <td>22.636164</td>\n",
              "    </tr>\n",
              "  </tbody>\n",
              "</table>\n",
              "<p>349 rows × 8 columns</p>\n",
              "</div>\n",
              "      <button class=\"colab-df-convert\" onclick=\"convertToInteractive('df-d5cefea3-af2e-4f4e-a90e-da376b6a25db')\"\n",
              "              title=\"Convert this dataframe to an interactive table.\"\n",
              "              style=\"display:none;\">\n",
              "        \n",
              "  <svg xmlns=\"http://www.w3.org/2000/svg\" height=\"24px\"viewBox=\"0 0 24 24\"\n",
              "       width=\"24px\">\n",
              "    <path d=\"M0 0h24v24H0V0z\" fill=\"none\"/>\n",
              "    <path d=\"M18.56 5.44l.94 2.06.94-2.06 2.06-.94-2.06-.94-.94-2.06-.94 2.06-2.06.94zm-11 1L8.5 8.5l.94-2.06 2.06-.94-2.06-.94L8.5 2.5l-.94 2.06-2.06.94zm10 10l.94 2.06.94-2.06 2.06-.94-2.06-.94-.94-2.06-.94 2.06-2.06.94z\"/><path d=\"M17.41 7.96l-1.37-1.37c-.4-.4-.92-.59-1.43-.59-.52 0-1.04.2-1.43.59L10.3 9.45l-7.72 7.72c-.78.78-.78 2.05 0 2.83L4 21.41c.39.39.9.59 1.41.59.51 0 1.02-.2 1.41-.59l7.78-7.78 2.81-2.81c.8-.78.8-2.07 0-2.86zM5.41 20L4 18.59l7.72-7.72 1.47 1.35L5.41 20z\"/>\n",
              "  </svg>\n",
              "      </button>\n",
              "      \n",
              "  <style>\n",
              "    .colab-df-container {\n",
              "      display:flex;\n",
              "      flex-wrap:wrap;\n",
              "      gap: 12px;\n",
              "    }\n",
              "\n",
              "    .colab-df-convert {\n",
              "      background-color: #E8F0FE;\n",
              "      border: none;\n",
              "      border-radius: 50%;\n",
              "      cursor: pointer;\n",
              "      display: none;\n",
              "      fill: #1967D2;\n",
              "      height: 32px;\n",
              "      padding: 0 0 0 0;\n",
              "      width: 32px;\n",
              "    }\n",
              "\n",
              "    .colab-df-convert:hover {\n",
              "      background-color: #E2EBFA;\n",
              "      box-shadow: 0px 1px 2px rgba(60, 64, 67, 0.3), 0px 1px 3px 1px rgba(60, 64, 67, 0.15);\n",
              "      fill: #174EA6;\n",
              "    }\n",
              "\n",
              "    [theme=dark] .colab-df-convert {\n",
              "      background-color: #3B4455;\n",
              "      fill: #D2E3FC;\n",
              "    }\n",
              "\n",
              "    [theme=dark] .colab-df-convert:hover {\n",
              "      background-color: #434B5C;\n",
              "      box-shadow: 0px 1px 3px 1px rgba(0, 0, 0, 0.15);\n",
              "      filter: drop-shadow(0px 1px 2px rgba(0, 0, 0, 0.3));\n",
              "      fill: #FFFFFF;\n",
              "    }\n",
              "  </style>\n",
              "\n",
              "      <script>\n",
              "        const buttonEl =\n",
              "          document.querySelector('#df-d5cefea3-af2e-4f4e-a90e-da376b6a25db button.colab-df-convert');\n",
              "        buttonEl.style.display =\n",
              "          google.colab.kernel.accessAllowed ? 'block' : 'none';\n",
              "\n",
              "        async function convertToInteractive(key) {\n",
              "          const element = document.querySelector('#df-d5cefea3-af2e-4f4e-a90e-da376b6a25db');\n",
              "          const dataTable =\n",
              "            await google.colab.kernel.invokeFunction('convertToInteractive',\n",
              "                                                     [key], {});\n",
              "          if (!dataTable) return;\n",
              "\n",
              "          const docLinkHtml = 'Like what you see? Visit the ' +\n",
              "            '<a target=\"_blank\" href=https://colab.research.google.com/notebooks/data_table.ipynb>data table notebook</a>'\n",
              "            + ' to learn more about interactive tables.';\n",
              "          element.innerHTML = '';\n",
              "          dataTable['output_type'] = 'display_data';\n",
              "          await google.colab.output.renderOutput(dataTable, element);\n",
              "          const docLink = document.createElement('div');\n",
              "          docLink.innerHTML = docLinkHtml;\n",
              "          element.appendChild(docLink);\n",
              "        }\n",
              "      </script>\n",
              "    </div>\n",
              "  </div>\n",
              "  "
            ]
          },
          "metadata": {},
          "execution_count": 116
        }
      ]
    },
    {
      "cell_type": "code",
      "source": [
        "# 2% of all cutomers\n",
        "customer_prob[customer_prob['diff_discount']>0].shape[0]/len(customer_prob)\n"
      ],
      "metadata": {
        "colab": {
          "base_uri": "https://localhost:8080/"
        },
        "id": "xuyrmgO8faFV",
        "outputId": "85473b98-4c11-4d47-a058-2e91ee278473"
      },
      "execution_count": null,
      "outputs": [
        {
          "output_type": "execute_result",
          "data": {
            "text/plain": [
              "0.023894290017800905"
            ]
          },
          "metadata": {},
          "execution_count": 117
        }
      ]
    },
    {
      "cell_type": "markdown",
      "source": [
        "Among the 104 predcited churning customers, after being offered discounted prices,\n",
        "\n",
        "the expected profit from 61 customers increase and total expected profit increase by 2250001.\n",
        "\n",
        "the expected profit from 43 customers decrease and total expected profit decrease by 1138753.\n",
        "\n",
        "So, it is expected that offering a discount to the predcited churning customers can bring extra profit of 1111248."
      ],
      "metadata": {
        "id": "fE8r8SNhfgkQ"
      }
    },
    {
      "cell_type": "code",
      "source": [
        "# number of churning customers\n",
        "customer_prob[(customer_prob['1']>0.5)].shape[0]"
      ],
      "metadata": {
        "colab": {
          "base_uri": "https://localhost:8080/"
        },
        "id": "8QQN21NffhMt",
        "outputId": "1da74637-3d15-41ff-f14f-16a1c32cbf52"
      },
      "execution_count": null,
      "outputs": [
        {
          "output_type": "execute_result",
          "data": {
            "text/plain": [
              "104"
            ]
          },
          "metadata": {},
          "execution_count": 118
        }
      ]
    },
    {
      "cell_type": "code",
      "source": [
        "# number of customers whose expected profit increase\n",
        "customer_prob[(customer_prob['diff_discount']>0)&(customer_prob['1']>0.5)].shape[0]"
      ],
      "metadata": {
        "colab": {
          "base_uri": "https://localhost:8080/"
        },
        "id": "jmaERa2OfkuL",
        "outputId": "4946c2ec-f771-4353-cda2-dfbba4e730b0"
      },
      "execution_count": null,
      "outputs": [
        {
          "output_type": "execute_result",
          "data": {
            "text/plain": [
              "61"
            ]
          },
          "metadata": {},
          "execution_count": 119
        }
      ]
    },
    {
      "cell_type": "code",
      "source": [
        "# number of customers whose expected profit decreas\n",
        "customer_prob[(customer_prob['diff_discount']<=0)&(customer_prob['1']>0.5)].shape[0]"
      ],
      "metadata": {
        "colab": {
          "base_uri": "https://localhost:8080/"
        },
        "id": "dW2ZjMQCfmzt",
        "outputId": "98c94589-1a9d-4cd0-a7b4-14ca3d0804ac"
      },
      "execution_count": null,
      "outputs": [
        {
          "output_type": "execute_result",
          "data": {
            "text/plain": [
              "43"
            ]
          },
          "metadata": {},
          "execution_count": 120
        }
      ]
    },
    {
      "cell_type": "code",
      "source": [
        "# total extra profit from customers whose expected profit increase\n",
        "customer_prob[(customer_prob['diff_discount']>0)&(customer_prob['1']>0.5)]['diff_discount'].sum()"
      ],
      "metadata": {
        "colab": {
          "base_uri": "https://localhost:8080/"
        },
        "id": "Ih37V_n2fohM",
        "outputId": "54664cb8-b799-480d-b13c-83240469ea05"
      },
      "execution_count": null,
      "outputs": [
        {
          "output_type": "execute_result",
          "data": {
            "text/plain": [
              "2250001.9519792725"
            ]
          },
          "metadata": {},
          "execution_count": 121
        }
      ]
    },
    {
      "cell_type": "code",
      "source": [
        "# total extra profit from customers whose expected profit decrease\n",
        "customer_prob[(customer_prob['diff_discount']<=0)&(customer_prob['1']>0.5)]['diff_discount'].sum()"
      ],
      "metadata": {
        "colab": {
          "base_uri": "https://localhost:8080/"
        },
        "id": "Au7dn97WfqWM",
        "outputId": "0c4b18e0-781b-4c3b-db62-13dd33ecac1c"
      },
      "execution_count": null,
      "outputs": [
        {
          "output_type": "execute_result",
          "data": {
            "text/plain": [
              "-1138753.308247779"
            ]
          },
          "metadata": {},
          "execution_count": 122
        }
      ]
    },
    {
      "cell_type": "code",
      "source": [
        "# total extra profit from predicted churning customers\n",
        "customer_prob[customer_prob['1']>0.5]['diff_discount'].sum()"
      ],
      "metadata": {
        "colab": {
          "base_uri": "https://localhost:8080/"
        },
        "id": "lb9A3072fsCN",
        "outputId": "6baf5699-900b-41ce-c2c2-a49e329b03da"
      },
      "execution_count": null,
      "outputs": [
        {
          "output_type": "execute_result",
          "data": {
            "text/plain": [
              "1111248.6437314935"
            ]
          },
          "metadata": {},
          "execution_count": 123
        }
      ]
    },
    {
      "cell_type": "markdown",
      "source": [
        "Based on the results above, it seems offering a discount to the predicted churning customers can increase the expected profit from these customers."
      ],
      "metadata": {
        "id": "YBnTGJoaft70"
      }
    }
  ]
}